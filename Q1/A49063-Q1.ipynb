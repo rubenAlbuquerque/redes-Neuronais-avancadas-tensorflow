{
 "cells": [
  {
   "cell_type": "markdown",
   "metadata": {},
   "source": [
    "# In-Class Quiz Nº 1"
   ]
  },
  {
   "cell_type": "markdown",
   "metadata": {},
   "source": [
    "<hr style=\"border:1px  solid black\"> </hr>"
   ]
  },
  {
   "attachments": {},
   "cell_type": "markdown",
   "metadata": {},
   "source": [
    "### (Fill in)\n",
    "## Name: ruben santos\n",
    "## Number: A49063"
   ]
  },
  {
   "cell_type": "markdown",
   "metadata": {},
   "source": [
    "<hr style=\"border:1px  solid black\"> </hr>"
   ]
  },
  {
   "cell_type": "markdown",
   "metadata": {},
   "source": [
    "## Develop and run the requested code in the cells immediately below the questions."
   ]
  },
  {
   "cell_type": "markdown",
   "metadata": {},
   "source": [
    "# IMPORTANT:\n",
    "## Once completed, save this Jupyter notebook with the following name:\n",
    "## Axxxxx-Q1.ipynb (Axxxxx: student number)\n",
    "##  and then upload the file to the Moodle link provided for that purpose."
   ]
  },
  {
   "cell_type": "markdown",
   "metadata": {},
   "source": [
    "<hr style=\"border:2px solid black\"> </hr>"
   ]
  },
  {
   "cell_type": "markdown",
   "metadata": {},
   "source": [
    "# Data: $\\texttt{WhiteWine.p}$ dataset.\n",
    "### Consider the dataset  divided into two sub-sets, training/testing, according to the commands in the next cell.\n",
    "* ### X1: training data ($1700\\times11$ array)\n",
    "* ### y1: classes of the training data\n",
    "* ### X2: test data (array de $1000\\times11$)\n",
    "* ### y2: classes of the test data"
   ]
  },
  {
   "cell_type": "code",
   "execution_count": 1,
   "metadata": {},
   "outputs": [],
   "source": [
    "import numpy as np\n",
    "import matplotlib.pyplot as plt\n",
    "import pickle\n",
    "from sklearn.model_selection import  train_test_split\n",
    "\n",
    "D=pickle.load(open('WhiteWine.p','rb'))\n",
    "X=D.data\n",
    "y=D.target\n",
    "\n",
    "#division int training and test sub-sets\n",
    "X1,X2,y1,y2=train_test_split(X,y,test_size=1000,stratify=y,random_state=42)"
   ]
  },
  {
   "attachments": {},
   "cell_type": "markdown",
   "metadata": {},
   "source": [
    "# Question 1: \n",
    "##  Consider a $\\texttt{RandomForestClassifier}$  with the following parameter $\\texttt{random\\_state=42}$. \n",
    "### a) Check which values for the parameters $\\texttt{n\\_estimators}$ and $\\texttt{max\\_depth}$ give the best score - use the function $\\texttt{GridSearchCV}$ with 3 folds on $\\texttt{X1}$. Test the following values for the parameter $\\texttt{n\\_estimators}$: 50, 75, 100 and 125 and for  $\\texttt{max\\_depth}$: 10 and 15. Print the best values.\n",
    "### b) Train the classifier with the best parameters, and print the total number of errors and the confusion matrix for the test data.¶\n",
    "### c) Calibrate the classifier in order to have approximately the same number of false negatives and false positives.\n",
    "### d) Plot the ROC curve of this classifier with the test data. Include in this plot the operational point of the classifiers in 1.b) and 1.c)."
   ]
  },
  {
   "cell_type": "code",
   "execution_count": 2,
   "metadata": {},
   "outputs": [
    {
     "data": {
      "text/plain": [
       "((1700, 11), (1000, 11), (1700,), (1000,))"
      ]
     },
     "execution_count": 2,
     "metadata": {},
     "output_type": "execute_result"
    }
   ],
   "source": [
    "X1.shape, X2.shape, y1.shape, y2.shape"
   ]
  },
  {
   "cell_type": "markdown",
   "metadata": {},
   "source": [
    "## 1.a)"
   ]
  },
  {
   "cell_type": "code",
   "execution_count": 3,
   "metadata": {
    "scrolled": true
   },
   "outputs": [
    {
     "data": {
      "text/plain": [
       "{'max_depth': 15, 'n_estimators': 75}"
      ]
     },
     "execution_count": 3,
     "metadata": {},
     "output_type": "execute_result"
    }
   ],
   "source": [
    "from sklearn.ensemble import RandomForestClassifier\n",
    "from sklearn.model_selection import GridSearchCV,StratifiedKFold,KFold\n",
    "\n",
    "nEst=np.array([50,75,100,125])\n",
    "mDepth=np.array([10,15])\n",
    "pD={'n_estimators':nEst,'max_depth':mDepth}\n",
    "\n",
    "cv=StratifiedKFold(n_splits=3,shuffle=True, random_state=42) # ja tem o conjunto de validacao\n",
    "rnd = RandomForestClassifier(random_state=42)\n",
    "gscv=GridSearchCV(rnd, pD, n_jobs=10, cv=cv)\n",
    "grid_search=gscv.fit(X1, y1)\n",
    "grid_search.best_params_"
   ]
  },
  {
   "cell_type": "markdown",
   "metadata": {},
   "source": [
    "## 1.b)"
   ]
  },
  {
   "cell_type": "code",
   "execution_count": 4,
   "metadata": {},
   "outputs": [
    {
     "name": "stdout",
     "output_type": "stream",
     "text": [
      "Number of errors:  106\n",
      "Confusion matrix: \n",
      " [[561  46]\n",
      " [ 60 333]]\n"
     ]
    }
   ],
   "source": [
    "from sklearn.metrics import confusion_matrix\n",
    "\n",
    "# Train the classifier with the best parameters, and print the total number of errors and the confusion matrix for the test data\n",
    "rnd = RandomForestClassifier(**grid_search.best_params_, n_jobs=10).fit(X1, y1)\n",
    "y2_pred = rnd.predict(X2)\n",
    "print('Number of errors: ', np.sum(y2_pred != y2))\n",
    "\n",
    "cm1 = confusion_matrix(y2, y2_pred)\n",
    "print('Confusion matrix: \\n', cm1)\n",
    "\n"
   ]
  },
  {
   "cell_type": "markdown",
   "metadata": {},
   "source": [
    "## 1.c)"
   ]
  },
  {
   "cell_type": "code",
   "execution_count": 5,
   "metadata": {},
   "outputs": [
    {
     "name": "stdout",
     "output_type": "stream",
     "text": [
      "Number of errors:  102\n",
      "Confusion matrix (with thresh): \n",
      " [[560  47]\n",
      " [ 55 338]]\n"
     ]
    }
   ],
   "source": [
    "# Calibrate the classifier in order to have approximately the same number of false negatives and false positives.\n",
    "\n",
    "rfc_pred = rnd.predict_proba(X2)[:, 1]\n",
    "thresh = 0.474\n",
    "y2_pred2 = (rfc_pred > thresh).astype(int)\n",
    "print('Number of errors: ', np.sum(y2_pred2 != y2))\n",
    "\n",
    "cm2 = confusion_matrix(y2, y2_pred2)\n",
    "print('Confusion matrix (with thresh): \\n', cm2)\n",
    "\n",
    "# calculate false positive rate and true positive rate of cm2 and cm1\n",
    "fpP1 = cm1[0,1]/(cm1[0,1]+cm1[0,0])\n",
    "tpP1 = cm1[1,1]/(cm1[1,1]+cm1[1,0])\n",
    "\n",
    "fpP2 = cm2[0,1]/(cm2[0,1]+cm2[0,0])\n",
    "tpP2 = cm2[1,1]/(cm2[1,1]+cm2[1,0])\n",
    "\n",
    "\n",
    "#    0   1\n",
    "# 0 [TN, FP]\n",
    "# 1 [FN, TP] \n",
    "\n",
    "# fp_rate = fp / (tn+ fp)\n",
    "# recall = tp / (tp + fn)\n"
   ]
  },
  {
   "cell_type": "markdown",
   "metadata": {},
   "source": [
    "## 1.d)"
   ]
  },
  {
   "cell_type": "code",
   "execution_count": 8,
   "metadata": {},
   "outputs": [
    {
     "data": {
      "image/png": "[encoded data removed]",
      "text/plain": [
       "<Figure size 640x480 with 1 Axes>"
      ]
     },
     "metadata": {},
     "output_type": "display_data"
    }
   ],
   "source": [
    "# Plot the ROC curve of this classifier with the test data. \n",
    "# Include in this plot the operational point of the classifiers in 1.b) and 1.c).\n",
    "from sklearn.metrics import roc_curve\n",
    "\n",
    "\n",
    "fpr, tpr, thresholds = roc_curve(y2, rfc_pred)\n",
    "plt.plot(fpr, tpr)\n",
    "plt.plot(fpP1, tpP1, 'ro')\n",
    "plt.plot(fpP2, tpP2, 'bo')\n",
    "plt.xlabel('False Positive Rate')\n",
    "plt.ylabel('True Positive Rate')\n",
    "plt.title('ROC Curve')\n",
    "plt.show()  \n",
    "\n"
   ]
  },
  {
   "cell_type": "markdown",
   "metadata": {},
   "source": [
    "<hr style=\"border:2px solid black\"> </hr>"
   ]
  },
  {
   "cell_type": "markdown",
   "metadata": {},
   "source": [
    "# Question 2 - SVMs:\n",
    "## Consider a $\\texttt{SVC}$ classifier with the following parameters: $\\texttt{kernel='rbf'}$ and $\\texttt{C=2}$.\n",
    "### a) Train the $\\texttt{SVC}$ classifier with the training data print the confusion matrix and the total number of errors for the test data.\n",
    "### b) Preprocess the data using the function  $\\texttt{StandardScaler}$, and train the $\\texttt{SVC}$ classifier with the training data print the confusion matrix and the total number of errors for the test data.\n",
    "### c) For the test data, plot the ROC curves and the Precision and Recall curves for both classifiers (2 curves per figure). Include in these plots the operating point of the classifiers.\n"
   ]
  },
  {
   "cell_type": "markdown",
   "metadata": {},
   "source": [
    "## 2.a)"
   ]
  },
  {
   "cell_type": "code",
   "execution_count": 9,
   "metadata": {},
   "outputs": [
    {
     "name": "stdout",
     "output_type": "stream",
     "text": [
      "Number of errors:  236\n",
      "Confusion matrix: \n",
      " [[526  81]\n",
      " [155 238]]\n"
     ]
    }
   ],
   "source": [
    "# Consider a SVC$ classifier with the following parameters: kernel='rbf' and $\\texttt{C=2}$\n",
    "# Train the $\\texttt{SVC}$ classifier with the training data print the confusion matrix and the total number of errors for the test data.\n",
    "\n",
    "from sklearn.svm import SVC\n",
    "\n",
    "svc = SVC(kernel='rbf', C=2).fit(X1, y1)\n",
    "y2_pred = svc.predict(X2)\n",
    "print('Number of errors: ', np.sum(y2_pred != y2))\n",
    "\n",
    "cm3 = confusion_matrix(y2, y2_pred)\n",
    "print('Confusion matrix: \\n', cm3)\n",
    "\n",
    "fpP3 = cm3[0,1]/(cm3[0,1]+cm3[0,0]) # ponto 3 - dos dados nao normalizados\n",
    "tpP3 = cm3[1,1]/(cm3[1,1]+cm3[1,0])\n"
   ]
  },
  {
   "cell_type": "markdown",
   "metadata": {},
   "source": [
    "## 2.b)"
   ]
  },
  {
   "cell_type": "code",
   "execution_count": 10,
   "metadata": {},
   "outputs": [
    {
     "name": "stdout",
     "output_type": "stream",
     "text": [
      "Number of errors:  124\n",
      "Confusion matrix: \n",
      " [[542  65]\n",
      " [ 59 334]]\n"
     ]
    }
   ],
   "source": [
    "# Preprocess the data using the function  $\\texttt{StandardScaler}$, and train the $\\texttt{SVC}$ \n",
    "# classifier with the training data print the confusion matrix and the total number of errors for the test data.\n",
    "\n",
    "from sklearn.preprocessing import StandardScaler\n",
    "\n",
    "scaler = StandardScaler().fit(X1)\n",
    "X1_scaled = scaler.transform(X1)\n",
    "X2_scaled = scaler.transform(X2)\n",
    "\n",
    "svc = SVC(kernel='rbf', C=2).fit(X1_scaled, y1)\n",
    "y2_pred = svc.predict(X2_scaled)\n",
    "print('Number of errors: ', np.sum(y2_pred != y2))\n",
    "\n",
    "cm4 = confusion_matrix(y2, y2_pred)\n",
    "print('Confusion matrix: \\n', cm4)\n",
    "\n",
    "fpP4 = cm4[0,1]/(cm4[0,1]+cm4[0,0]) # ponto 4 - dos dados Normalizados\n",
    "tpP4 = cm4[1,1]/(cm4[1,1]+cm4[1,0])\n",
    "\n"
   ]
  },
  {
   "cell_type": "markdown",
   "metadata": {},
   "source": [
    "## 2.c)"
   ]
  },
  {
   "cell_type": "code",
   "execution_count": 12,
   "metadata": {},
   "outputs": [
    {
     "data": {
      "image/png": "[encoded data removed]",
      "text/plain": [
       "<Figure size 640x480 with 1 Axes>"
      ]
     },
     "metadata": {},
     "output_type": "display_data"
    },
    {
     "data": {
      "image/png": "[encoded data removed]",
      "text/plain": [
       "<Figure size 640x480 with 1 Axes>"
      ]
     },
     "metadata": {},
     "output_type": "display_data"
    }
   ],
   "source": [
    "# For the test data, plot the ROC curves and the Precision and Recall curves for both classifiers (2 curves per figure). \n",
    "# Include in these plots the operating point of the classifiers.\n",
    "\n",
    "from sklearn.metrics import precision_recall_curve\n",
    "# plot the points for each classifier\n",
    "\n",
    "rfc_pred = rnd.predict_proba(X2)[:, 1]\n",
    "fpr1, tpr1, thresholds1 = roc_curve(y2, rfc_pred)\n",
    "\n",
    "svc_pred = svc.decision_function(X2_scaled)\n",
    "fpr2, tpr2, thresholds2 = roc_curve(y2, svc_pred)\n",
    "\n",
    "# calculate the precision and recall of cm1, cm2, cm3 and cm4\n",
    "presicionP1 = cm1[1,1]/(cm1[1,1]+cm1[0,1])\n",
    "recallP1 = cm1[1,1]/(cm1[1,1]+cm1[1,0])\n",
    "\n",
    "presicionP2 = cm2[1,1]/(cm2[1,1]+cm2[0,1])\n",
    "recallP2 = cm2[1,1]/(cm2[1,1]+cm2[1,0])\n",
    "\n",
    "presicionP3 = cm3[1,1]/(cm3[1,1]+cm3[0,1]) \n",
    "recallP3 = cm3[1,1]/(cm3[1,1]+cm3[1,0])\n",
    "\n",
    "presicionP4 = cm4[1,1]/(cm4[1,1]+cm4[0,1])\n",
    "recallP4 = cm4[1,1]/(cm4[1,1]+cm4[1,0])\n",
    "\n",
    "\n",
    "plt.plot(fpr1, tpr1)\n",
    "plt.plot(fpr2, tpr2)\n",
    "plt.plot(fpP1, tpP1, 'ro')\n",
    "plt.plot(fpP2, tpP2, 'bo')\n",
    "plt.plot(fpP3, tpP3, 'go')\n",
    "plt.plot(fpP4, tpP4, 'yo')\n",
    "\n",
    "plt.xlabel('False Positive Rate')\n",
    "plt.ylabel('True Positive Rate')\n",
    "plt.title('ROC Curve')\n",
    "plt.show()  \n",
    "\n",
    "precision1, recall1, thresholds1 = precision_recall_curve(y2, rfc_pred)\n",
    "precision2, recall2, thresholds2 = precision_recall_curve(y2, svc_pred)\n",
    "\n",
    "plt.plot(recall1, precision1)\n",
    "plt.plot(recall2, precision2)\n",
    "plt.plot(recallP1, presicionP1, 'ro')\n",
    "plt.plot(recallP2, presicionP2, 'bo')\n",
    "plt.plot(recallP3, presicionP3, 'go') # ponto 3, é referente ao classificador sem normalização por isso nao esta na curva roc e precision-recall\n",
    "plt.plot(recallP4, presicionP4, 'yo')\n",
    "\n",
    "plt.xlabel('Recall')\n",
    "plt.ylabel('Precision')\n",
    "plt.title('Precision-Recall Curve')\n",
    "plt.show()\n"
   ]
  },
  {
   "cell_type": "code",
   "execution_count": null,
   "metadata": {},
   "outputs": [],
   "source": []
  }
 ],
 "metadata": {
  "kernelspec": {
   "display_name": "Python 3",
   "language": "python",
   "name": "python3"
  },
  "language_info": {
   "codemirror_mode": {
    "name": "ipython",
    "version": 3
   },
   "file_extension": ".py",
   "mimetype": "text/x-python",
   "name": "python",
   "nbconvert_exporter": "python",
   "pygments_lexer": "ipython3",
   "version": "3.9.13"
  }
 },
 "nbformat": 4,
 "nbformat_minor": 4
}
