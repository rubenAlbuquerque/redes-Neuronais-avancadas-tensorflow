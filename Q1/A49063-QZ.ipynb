{
 "cells": [
  {
   "cell_type": "code",
   "execution_count": 9,
   "metadata": {},
   "outputs": [],
   "source": [
    "import numpy as np\n",
    "import matplotlib.pyplot as plt\n",
    "from sklearn.metrics import confusion_matrix, roc_curve\n",
    "from sklearn.model_selection import train_test_split\n",
    "import sklearn.datasets as DT\n",
    "from sklearn.svm import SVC\n",
    "from sklearn.linear_model import LogisticRegression\n",
    "\n",
    "D = DT.load_breast_cancer()\n",
    "X = D.data\n",
    "y = D.target\n",
    "\n",
    "################################################################\n",
    "# Consider malignant cases as positive (class 1)\n",
    "# Need to invert classes\n",
    "y = np.abs(y - 1)\n",
    "################################################################\n",
    "\n",
    "# division int training and test sub-sets\n",
    "X1, X2, y1, y2 = train_test_split(X, y, test_size=169, stratify=y, random_state=42)"
   ]
  },
  {
   "attachments": {},
   "cell_type": "markdown",
   "metadata": {},
   "source": [
    "## Question 1: Logistic Discriminants\n",
    "####  Consider a logistic discriminant with the following parameters {C=2}$, {solver='saga'}$, $\\texttt{penalty='l1'}$ and {max_iter=5000}$. Train the classifier with the training set.\n",
    "##### a) Print the total number of errors and the confusion matrix  (non-normalized) of this classifier for the test set."
   ]
  },
  {
   "cell_type": "code",
   "execution_count": 10,
   "metadata": {},
   "outputs": [
    {
     "name": "stdout",
     "output_type": "stream",
     "text": [
      "Total number of errors 13\n",
      "Confusion Matrix:\n",
      "[[105   1]\n",
      " [ 12  51]]\n"
     ]
    }
   ],
   "source": [
    "logD = LogisticRegression(penalty=\"l1\", solver=\"saga\", C=2, max_iter=5000).fit(X1, y1)\n",
    "y2e = logD.predict(X2)\n",
    "print(\"Total number of errors\", np.sum(y2 != y2e))\n",
    "print(\"Confusion Matrix:\")\n",
    "print(confusion_matrix(y2, y2e))"
   ]
  },
  {
   "attachments": {},
   "cell_type": "markdown",
   "metadata": {},
   "source": [
    "##### b) Calibrate this classifier in order to have a maximum number of false negatives in the test less than or equal to 5, while keeping the total number of errors below 15.¶"
   ]
  },
  {
   "cell_type": "code",
   "execution_count": 18,
   "metadata": {},
   "outputs": [
    {
     "name": "stdout",
     "output_type": "stream",
     "text": [
      "Total number of errors 14\n",
      "Confusion Matrix:\n",
      "[[97  9]\n",
      " [ 5 58]]\n"
     ]
    }
   ],
   "source": [
    "y2c = logD.decision_function(X2)\n",
    "thresh = -1.5\n",
    "print(\"Total number of errors\", np.sum(y2 != (y2c > thresh)))\n",
    "print(\"Confusion Matrix:\")\n",
    "print(confusion_matrix(y2, y2c > thresh))"
   ]
  },
  {
   "attachments": {},
   "cell_type": "markdown",
   "metadata": {},
   "source": [
    "##### c) Plot the ROC curve of this classifier with the test data. Include in this plot the operational point of the classifiers in items 1.a) and 1.b)."
   ]
  },
  {
   "cell_type": "code",
   "execution_count": 22,
   "metadata": {},
   "outputs": [
    {
     "data": {
      "text/plain": [
       "Text(0, 0.5, 'TP-rate')"
      ]
     },
     "execution_count": 22,
     "metadata": {},
     "output_type": "execute_result"
    },
    {
     "data": {
      "image/png": "[encoded data removed]",
      "text/plain": [
       "<Figure size 600x600 with 1 Axes>"
      ]
     },
     "metadata": {},
     "output_type": "display_data"
    }
   ],
   "source": [
    "fpr, tpr, t = roc_curve(y2, y2c)\n",
    "\n",
    "# Classificador 1\n",
    "# fp-rate=FP/(FP+TN)\n",
    "p11 = 1 / (105 + 1)\n",
    "# tp-rate=TP/(TP+FN)\n",
    "p12 = 51 / (51 + 12)\n",
    "\n",
    "# Classificador 2\n",
    "# fp-rate=FP/(FP+TN)\n",
    "p21 = 9 / (97 + 9)\n",
    "# tp-rate=TP/(TP+FN)\n",
    "p22 = 58 / (5 + 58)\n",
    "\n",
    "plt.figure(figsize=(6, 6))\n",
    "plt.plot(p11, p12, \"ok\")\n",
    "plt.plot(p21, p22, \"or\")\n",
    "\n",
    "plt.plot(fpr, tpr)\n",
    "plt.axis(\"scaled\")\n",
    "plt.grid(True)\n",
    "plt.title(\"ROC curve\")\n",
    "plt.xlabel(\"FP-rate\")\n",
    "plt.ylabel(\"TP-rate\")"
   ]
  },
  {
   "attachments": {},
   "cell_type": "markdown",
   "metadata": {},
   "source": [
    "## Question 2 - SVMs:\n",
    "#### Consider a $\\texttt{SVC}$ classifier with the following parameters: $\\texttt{kernel='rbf'}$ and $\\texttt{C=2}$.\n",
    "##### a) Preprocess the data using the function  $\\texttt{StandardScaler}$. Train this function with the training data and apply the transformation to the training and test sets. Use the pre-processed data in the following items."
   ]
  },
  {
   "cell_type": "code",
   "execution_count": 6,
   "metadata": {},
   "outputs": [],
   "source": [
    "from sklearn.preprocessing import StandardScaler\n",
    "\n",
    "sc = StandardScaler().fit(X1)\n",
    "X1n = sc.transform(X1)\n",
    "X2n = sc.transform(X2)"
   ]
  },
  {
   "attachments": {},
   "cell_type": "markdown",
   "metadata": {},
   "source": [
    "##### b) Train the $\\texttt{SVC}$ classifier with the training data and plot the ROC curve of this classifier with the test data. Include in this plot the operating point of the classifier."
   ]
  },
  {
   "cell_type": "code",
   "execution_count": 7,
   "metadata": {},
   "outputs": [
    {
     "name": "stdout",
     "output_type": "stream",
     "text": [
      "[[106   0]\n",
      " [  3  60]]\n"
     ]
    },
    {
     "data": {
      "image/png": "[encoded data removed]",
      "text/plain": [
       "<Figure size 600x600 with 1 Axes>"
      ]
     },
     "metadata": {},
     "output_type": "display_data"
    }
   ],
   "source": [
    "svm = SVC(kernel=\"rbf\", C=2).fit(X1n, y1)\n",
    "y2c = svm.decision_function(X2n)\n",
    "fpr, tpr, t = roc_curve(y2, y2c)\n",
    "\n",
    "print(confusion_matrix(y2, svm.predict(X2n)))\n",
    "\n",
    "# fp-rate=FP/(FP+TN)\n",
    "p1 = 0\n",
    "# tp-rate=TP/(TP+FN)\n",
    "p2 = 60 / (3 + 60)\n",
    "\n",
    "plt.figure(figsize=(6, 6))\n",
    "plt.plot(p1, p2, \"ok\")\n",
    "plt.plot(fpr, tpr)\n",
    "plt.axis(\"scaled\")\n",
    "plt.grid(True)"
   ]
  },
  {
   "attachments": {},
   "cell_type": "markdown",
   "metadata": {},
   "source": [
    "##### c)  Calibrate the classifier from the previous section to obtain one (1) false negative in the test data. After calibration, what is the minimum number of false positives obtained in the test set?¶"
   ]
  },
  {
   "cell_type": "code",
   "execution_count": 8,
   "metadata": {},
   "outputs": [
    {
     "name": "stdout",
     "output_type": "stream",
     "text": [
      "[[104   2]\n",
      " [  1  62]]\n",
      "Number of false positives = 2\n"
     ]
    }
   ],
   "source": [
    "print(confusion_matrix(y2, y2c >= -0.35))\n",
    "print(\"Number of false positives = 2\")"
   ]
  },
  {
   "cell_type": "code",
   "execution_count": null,
   "metadata": {},
   "outputs": [],
   "source": []
  }
 ],
 "metadata": {
  "kernelspec": {
   "display_name": "base",
   "language": "python",
   "name": "python3"
  },
  "language_info": {
   "codemirror_mode": {
    "name": "ipython",
    "version": 3
   },
   "file_extension": ".py",
   "mimetype": "text/x-python",
   "name": "python",
   "nbconvert_exporter": "python",
   "pygments_lexer": "ipython3",
   "version": "3.9.13"
  },
  "orig_nbformat": 4
 },
 "nbformat": 4,
 "nbformat_minor": 2
}
