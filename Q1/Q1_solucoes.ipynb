{
  "cells": [
    {
      "cell_type": "markdown",
      "metadata": {
        "id": "6rOwCrmxytR7"
      },
      "source": [
        "# In-Class Quiz Nº 1"
      ]
    },
    {
      "cell_type": "markdown",
      "metadata": {
        "id": "rvxKEILsytSB"
      },
      "source": [
        "<hr style=\"border:1px  solid black\"> </hr>"
      ]
    },
    {
      "cell_type": "markdown",
      "metadata": {
        "id": "qyxPboQgytSC"
      },
      "source": [
        "### (Fill in)\n",
        "## Name: \n",
        "## Number: "
      ]
    },
    {
      "cell_type": "markdown",
      "metadata": {
        "id": "tL4DVit7ytSD"
      },
      "source": [
        "<hr style=\"border:1px  solid black\"> </hr>"
      ]
    },
    {
      "cell_type": "markdown",
      "metadata": {
        "id": "1SrrNW3IytSE"
      },
      "source": [
        "## Develop and run the requested code in the cells immediately below the questions."
      ]
    },
    {
      "cell_type": "markdown",
      "metadata": {
        "id": "qgv6AJJfytSE"
      },
      "source": [
        "# IMPORTANTE:\n",
        "## Once completed, save this Jupyter notebook with the following name:\n",
        "## Axxxxx-Q1.ipynb (Axxxxx: student number)\n",
        "##  and then upload the file to the Moodle link provided for that purpose."
      ]
    },
    {
      "cell_type": "markdown",
      "metadata": {
        "id": "doyWaic7ytSF"
      },
      "source": [
        "<hr style=\"border:2px solid black\"> </hr>"
      ]
    },
    {
      "cell_type": "markdown",
      "metadata": {
        "id": "9saNFxxDytSF"
      },
      "source": [
        "# Data: $\\texttt{breast_cancer}$ dataset of $\\texttt{sklearn}$\n",
        "### Consider the $\\texttt{breast_cancer}$ dataset of $\\texttt{sklearn}$, divided into two sub-sets, training/testing, according to the commands in the next cell.\n",
        "* ### X1: training data ($400\\times30$ array)\n",
        "* ### y1: classes of the training data\n",
        "* ### X2: test data (array de $169\\times30$)\n",
        "* ### y2: classes of the test data"
      ]
    },
    {
      "cell_type": "code",
      "execution_count": null,
      "metadata": {
        "id": "ClFwpsngytSG"
      },
      "outputs": [],
      "source": [
        "import numpy as np\n",
        "import matplotlib.pyplot as plt\n",
        "from sklearn.metrics import confusion_matrix, roc_curve\n",
        "from sklearn.model_selection import train_test_split\n",
        "import sklearn.datasets as DT\n",
        "from sklearn.svm import SVC\n",
        "from sklearn.linear_model import LogisticRegression\n",
        "\n",
        "D = DT.load_breast_cancer()\n",
        "X = D.data\n",
        "y = D.target\n",
        "\n",
        "################################################################\n",
        "# Consider malignant cases as positive (class 1)\n",
        "# Need to invert classes\n",
        "y = np.abs(y - 1)\n",
        "################################################################\n",
        "\n",
        "# division int training and test sub-sets\n",
        "X1, X2, y1, y2 = train_test_split(X, y, test_size=169, stratify=y, random_state=42)\n"
      ]
    },
    {
      "cell_type": "code",
      "source": [],
      "metadata": {
        "id": "obUgGjpo0rvV"
      },
      "execution_count": null,
      "outputs": []
    },
    {
      "cell_type": "markdown",
      "metadata": {
        "id": "QxGKbmxEytSH"
      },
      "source": [
        "# Question 1: Logistic Discriminants\n",
        "##  Consider a logistic discriminant with the following parameters $\\texttt{C=2}$, $\\texttt{solver='saga'}$, $\\texttt{penalty='l1'}$ and $\\texttt{max_iter=5000}$. Train the classifier with the training set.\n",
        "### a) Print the total number of errors and the confusion matrix  (non-normalized) of this classifier for the test set.\n",
        "### b) Calibrate this classifier in order to have a maximum number of false negatives in the test less than or equal to 5, while keeping the total number of errors below 15.¶\n",
        "### c) Plot the ROC curve of this classifier with the test data. Include in this plot the operational point of the classifiers in items 1.a) and 1.b)."
      ]
    },
    {
      "cell_type": "markdown",
      "metadata": {
        "id": "_xTeMQydytSI"
      },
      "source": [
        "## 1.a)"
      ]
    },
    {
      "cell_type": "code",
      "execution_count": null,
      "metadata": {
        "scrolled": true,
        "id": "60eSnNkwytSI",
        "outputId": "d4936e68-8a35-4605-97ce-d6c24e6a4eaa",
        "colab": {
          "base_uri": "https://localhost:8080/"
        }
      },
      "outputs": [
        {
          "output_type": "stream",
          "name": "stdout",
          "text": [
            "Total number of errors 13\n",
            "Confusion Matrix:\n",
            "[[105   1]\n",
            " [ 12  51]]\n"
          ]
        }
      ],
      "source": [
        "logD = LogisticRegression(penalty=\"l1\", solver=\"saga\", C=2, max_iter=5000).fit(X1, y1)\n",
        "y2e = logD.predict(X2)\n",
        "print(\"Total number of errors\", np.sum(y2 != y2e))\n",
        "print(\"Confusion Matrix:\")\n",
        "print(confusion_matrix(y2, y2e))\n",
        "\n"
      ]
    },
    {
      "cell_type": "markdown",
      "metadata": {
        "id": "-LwzC0xbytSK"
      },
      "source": [
        "## 1.b)"
      ]
    },
    {
      "cell_type": "code",
      "source": [
        "y2c = logD.decision_function(X2)\n",
        "min(y2c),max(y2c) "
      ],
      "metadata": {
        "colab": {
          "base_uri": "https://localhost:8080/"
        },
        "id": "TMkoL9Z9WEgm",
        "outputId": "7dc26ada-57e3-44ca-cfe8-c077d03346bd"
      },
      "execution_count": null,
      "outputs": [
        {
          "output_type": "execute_result",
          "data": {
            "text/plain": [
              "(-5.084149955547839, 68.07773372059916)"
            ]
          },
          "metadata": {},
          "execution_count": 15
        }
      ]
    },
    {
      "cell_type": "code",
      "execution_count": null,
      "metadata": {
        "id": "w7wtOGVTytSK",
        "outputId": "93fad21b-c60d-47f5-9759-bca8cb10c9c6",
        "colab": {
          "base_uri": "https://localhost:8080/"
        }
      },
      "outputs": [
        {
          "output_type": "stream",
          "name": "stdout",
          "text": [
            "Total number of errors 15\n",
            "Confusion Matrix:\n",
            "[[96 10]\n",
            " [ 5 58]]\n"
          ]
        }
      ],
      "source": [
        "y2c = logD.decision_function(X2)\n",
        "thresh = -1.55\n",
        "print(\"Total number of errors\", np.sum(y2 != (y2c > thresh)))\n",
        "print(\"Confusion Matrix:\")\n",
        "print(confusion_matrix(y2, y2c > thresh))\n",
        "# (tn, fp), (fn, tp) = confusion_matrix(y2, y2c > thresh)\n",
        "\n",
        "# [TN, FP]\n",
        "# [FN, TP] \n",
        "\n",
        "(tn, fp), (fn, tp) = confusion_matrix(y2, y2c > thresh)\n",
        "fp_rate = fp / (tn+ fp)\n",
        "recall = tp / (tp + fn)\n",
        "\n",
        "precision = tp / (tp + fp)\n",
        "\n",
        "# f1 = CM[0,1] / (CM[0,1] + CM[0,0])\n",
        "# r1 = CM[1,1] / (CM[1,1] + CM[1,0])\n",
        "# p1 = CM[1,1] / (CM[1,1] + CM[0,1])\n",
        "\n",
        "# print(fp_rate, recall)"
      ]
    },
    {
      "cell_type": "markdown",
      "metadata": {
        "id": "OxXnRLXgytSL"
      },
      "source": [
        "## 1.c)"
      ]
    },
    {
      "cell_type": "code",
      "execution_count": null,
      "metadata": {
        "scrolled": false,
        "id": "NrR-1F_ZytSL",
        "outputId": "82dd9271-5518-4eb0-f240-0eb0b51430dd",
        "colab": {
          "base_uri": "https://localhost:8080/",
          "height": 422
        }
      },
      "outputs": [
        {
          "output_type": "stream",
          "name": "stdout",
          "text": [
            "0.08490566037735849 0.9206349206349206\n"
          ]
        },
        {
          "output_type": "display_data",
          "data": {
            "text/plain": [
              "<Figure size 432x432 with 1 Axes>"
            ],
            "image/png": "[encoded data removed]"
          },
          "metadata": {
            "needs_background": "light"
          }
        }
      ],
      "source": [
        "fpr, tpr, t = roc_curve(y2, y2c)\n",
        "\n",
        "# Classificador 1\n",
        "# fp-rate=FP/(FP+TN)\n",
        "p11 = 1 / (105 + 1)\n",
        "# tp-rate=TP/(TP+FN)\n",
        "p12 = 51 / (51 + 12)\n",
        "\n",
        "# Classificador 2\n",
        "# fp-rate=FP/(FP+TN)\n",
        "p21 = 9 / (97 + 9)\n",
        "# tp-rate=TP/(TP+FN)\n",
        "p22 = 58 / (5 + 58)\n",
        "\n",
        "print(p21, p22)\n",
        "\n",
        "plt.figure(figsize=(6, 6))\n",
        "# plt.plot(p11, p12, \"ok\")\n",
        "plt.plot(p21, p22, \"or\")\n",
        "\n",
        "plt.plot(p11, p12, \"ok\") \n",
        "plt.plot(fp_rate, recall, \"oy\")\n",
        "\n",
        "plt.plot(fpr, tpr)\n",
        "plt.axis(\"scaled\")\n",
        "plt.grid(True)\n",
        "plt.title(\"ROC curve\")\n",
        "plt.xlabel(\"FP-rate\")\n",
        "plt.ylabel(\"TP-rate\")\n",
        "plt.show()\n"
      ]
    },
    {
      "cell_type": "markdown",
      "metadata": {
        "id": "81ZzfUApytSL"
      },
      "source": [
        "<hr style=\"border:2px solid black\"> </hr>"
      ]
    },
    {
      "cell_type": "markdown",
      "metadata": {
        "id": "wMe_yWp4ytSM"
      },
      "source": [
        "# Question 2 - SVMs:\n",
        "## Consider a $\\texttt{SVC}$ classifier with the following parameters: $\\texttt{kernel='rbf'}$ and $\\texttt{C=2}$.\n",
        "### a) Preprocess the data using the function  $\\texttt{StandardScaler}$. Train this function with the training data and apply the transformation to the training and test sets. Use the pre-processed data in the following items.\n",
        "### b) Train the $\\texttt{SVC}$ classifier with the training data and plot the ROC curve of this classifier with the test data. Include in this plot the operating point of the classifier.\n",
        "### c)  Calibrate the classifier from the previous section to obtain one (1) false negative in the test data. After calibration, what is the minimum number of false positives obtained in the test set?¶"
      ]
    },
    {
      "cell_type": "markdown",
      "metadata": {
        "id": "23kjkD6FytSM"
      },
      "source": [
        "## 2.a)"
      ]
    },
    {
      "cell_type": "markdown",
      "source": [],
      "metadata": {
        "id": "VJ56ss3NHwaD"
      }
    },
    {
      "cell_type": "code",
      "execution_count": null,
      "metadata": {
        "id": "waQ9A9VtytSM"
      },
      "outputs": [],
      "source": [
        "from sklearn.preprocessing import StandardScaler\n",
        "\n",
        "sc = StandardScaler().fit(X1)\n",
        "X1n = sc.transform(X1)\n",
        "X2n = sc.transform(X2)\n"
      ]
    },
    {
      "cell_type": "markdown",
      "metadata": {
        "id": "Ik9T9XoJytSM"
      },
      "source": [
        "## 2.b)"
      ]
    },
    {
      "cell_type": "code",
      "execution_count": null,
      "metadata": {
        "id": "9_-CKZq5ytSM",
        "outputId": "d9bf0735-a72c-47fb-ed74-9402f494cda5",
        "colab": {
          "base_uri": "https://localhost:8080/",
          "height": 411
        }
      },
      "outputs": [
        {
          "output_type": "stream",
          "name": "stdout",
          "text": [
            "[[106   0]\n",
            " [  3  60]]\n"
          ]
        },
        {
          "output_type": "display_data",
          "data": {
            "text/plain": [
              "<Figure size 432x432 with 1 Axes>"
            ],
            "image/png": "[encoded data removed]"
          },
          "metadata": {
            "needs_background": "light"
          }
        }
      ],
      "source": [
        "svm = SVC(kernel=\"rbf\", C=2).fit(X1n, y1)\n",
        "y2c = svm.decision_function(X2n)\n",
        "fpr, tpr, t = roc_curve(y2, y2c)\n",
        "\n",
        "print(confusion_matrix(y2, svm.predict(X2n)))\n",
        "\n",
        "# fp-rate=FP/(FP+TN)\n",
        "p1 = 0\n",
        "# tp-rate=TP/(TP+FN)\n",
        "p2 = 60 / (3 + 60)\n",
        "\n",
        "plt.figure(figsize=(6, 6))\n",
        "plt.plot(p1, p2, \"ok\")\n",
        "plt.plot(fpr, tpr)\n",
        "plt.axis(\"scaled\")\n",
        "plt.grid(True)\n"
      ]
    },
    {
      "cell_type": "markdown",
      "metadata": {
        "id": "ys_rdQC1ytSN"
      },
      "source": [
        "## 2.c)"
      ]
    },
    {
      "cell_type": "code",
      "execution_count": null,
      "metadata": {
        "scrolled": false,
        "id": "NQbRqJgQytSN",
        "outputId": "c9d78aa4-b091-4467-bc9c-d59e8edc395b"
      },
      "outputs": [
        {
          "name": "stdout",
          "output_type": "stream",
          "text": [
            "[[104   2]\n",
            " [  1  62]]\n",
            "Number of false positives = 2\n"
          ]
        }
      ],
      "source": [
        "print(confusion_matrix(y2, y2c >= -0.35))\n",
        "print(\"Number of false positives = 2\")\n"
      ]
    },
    {
      "cell_type": "code",
      "source": [],
      "metadata": {
        "id": "d77WQQBl43-l"
      },
      "execution_count": null,
      "outputs": []
    },
    {
      "cell_type": "code",
      "source": [],
      "metadata": {
        "id": "vFhdBvsB44BP"
      },
      "execution_count": null,
      "outputs": []
    },
    {
      "cell_type": "code",
      "source": [],
      "metadata": {
        "id": "me_M9pis44EE"
      },
      "execution_count": null,
      "outputs": []
    },
    {
      "cell_type": "code",
      "source": [],
      "metadata": {
        "id": "Kr7qmlc344G3"
      },
      "execution_count": null,
      "outputs": []
    },
    {
      "cell_type": "code",
      "source": [],
      "metadata": {
        "id": "StE9EKyv44Jh"
      },
      "execution_count": null,
      "outputs": []
    },
    {
      "cell_type": "markdown",
      "source": [
        "- "
      ],
      "metadata": {
        "id": "DZyNZFFU2Div"
      }
    },
    {
      "cell_type": "code",
      "source": [
        "import numpy as np\n",
        "import matplotlib.pyplot as plt\n",
        "import tensorflow.keras.datasets as DT\n",
        "import numpy.random as rd\n",
        "import sklearn\n",
        "\n",
        "import tensorflow as tf\n",
        "\n",
        "\n",
        "(X1, y1), (X2, y2) = DT.fashion_mnist.load_data()\n",
        "print(\"Training set:\", X1.shape, X1.dtype)\n",
        "print(\"Test set:    \", X2.shape, X2.dtype)\n"
      ],
      "metadata": {
        "colab": {
          "base_uri": "https://localhost:8080/"
        },
        "id": "Bt_gccg72C_Q",
        "outputId": "f113ec7b-4244-4f05-c308-adcf96f76f1a"
      },
      "execution_count": null,
      "outputs": [
        {
          "output_type": "stream",
          "name": "stdout",
          "text": [
            "Training set: (60000, 28, 28) uint8\n",
            "Test set:     (10000, 28, 28) uint8\n"
          ]
        }
      ]
    },
    {
      "cell_type": "code",
      "source": [
        "\n",
        "# X1=X1*1.\n",
        "# X2=X2*1."
      ],
      "metadata": {
        "id": "C_-oruJQ5KF3"
      },
      "execution_count": null,
      "outputs": []
    },
    {
      "cell_type": "code",
      "source": [
        "X1 = X1.reshape((X1.shape[0], X1.shape[1] ** 2)) * 1.0\n",
        "X2 = X2.reshape((X2.shape[0], X2.shape[1] ** 2)) * 1.0\n",
        "\n",
        "print(X1.shape, y1.shape)\n",
        "print(X2.shape, y2.shape)"
      ],
      "metadata": {
        "colab": {
          "base_uri": "https://localhost:8080/"
        },
        "id": "I13BMCRr3Y-H",
        "outputId": "a4abaf01-aca1-4b8a-b864-2f178cfcbf0c"
      },
      "execution_count": null,
      "outputs": [
        {
          "output_type": "stream",
          "name": "stdout",
          "text": [
            "(60000, 784) (60000,)\n",
            "(10000, 784) (10000,)\n"
          ]
        }
      ]
    },
    {
      "cell_type": "code",
      "source": [
        "y1 = (y1 == 0 ) | (y1 == 6) *1\n",
        "y2 = (y2 == 0 ) | (y2 == 6) *1\n",
        "print(np.unique(y1), y1.shape, y2.shape)"
      ],
      "metadata": {
        "colab": {
          "base_uri": "https://localhost:8080/"
        },
        "id": "VeO9ib463gzz",
        "outputId": "8596d611-7dc9-4195-d6d7-78c503d64be4"
      },
      "execution_count": null,
      "outputs": [
        {
          "output_type": "stream",
          "name": "stdout",
          "text": [
            "[0 1] (60000,) (10000,)\n"
          ]
        }
      ]
    },
    {
      "cell_type": "code",
      "source": [
        "np.unique(y2)"
      ],
      "metadata": {
        "colab": {
          "base_uri": "https://localhost:8080/"
        },
        "id": "IX1hp-22FgLI",
        "outputId": "beaadc2d-a215-4fac-e407-bf64098c0d56"
      },
      "execution_count": null,
      "outputs": [
        {
          "output_type": "execute_result",
          "data": {
            "text/plain": [
              "array([0, 1])"
            ]
          },
          "metadata": {},
          "execution_count": 39
        }
      ]
    },
    {
      "cell_type": "code",
      "source": [
        "idx = np.argsort(y2)\n",
        "y2 = y2[idx]\n",
        "\n",
        "y2 = (y2 == 0 ) | (y2 == 6) *1\n",
        "\n",
        "X2 = X2[idx]\n",
        "plt.plot(y2)\n",
        "# plt.plot(X2)\n"
      ],
      "metadata": {
        "colab": {
          "base_uri": "https://localhost:8080/",
          "height": 282
        },
        "id": "PRWVUoGr6Q6I",
        "outputId": "44feac50-be74-4a0e-f67b-6e798b8cace5"
      },
      "execution_count": null,
      "outputs": [
        {
          "output_type": "execute_result",
          "data": {
            "text/plain": [
              "[<matplotlib.lines.Line2D at 0x7fdcf53c22e0>]"
            ]
          },
          "metadata": {},
          "execution_count": 40
        },
        {
          "output_type": "display_data",
          "data": {
            "text/plain": [
              "<Figure size 432x288 with 1 Axes>"
            ],
            "image/png": "[encoded data removed]"
          },
          "metadata": {
            "needs_background": "light"
          }
        }
      ]
    },
    {
      "cell_type": "code",
      "source": [
        "idx = rd.permutation(X1.shape[0])\n",
        "X1 = X1[idx]\n",
        "y1 = y1[idx]"
      ],
      "metadata": {
        "id": "Ofd39k8O6WaV"
      },
      "execution_count": null,
      "outputs": []
    },
    {
      "cell_type": "code",
      "source": [
        "from sklearn.ensemble import RandomForestClassifier\n",
        "\n",
        "from sklearn.model_selection import GridSearchCV, StratifiedKFold\n",
        "\n",
        "\n",
        "parameters=[{'max_depth':[5, 10, 15],'n_estimators':[50, 100, 150]}]\n",
        "\n",
        "cv=StratifiedKFold(n_splits=2,shuffle=True, random_state=42) # ja tem o conjunto de validacao\n",
        "rnd = RandomForestClassifier()      \n",
        "gscv=GridSearchCV(rnd, parameters, n_jobs=10, cv=cv)\n",
        "grid_search=gscv.fit(X1, y1) # fazer com conjunto de validacao\n",
        "grid_search.best_params_\n",
        "\n"
      ],
      "metadata": {
        "colab": {
          "base_uri": "https://localhost:8080/"
        },
        "id": "7ZQCQhmC2KnM",
        "outputId": "0aa30c16-c929-46a7-94bf-896a439f95cb"
      },
      "execution_count": null,
      "outputs": [
        {
          "output_type": "execute_result",
          "data": {
            "text/plain": [
              "{'max_depth': 15, 'n_estimators': 150}"
            ]
          },
          "metadata": {},
          "execution_count": 42
        }
      ]
    },
    {
      "cell_type": "code",
      "source": [
        "grid_search.best_params_"
      ],
      "metadata": {
        "colab": {
          "base_uri": "https://localhost:8080/"
        },
        "id": "dOR1jjmkC_qZ",
        "outputId": "126148f5-7896-4af5-ff0d-07fe01121213"
      },
      "execution_count": null,
      "outputs": [
        {
          "output_type": "execute_result",
          "data": {
            "text/plain": [
              "{'max_depth': 15, 'n_estimators': 150}"
            ]
          },
          "metadata": {},
          "execution_count": 44
        }
      ]
    },
    {
      "cell_type": "code",
      "source": [
        "# correr o modelo com os melhores parametros e \n",
        "rnd = RandomForestClassifier(**grid_search.best_params_, n_jobs=10).fit(X1, y1)\n"
      ],
      "metadata": {
        "id": "peIUzUo63Al4"
      },
      "execution_count": null,
      "outputs": []
    },
    {
      "cell_type": "code",
      "source": [
        "from sklearn.metrics import confusion_matrix, roc_curve, precision_recall_curve\n",
        "y2e = rnd.predict(X2)\n",
        "print(confusion_matrix(y2, y2e))"
      ],
      "metadata": {
        "colab": {
          "base_uri": "https://localhost:8080/"
        },
        "id": "7PfMHnXLGjNn",
        "outputId": "9f268ac1-8c5d-4ff6-fe5f-6d64d846ae32"
      },
      "execution_count": null,
      "outputs": [
        {
          "output_type": "stream",
          "name": "stdout",
          "text": [
            "[[7891  109]\n",
            " [ 383 1617]]\n"
          ]
        }
      ]
    },
    {
      "cell_type": "code",
      "source": [
        "np.unique(y1)"
      ],
      "metadata": {
        "colab": {
          "base_uri": "https://localhost:8080/"
        },
        "id": "ItWd8nwpDDLB",
        "outputId": "49515f01-b08c-41c2-c9f9-be2c652fad6a"
      },
      "execution_count": null,
      "outputs": [
        {
          "output_type": "execute_result",
          "data": {
            "text/plain": [
              "array([0, 1])"
            ]
          },
          "metadata": {},
          "execution_count": 79
        }
      ]
    },
    {
      "cell_type": "markdown",
      "source": [
        "# Avaliar a curva roc, auc para ver se ta calibrado"
      ],
      "metadata": {
        "id": "InleHjE4G772"
      }
    },
    {
      "cell_type": "code",
      "source": [
        "from sklearn.metrics import confusion_matrix, roc_curve, precision_recall_curve, precision_score, recall_score, f1_score\n",
        "rfc_pred = rnd.predict_proba(X2)[:, 1] # mantendo as probabilidades somente para saída positiva\n",
        "rfc_pred.shape"
      ],
      "metadata": {
        "colab": {
          "base_uri": "https://localhost:8080/"
        },
        "id": "c-g5eKC_Q3NS",
        "outputId": "e88307aa-a5c7-4cb0-bfd1-a226d7be9652"
      },
      "execution_count": null,
      "outputs": [
        {
          "output_type": "execute_result",
          "data": {
            "text/plain": [
              "(10000,)"
            ]
          },
          "metadata": {},
          "execution_count": 136
        }
      ]
    },
    {
      "cell_type": "code",
      "source": [
        " \n",
        "\n",
        "y_pred = (rfc_pred > 0.1) * 1 #best_threshold\n",
        "# print(y2, y_pred)\n",
        "precision = precision_score(y2, y_pred)\n",
        "recall = recall_score(y2, y_pred)\n",
        "f1_score = f1_score(y2, y_pred)\n",
        "\n",
        "\n",
        "\n",
        "# Calculando as curvas ROC e PR\n",
        "fp, tp, t = roc_curve(y2, rfc_pred)\n",
        "pre, rec, lim = precision_recall_curve(y2, rfc_pred)"
      ],
      "metadata": {
        "id": "h-e6SxZBN3bQ"
      },
      "execution_count": null,
      "outputs": []
    },
    {
      "cell_type": "code",
      "source": [
        "\n",
        "# Criando a figura e os subplots\n",
        "fig, (roc, prc) = plt.subplots(1, 2, figsize=(15, 7))\n",
        "CM = confusion_matrix(y2, y2e)\n",
        "fprate = CM[0,1]/(CM[0,1]+ CM[0,0])\n",
        "# Configurando o subplot para a curva ROC\n",
        "roc.set(title=\"ROC curve\",\n",
        "        xlabel=\"FP-rate\",\n",
        "        ylabel=\"TP-rate\",\n",
        "        xlim=(0, 1),\n",
        "        ylim=(0, 1))\n",
        "roc.plot(fp, tp)\n",
        "roc.plot(fprate,  recall,  \"or\")\n",
        "roc.grid(True)\n",
        "\n",
        "# Configurando o subplot para a curva PR\n",
        "prc.set(title=\"Precision Recall Curve\",\n",
        "        xlabel='Precision',\n",
        "        ylabel='Recall',\n",
        "        xlim=(0, 1),\n",
        "        ylim=(0, 1))\n",
        "prc.plot(pre, rec)\n",
        "prc.plot(precision, recall, \"or\")\n",
        "\n",
        "prc.grid(True)\n",
        "\n",
        "# Configurando o título da figura e mostrando a figura\n",
        "fig.suptitle('ROC curve and Precision Recall Curve')\n",
        "plt.show()\n"
      ],
      "metadata": {
        "colab": {
          "base_uri": "https://localhost:8080/",
          "height": 493
        },
        "id": "Hbz0Po8GDJSy",
        "outputId": "38e25252-771f-4e71-ef2d-afcf50a69071"
      },
      "execution_count": null,
      "outputs": [
        {
          "output_type": "display_data",
          "data": {
            "text/plain": [
              "<Figure size 1080x504 with 2 Axes>"
            ],
            "image/png": "[encoded data removed]"
          },
          "metadata": {
            "needs_background": "light"
          }
        }
      ]
    },
    {
      "cell_type": "code",
      "source": [
        "#  ROC and precision/recall curves are a simple way to visually compare the performances of the two classifiers.\n",
        "# Estrategias para avaliar matrizes:\n",
        "#     se sim mais, FN menos, e o ponto sobe\n",
        "#     Queremos balanciar os erros dos dois lados da matriz, minimo\n",
        "#     O melhor f1_score? grafico de tres linhas\n",
        "\n",
        "# ha mais negativvos do que positivos?? sim\n",
        "#  Random florest sao arvores de decisao, pelo que nao se importa com a escala.\n",
        "#  Cada dimensao é um pixels. A maior que nao tem importancia, por nao por nao dizer nada sobre o objeto\n",
        " "
      ],
      "metadata": {
        "id": "ggkqgAnSHyTU"
      },
      "execution_count": null,
      "outputs": []
    },
    {
      "cell_type": "code",
      "source": [
        "plt.figure(figsize=(10, 4))\n",
        "plt.plot(lim, pre[:-1], \"b\")\n",
        "plt.plot(lim, rec[:-1], \"r\")\n",
        "fsc = 2 * pre * rec / (pre + rec)\n",
        "plt.plot(lim, fsc[:-1], \"g\")\n",
        "\n",
        "# plt.plot(0, precision, \"or\")\n",
        "# plt.plot(0, recall, \"or\")\n",
        "# plt.plot(lim2, p2, \"ob\")\n",
        "# plt.plot(lim2, r2, \"ob\")\n",
        "# plt.plot(lim3, p3, \"og\")\n",
        "# plt.plot(lim3, r3, \"og\")\n",
        "\n",
        "plt.axis([np.floor(lim.min()), np.ceil(lim.max()), 0, 1])\n",
        "plt.grid(True)\n"
      ],
      "metadata": {
        "colab": {
          "base_uri": "https://localhost:8080/",
          "height": 269
        },
        "id": "muyfP5TnYlu-",
        "outputId": "57f40604-116c-44cd-b0d5-ab0e936464ec"
      },
      "execution_count": null,
      "outputs": [
        {
          "output_type": "display_data",
          "data": {
            "text/plain": [
              "<Figure size 720x288 with 1 Axes>"
            ],
            "image/png": "[encoded data removed]"
          },
          "metadata": {
            "needs_background": "light"
          }
        }
      ]
    },
    {
      "cell_type": "markdown",
      "source": [
        "### Outro classificador"
      ],
      "metadata": {
        "id": "ujAtyR7rfyKO"
      }
    },
    {
      "cell_type": "code",
      "source": [
        "from sklearn.preprocessing import StandardScaler\n",
        "sc = StandardScaler().fit(X1)\n",
        "X1 = sc.transform(X1)\n",
        "X2 = sc.transform(X2)\n"
      ],
      "metadata": {
        "id": "KGTYbv1yjJEF"
      },
      "execution_count": null,
      "outputs": []
    },
    {
      "cell_type": "code",
      "source": [
        "from sklearn.linear_model import SGDClassifier\n",
        "\n",
        "sgd = SGDClassifier().fit(X1, y1)\n",
        "y2e = sgd.predict(X2)"
      ],
      "metadata": {
        "id": "d3KUnv6MYu0o"
      },
      "execution_count": null,
      "outputs": []
    },
    {
      "cell_type": "code",
      "source": [
        "from sklearn.metrics import confusion_matrix\n",
        "\n",
        "print(confusion_matrix(y2, y2e))\n",
        "print(\"Total number of erros %d (in %d)\" % (np.sum(y2 != y2e), X2.shape[0]))\n",
        "print()"
      ],
      "metadata": {
        "colab": {
          "base_uri": "https://localhost:8080/"
        },
        "id": "2_m_gv4ff1tK",
        "outputId": "60a38778-23de-4f27-b313-db3d2ec7fc36"
      },
      "execution_count": null,
      "outputs": [
        {
          "output_type": "stream",
          "name": "stdout",
          "text": [
            "[[7636  364]\n",
            " [ 517 1483]]\n",
            "Total number of erros 881 (in 10000)\n",
            "\n"
          ]
        }
      ]
    },
    {
      "cell_type": "code",
      "source": [
        "from sklearn.metrics import confusion_matrix, roc_curve, precision_recall_curve, precision_score, recall_score, f1_score\n",
        "sgd_pred = sgd.decision_function(X2) # mantendo as probabilidades somente para saída positiva\n",
        "sgd_pred.shape"
      ],
      "metadata": {
        "colab": {
          "base_uri": "https://localhost:8080/"
        },
        "id": "xCiZUfvSf64v",
        "outputId": "a645d88a-ab23-45de-8464-4b1d280cc150"
      },
      "execution_count": null,
      "outputs": [
        {
          "output_type": "execute_result",
          "data": {
            "text/plain": [
              "(10000,)"
            ]
          },
          "metadata": {},
          "execution_count": 175
        }
      ]
    },
    {
      "cell_type": "code",
      "source": [
        "y_pred = (sgd_pred > 0.1) * 1 #best_threshold\n",
        "# print(y2, y_pred)\n",
        "precision = precision_score(y2, y_pred)\n",
        "recall = recall_score(y2, y_pred)\n",
        "f1_score = f1_score(y2, y_pred)\n",
        "\n",
        "\n",
        "\n",
        "# Calculando as curvas ROC e PR\n",
        "fp, tp, t = roc_curve(y2, sgd_pred)\n",
        "pre, rec, lim = precision_recall_curve(y2, sgd_pred)"
      ],
      "metadata": {
        "id": "XWTpz2LOhlDQ"
      },
      "execution_count": null,
      "outputs": []
    },
    {
      "cell_type": "code",
      "source": [
        "# Criando a figura e os subplots\n",
        "fig, (roc, prc) = plt.subplots(1, 2, figsize=(15, 7))\n",
        "CM = confusion_matrix(y2, y2e)\n",
        "fprate = CM[0,1]/(CM[0,1]+ CM[0,0])\n",
        "# Configurando o subplot para a curva ROC\n",
        "roc.set(title=\"ROC curve\",\n",
        "        xlabel=\"FP-rate\",\n",
        "        ylabel=\"TP-rate\",\n",
        "        xlim=(0, 1),\n",
        "        ylim=(0, 1))\n",
        "roc.plot(fp, tp)\n",
        "roc.plot(fprate,  recall,  \"or\")\n",
        "roc.grid(True)\n",
        "\n",
        "# Configurando o subplot para a curva PR\n",
        "prc.set(title=\"Precision Recall Curve\",\n",
        "        xlabel='Precision',\n",
        "        ylabel='Recall',\n",
        "        xlim=(0, 1),\n",
        "        ylim=(0, 1))\n",
        "prc.plot(pre, rec)\n",
        "prc.plot(precision, recall, \"or\")\n",
        "\n",
        "prc.grid(True)\n",
        "\n",
        "# Configurando o título da figura e mostrando a figura\n",
        "fig.suptitle('ROC curve and Precision Recall Curve')\n",
        "plt.show()\n"
      ],
      "metadata": {
        "colab": {
          "base_uri": "https://localhost:8080/",
          "height": 493
        },
        "id": "Ld3A8D-2hlG9",
        "outputId": "fb33baab-0f58-4e95-eb92-a0b6526f5eb4"
      },
      "execution_count": null,
      "outputs": [
        {
          "output_type": "display_data",
          "data": {
            "text/plain": [
              "<Figure size 1080x504 with 2 Axes>"
            ],
            "image/png": "[encoded data removed]"
          },
          "metadata": {
            "needs_background": "light"
          }
        }
      ]
    },
    {
      "cell_type": "code",
      "source": [
        "# Mudar a referencia de dados e eleminar dados superfolos\n",
        "# Sabendo que os dados sao diretamente proporcionados , as variaveis sao fortemente correlaciondas\n",
        "# Componentes principais-> calcular a matriz de covariancia e decompar.. para obter\n",
        "# Nova base de dimensoes- a 1 componente prnciapas ls é que detertmina pela variavel \n",
        "# que determina mais, logo quere-se que guardar as dimensoes que tem relevancias, eliminando-se as que nao tem relevancia"
      ],
      "metadata": {
        "id": "NguG_cp6h7R5"
      },
      "execution_count": null,
      "outputs": []
    },
    {
      "cell_type": "markdown",
      "source": [
        "### PCA"
      ],
      "metadata": {
        "id": "PNIe8rJnmOlv"
      }
    },
    {
      "cell_type": "code",
      "source": [
        "from sklearn.decomposition import PCA\n",
        "\n",
        "pca = PCA(n_components=0.9, whiten=True).fit(X1)\n",
        "X1p = pca.transform(X1)\n",
        "X2p = pca.transform(X2)\n",
        "print(\"Nº of Principal Components kept: %d\" % X1p.shape[1])"
      ],
      "metadata": {
        "colab": {
          "base_uri": "https://localhost:8080/"
        },
        "id": "t77cnnKemQRd",
        "outputId": "91104477-672f-4239-99e4-2b5f37ee2ac6"
      },
      "execution_count": null,
      "outputs": [
        {
          "output_type": "stream",
          "name": "stdout",
          "text": [
            "Nº of Principal Components kept: 137\n"
          ]
        }
      ]
    },
    {
      "cell_type": "code",
      "source": [
        "# Apos pca aplicar normalizacao- braqueimento \n",
        "pca.components_.shape"
      ],
      "metadata": {
        "colab": {
          "base_uri": "https://localhost:8080/"
        },
        "id": "82M4UDdPmUiN",
        "outputId": "48d5a835-59b3-401f-c4d7-5d6334fadbcf"
      },
      "execution_count": null,
      "outputs": [
        {
          "output_type": "execute_result",
          "data": {
            "text/plain": [
              "(137, 784)"
            ]
          },
          "metadata": {},
          "execution_count": 166
        }
      ]
    },
    {
      "cell_type": "code",
      "source": [
        "print(np.round(pca.explained_variance_ratio_, 2)[:10])"
      ],
      "metadata": {
        "colab": {
          "base_uri": "https://localhost:8080/"
        },
        "id": "dWn4kyVZm0ct",
        "outputId": "a644cb81-aaf8-4e79-a073-62047124825b"
      },
      "execution_count": null,
      "outputs": [
        {
          "output_type": "stream",
          "name": "stdout",
          "text": [
            "[0.22 0.14 0.05 0.05 0.04 0.03 0.03 0.02 0.02 0.01]\n"
          ]
        }
      ]
    },
    {
      "cell_type": "code",
      "source": [
        "np.sum(np.round(pca.explained_variance_ratio_, 2)[:25])"
      ],
      "metadata": {
        "colab": {
          "base_uri": "https://localhost:8080/"
        },
        "id": "7csTrybUm5Tx",
        "outputId": "db28ba56-3346-4c57-9e9d-6460137a0413"
      },
      "execution_count": null,
      "outputs": [
        {
          "output_type": "execute_result",
          "data": {
            "text/plain": [
              "0.7300000000000001"
            ]
          },
          "metadata": {},
          "execution_count": 168
        }
      ]
    },
    {
      "cell_type": "code",
      "source": [
        "fig = plt.figure(figsize=(8,5))\n",
        "plt.plot (pca.explained_variance_ratio_, 'ro-', linewidth=2)\n",
        "plt.title('Scree Plot')\n",
        "plt.xlabel('Principal Component')\n",
        "plt.ylabel('Eigenvalue')\n",
        "plt.show()"
      ],
      "metadata": {
        "colab": {
          "base_uri": "https://localhost:8080/",
          "height": 350
        },
        "id": "H_p6n_v2m74l",
        "outputId": "ab65722d-69eb-4e99-924f-cfbf0f91e00d"
      },
      "execution_count": null,
      "outputs": [
        {
          "output_type": "display_data",
          "data": {
            "text/plain": [
              "<Figure size 576x360 with 1 Axes>"
            ],
            "image/png": "[encoded data removed]"
          },
          "metadata": {
            "needs_background": "light"
          }
        }
      ]
    },
    {
      "cell_type": "code",
      "source": [
        "\n",
        "fig = plt.figure(figsize=(8,5))\n",
        "plt.plot (pca.explained_variance_ratio_, 'ro-', linewidth=2)\n",
        "plt.xlim([-1, 30])\n",
        "plt.ylim([0, 0.35])\n",
        "plt.title('Scree Plot')\n",
        "plt.xlabel('Principal Component')\n",
        "plt.ylabel('Eigenvalue')\n",
        "plt.show()"
      ],
      "metadata": {
        "colab": {
          "base_uri": "https://localhost:8080/",
          "height": 350
        },
        "id": "SS-wL-d3m-Tp",
        "outputId": "eec84f61-813d-4d06-bba2-cef473243ee5"
      },
      "execution_count": null,
      "outputs": [
        {
          "output_type": "display_data",
          "data": {
            "text/plain": [
              "<Figure size 576x360 with 1 Axes>"
            ],
            "image/png": "[encoded data removed]"
          },
          "metadata": {
            "needs_background": "light"
          }
        }
      ]
    },
    {
      "cell_type": "code",
      "source": [],
      "metadata": {
        "id": "pFGM2hewnBI0"
      },
      "execution_count": null,
      "outputs": []
    }
  ],
  "metadata": {
    "kernelspec": {
      "display_name": "Python 3",
      "language": "python",
      "name": "python3"
    },
    "language_info": {
      "codemirror_mode": {
        "name": "ipython",
        "version": 3
      },
      "file_extension": ".py",
      "mimetype": "text/x-python",
      "name": "python",
      "nbconvert_exporter": "python",
      "pygments_lexer": "ipython3",
      "version": "3.10.3"
    },
    "colab": {
      "provenance": [],
      "toc_visible": true
    },
    "gpuClass": "standard"
  },
  "nbformat": 4,
  "nbformat_minor": 0
}