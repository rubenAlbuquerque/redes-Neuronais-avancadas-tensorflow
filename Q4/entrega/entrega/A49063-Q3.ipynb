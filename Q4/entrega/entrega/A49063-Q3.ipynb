{
 "cells": [
  {
   "attachments": {},
   "cell_type": "markdown",
   "metadata": {},
   "source": [
    "# In-Class Quiz Nº 3"
   ]
  },
  {
   "attachments": {},
   "cell_type": "markdown",
   "metadata": {},
   "source": [
    "<hr style=\"border:1px  solid black\"> </hr>"
   ]
  },
  {
   "attachments": {},
   "cell_type": "markdown",
   "metadata": {},
   "source": [
    "### (Fill in)\n",
    "## Name: ruben santos\n",
    "## Number: A49063"
   ]
  },
  {
   "attachments": {},
   "cell_type": "markdown",
   "metadata": {},
   "source": [
    "<hr style=\"border:1px  solid black\"> </hr>"
   ]
  },
  {
   "attachments": {},
   "cell_type": "markdown",
   "metadata": {},
   "source": [
    "## Develop and run the requested code in the cells immediately below the questions."
   ]
  },
  {
   "attachments": {},
   "cell_type": "markdown",
   "metadata": {},
   "source": [
    "# IMPORTANTE:\n",
    "## Once completed, save this Jupyter notebook with the following name:\n",
    "## Axxxxx-Q3.ipynb (Axxxxx: student number)\n",
    "##  and then upload the file to the Moodle link provided for that purpose."
   ]
  },
  {
   "attachments": {},
   "cell_type": "markdown",
   "metadata": {},
   "source": [
    "<hr style=\"border:2px solid black\"> </hr>"
   ]
  },
  {
   "attachments": {},
   "cell_type": "markdown",
   "metadata": {},
   "source": [
    "# Data: CIFAR-10 (small version)"
   ]
  },
  {
   "cell_type": "code",
   "execution_count": 13,
   "metadata": {},
   "outputs": [],
   "source": [
    "import numpy as np\n",
    "import matplotlib.pyplot as plt\n",
    "import tensorflow as tf\n",
    "import tensorflow.keras as keras\n",
    "from keras.preprocessing.image import ImageDataGenerator\n",
    "from sklearn.metrics import confusion_matrix, roc_curve\n",
    "import tensorflow.keras.datasets.cifar10 as cifar10\n",
    "\n",
    "(X1,y1),(X2,y2)=cifar10.load_data()\n",
    "y1=y1.squeeze()\n",
    "y2=y2.squeeze()\n"
   ]
  },
  {
   "attachments": {},
   "cell_type": "markdown",
   "metadata": {},
   "source": [
    "# Question 1: \n",
    "## a) Select for training a subset of 20000 images from the matrix X1. Make sure that there are 2000 examples per class and that this new training data is shuffled. Also make shure that the test set (matrix X2) is ordered per class.\n",
    "## b) Use generators for training and validation as specified in the cell below. Build a test generator. Make sure that this generator does not shuffle the data. Use this generator to go through the test set and retreive the class of the examples in it. Plot the class of the 10000 examples in the test set.\n",
    "## c) Build (from scratch) a CNN with an architecture of your choice and with the following restrictions:\n",
    "### - Use 6 convolutional layers\n",
    "### - Use 3 pooling layers\n",
    "##  Build this network, compile and train the network using the  training and validation generators. Make sure to go through the whole training and validation sets in each epoch. Plot the  the losses and the accuracies curves for the training and validation sets during the training process. Train the network for 25 epochs.  Comment the results. \n",
    "## d) Use the test generator to obtain the confusion matrix and the total number of erros in the test set."
   ]
  },
  {
   "attachments": {},
   "cell_type": "markdown",
   "metadata": {},
   "source": [
    "## 1.a)"
   ]
  },
  {
   "cell_type": "code",
   "execution_count": 14,
   "metadata": {},
   "outputs": [
    {
     "name": "stdout",
     "output_type": "stream",
     "text": [
      "Training set shape: (20000, 32, 32, 3) (20000,)\n",
      "Test set shape: (10000, 32, 32, 3) (10000,)\n"
     ]
    }
   ],
   "source": [
    "\n",
    "indices = []\n",
    "for class_label in range(10):\n",
    "    class_indices = np.where(y1 == class_label)[0]\n",
    "    np.random.shuffle(class_indices)\n",
    "    indices.extend(class_indices[:2000])\n",
    "np.random.shuffle(indices)\n",
    "X_train = X1[indices]\n",
    "y_train = y1[indices]\n",
    "\n",
    "\n",
    "# Shuffle the training data\n",
    "shuffle_indices = np.arange(len(X_train))\n",
    "np.random.shuffle(shuffle_indices)\n",
    "X_train = X_train[shuffle_indices]\n",
    "y_train = y_train[shuffle_indices]\n",
    "\n",
    "\n",
    "test_order = np.argsort(y2)\n",
    "X_test = X2[test_order]\n",
    "y_test = y2[test_order]\n",
    "print(\"Training set shape:\", X_train.shape, y_train.shape)\n",
    "print(\"Test set shape:\", X_test.shape, y_test.shape)"
   ]
  },
  {
   "attachments": {},
   "cell_type": "markdown",
   "metadata": {},
   "source": [
    "## 1.b)"
   ]
  },
  {
   "cell_type": "code",
   "execution_count": 15,
   "metadata": {},
   "outputs": [
    {
     "name": "stdout",
     "output_type": "stream",
     "text": [
      "Training set shape: (20000, 32, 32, 3) (20000, 10)\n",
      "Test set shape: (10000, 32, 32, 3) (10000, 10)\n"
     ]
    },
    {
     "data": {
      "image/png": "[encoded data removed]",
      "text/plain": [
       "<Figure size 1000x600 with 1 Axes>"
      ]
     },
     "metadata": {},
     "output_type": "display_data"
    }
   ],
   "source": [
    "Y1=keras.utils.to_categorical(y_train)\n",
    "Y2=keras.utils.to_categorical(y_test)\n",
    "\n",
    "\n",
    "# X1 = np.array([tf.image.resize(img, (32, 32)) for img in X_train])\n",
    "# print(\"Resized X1 shape:\", X1.shape)\n",
    "print(\"Training set shape:\", X_train.shape, Y1.shape)\n",
    "print(\"Test set shape:\", X_test.shape, Y2.shape)\n",
    "\n",
    "\n",
    "dataGen=ImageDataGenerator(rescale=1./255,validation_split=.25)\n",
    "trainGen=dataGen.flow(X_train,Y1,batch_size=300,subset='training')\n",
    "validGen=dataGen.flow(X_train,Y1,batch_size=100,subset='validation')\n",
    "\n",
    "#testGen = ImageDataGenerator(rescale=1./255).flow(X_test, shuffle=False, batch_size=1)\n",
    "testGen=ImageDataGenerator(rescale=1./255)\n",
    "testGen=testGen.flow(X_test,y_test,batch_size=1000,shuffle=False)\n",
    "\n",
    "\n",
    "# import time\n",
    "\n",
    "\n",
    "test_steps = len(testGen)\n",
    "test_classes = []\n",
    "for _ in range(test_steps):\n",
    "    images, labels = testGen.next()\n",
    "    test_classes.extend(labels)\n",
    "\n",
    "# Plot the class of the 10000 examples in the test set\n",
    "plt.figure(figsize=(10, 6))\n",
    "plt.hist(test_classes, bins=10, edgecolor='black')\n",
    "plt.xlabel('Class')\n",
    "plt.ylabel('Count')\n",
    "plt.title('Distribution of Classes in the Test Set')\n",
    "# plt.xticks(range(num_classes))\n",
    "plt.show()\n"
   ]
  },
  {
   "attachments": {},
   "cell_type": "markdown",
   "metadata": {},
   "source": [
    "## 1.c)"
   ]
  },
  {
   "cell_type": "code",
   "execution_count": 16,
   "metadata": {},
   "outputs": [
    {
     "name": "stdout",
     "output_type": "stream",
     "text": [
      "Model: \"sequential_1\"\n",
      "_________________________________________________________________\n",
      " Layer (type)                Output Shape              Param #   \n",
      "=================================================================\n",
      " conv2d (Conv2D)             (None, 30, 30, 16)        448       \n",
      "                                                                 \n",
      " conv2d_1 (Conv2D)           (None, 28, 28, 16)        2320      \n",
      "                                                                 \n",
      " average_pooling2d (AverageP  (None, 14, 14, 16)       0         \n",
      " ooling2D)                                                       \n",
      "                                                                 \n",
      " conv2d_2 (Conv2D)           (None, 12, 12, 32)        4640      \n",
      "                                                                 \n",
      " conv2d_3 (Conv2D)           (None, 10, 10, 32)        9248      \n",
      "                                                                 \n",
      " average_pooling2d_1 (Averag  (None, 5, 5, 32)         0         \n",
      " ePooling2D)                                                     \n",
      "                                                                 \n",
      " conv2d_4 (Conv2D)           (None, 3, 3, 64)          18496     \n",
      "                                                                 \n",
      " conv2d_5 (Conv2D)           (None, 3, 3, 64)          4160      \n",
      "                                                                 \n",
      " average_pooling2d_2 (Averag  (None, 1, 1, 64)         0         \n",
      " ePooling2D)                                                     \n",
      "                                                                 \n",
      " flatten_1 (Flatten)         (None, 64)                0         \n",
      "                                                                 \n",
      " dense_1 (Dense)             (None, 16)                1040      \n",
      "                                                                 \n",
      " dense_2 (Dense)             (None, 10)                170       \n",
      "                                                                 \n",
      "=================================================================\n",
      "Total params: 40,522\n",
      "Trainable params: 40,522\n",
      "Non-trainable params: 0\n",
      "_________________________________________________________________\n",
      "Epoch 1/5\n",
      "50/50 [==============================] - 19s 316ms/step - loss: 2.2349 - accuracy: 0.1526 - val_loss: 2.1004 - val_accuracy: 0.2174\n",
      "Epoch 2/5\n",
      "50/50 [==============================] - 17s 331ms/step - loss: 2.0126 - accuracy: 0.2558 - val_loss: 1.9350 - val_accuracy: 0.2818\n",
      "Epoch 3/5\n",
      "50/50 [==============================] - 16s 320ms/step - loss: 1.8619 - accuracy: 0.3159 - val_loss: 1.8344 - val_accuracy: 0.3094\n",
      "Epoch 4/5\n",
      "50/50 [==============================] - 14s 273ms/step - loss: 1.7590 - accuracy: 0.3553 - val_loss: 1.7411 - val_accuracy: 0.3546\n",
      "Epoch 5/5\n",
      "50/50 [==============================] - 15s 304ms/step - loss: 1.6866 - accuracy: 0.3777 - val_loss: 1.6512 - val_accuracy: 0.3912\n"
     ]
    }
   ],
   "source": [
    "model = keras.models.Sequential()\n",
    "\n",
    "model.add(keras.layers.Conv2D(16, (3, 3), activation='relu', input_shape=(32, 32, 3)))\n",
    "model.add(keras.layers.Conv2D(16, (3, 3), activation='relu'))\n",
    "model.add(keras.layers.AveragePooling2D((2, 2)))\n",
    "model.add(keras.layers.Conv2D(32, (3, 3), activation='relu'))\n",
    "model.add(keras.layers.Conv2D(32, (3, 3), activation='relu'))\n",
    "model.add(keras.layers.AveragePooling2D((2, 2)))\n",
    "model.add(keras.layers.Conv2D(64, (3, 3), activation='relu'))\n",
    "model.add(keras.layers.Conv2D(64, (1, 1), activation='relu'))\n",
    "model.add(keras.layers.AveragePooling2D((2, 2)))\n",
    "model.add(keras.layers.Flatten())\n",
    "model.add(keras.layers.Dense(16, activation='relu'))\n",
    "model.add(keras.layers.Dense(10, activation='softmax'))\n",
    "model.summary()\n",
    "\n",
    "\n",
    "\n",
    "model.compile(optimizer=\"nadam\",\n",
    "            loss=\"categorical_crossentropy\",\n",
    "            metrics=[\"accuracy\"])\n",
    "\n",
    "\n",
    "# early_stop = keras.callbacks.EarlyStopping(monitor='val_loss', patience=5)\n",
    "# best_model = keras.callbacks.ModelCheckpoint('cnn_ex1.h5', monitor='val_loss', save_best_only=True)\n",
    "\n",
    "# Por falta de tempo so foi possivel correr 5 epocas e nao 25\n",
    "cnn_train = model.fit(trainGen, epochs=5, \n",
    "                      validation_data=validGen)\n"
   ]
  },
  {
   "cell_type": "code",
   "execution_count": 17,
   "metadata": {},
   "outputs": [
    {
     "data": {
      "image/png": "[encoded data removed]",
      "text/plain": [
       "<Figure size 1000x500 with 2 Axes>"
      ]
     },
     "metadata": {},
     "output_type": "display_data"
    }
   ],
   "source": [
    "\n",
    "plt.figure(figsize=(10,5))\n",
    "plt.subplot(1,2,1)\n",
    "plt.plot(cnn_train.history['accuracy'])\n",
    "plt.plot(cnn_train.history['val_accuracy'])\n",
    "plt.title('Model accuracy')\n",
    "plt.ylabel('Accuracy')\n",
    "plt.xlabel('Epoch')\n",
    "plt.subplot(1,2,2)\n",
    "plt.plot(cnn_train.history['loss'])\n",
    "plt.plot(cnn_train.history['val_loss'])\n",
    "plt.title('Model loss')\n",
    "plt.ylabel('Loss')\n",
    "plt.xlabel('Epoch')\n",
    "plt.show()"
   ]
  },
  {
   "attachments": {},
   "cell_type": "markdown",
   "metadata": {},
   "source": [
    "## 1.d)"
   ]
  },
  {
   "cell_type": "code",
   "execution_count": 18,
   "metadata": {},
   "outputs": [
    {
     "name": "stdout",
     "output_type": "stream",
     "text": [
      "313/313 [==============================] - 3s 8ms/step\n",
      "[[511 221   5   2   1   5   1  10 177  67]\n",
      " [ 26 848   0   1   0   2   1   0  49  73]\n",
      " [188 243  45  41   6 135  37 117  33 155]\n",
      " [120 241  17  38   1 221   7 102  15 238]\n",
      " [127 278   8  21  22  88  49 204  44 159]\n",
      " [ 70 218  23  20   2 309   2 142  24 190]\n",
      " [ 25 335   9  25   6  60  85 150  11 294]\n",
      " [ 80 316  10   4   1  60   1 156  16 356]\n",
      " [240 313   3   1   1   7   0   2 336  97]\n",
      " [ 34 508   3   2   0   3   0   4  69 377]]\n",
      "Total number of errors:  7273\n",
      "Accuracy:  27.27\n"
     ]
    }
   ],
   "source": [
    "from sklearn.metrics import confusion_matrix\n",
    "\n",
    "testGen.reset()\n",
    "model_y_pred = model.predict(X2)\n",
    "model_y_pred = np.argmax(model_y_pred, axis=1)\n",
    "\n",
    "model_cm = confusion_matrix(y2, model_y_pred)\n",
    "print(model_cm)\n",
    "print('Total number of errors: ', np.sum(y2 != model_y_pred))\n",
    "print('Accuracy: ', np.sum(y2 == model_y_pred) / y2.shape[0] * 100)"
   ]
  },
  {
   "attachments": {},
   "cell_type": "markdown",
   "metadata": {},
   "source": [
    "# Question 2\n",
    "## Consider that we want to use transfer learning to build a CNN to tackle the problem. For the pre-trained CNN use MobileNetV2. Use only one Dense layer for the output of the network.\n",
    "### a)  Build and compile this network.\n",
    "### b)  Define new generators (for training, validation and testing) so that they perform the correct pre-process of he data so it can be used by the network. \n",
    "### c)  Train the network for 25 epochs and show the results. Print the confusion matrix and the total number of errors in the test set. Compare the results with the ones obtained in the previous question and state the possible reasons for the differences in performance."
   ]
  },
  {
   "cell_type": "code",
   "execution_count": 2,
   "metadata": {},
   "outputs": [],
   "source": [
    "import numpy as np\n",
    "import matplotlib.pyplot as plt\n",
    "import tensorflow as tf\n",
    "import tensorflow.keras as keras\n",
    "from keras.preprocessing.image import ImageDataGenerator\n",
    "from sklearn.metrics import confusion_matrix, roc_curve\n",
    "import tensorflow.keras.datasets.cifar10 as cifar10\n",
    "from keras.applications.mobilenet_v2 import MobileNetV2, preprocess_input\n",
    "\n",
    "(X1,y1),(X2,y2)=cifar10.load_data()\n",
    "y1=y1.squeeze()\n",
    "y2=y2.squeeze()\n"
   ]
  },
  {
   "attachments": {},
   "cell_type": "markdown",
   "metadata": {},
   "source": [
    "## 2.a)"
   ]
  },
  {
   "cell_type": "code",
   "execution_count": 3,
   "metadata": {},
   "outputs": [
    {
     "name": "stdout",
     "output_type": "stream",
     "text": [
      "WARNING:tensorflow:`input_shape` is undefined or non-square, or `rows` is not in [96, 128, 160, 192, 224]. Weights for input shape (224, 224) will be loaded as the default.\n"
     ]
    }
   ],
   "source": [
    "\n",
    "base_model = MobileNetV2(weights='imagenet', include_top=False, \n",
    "                         input_shape=(32, 32, 3))\n",
    "base_model.trainable = False\n",
    "\n",
    "modelM = keras.models.Sequential()\n",
    "modelM.add(base_model)\n",
    "modelM.add(keras.layers.Flatten())\n",
    "modelM.add(keras.layers.Dense(10, activation='softmax'))\n",
    "modelM.compile(optimizer='nadam', loss='sparse_categorical_crossentropy', metrics=['accuracy'])"
   ]
  },
  {
   "cell_type": "code",
   "execution_count": 4,
   "metadata": {},
   "outputs": [
    {
     "name": "stdout",
     "output_type": "stream",
     "text": [
      "Model: \"sequential\"\n",
      "_________________________________________________________________\n",
      " Layer (type)                Output Shape              Param #   \n",
      "=================================================================\n",
      " mobilenetv2_1.00_224 (Funct  (None, 1, 1, 1280)       2257984   \n",
      " ional)                                                          \n",
      "                                                                 \n",
      " flatten (Flatten)           (None, 1280)              0         \n",
      "                                                                 \n",
      " dense (Dense)               (None, 10)                12810     \n",
      "                                                                 \n",
      "=================================================================\n",
      "Total params: 2,270,794\n",
      "Trainable params: 12,810\n",
      "Non-trainable params: 2,257,984\n",
      "_________________________________________________________________\n"
     ]
    }
   ],
   "source": [
    "modelM.summary()"
   ]
  },
  {
   "attachments": {},
   "cell_type": "markdown",
   "metadata": {},
   "source": [
    "## 2.b)"
   ]
  },
  {
   "cell_type": "code",
   "execution_count": 5,
   "metadata": {},
   "outputs": [],
   "source": [
    "# add extra dimension for RGB channel\n",
    "# X1 = np.concatenate((X1, X1, X1), axis=3)\n",
    "# X2 = np.concatenate((X2, X2, X2), axis=3)\n",
    "\n",
    "# # resize images to 32x32\n",
    "# X1 = np.array([tf.image.resize(img, (32, 32)) for img in X1])\n",
    "# X2 = np.array([tf.image.resize(img, (32, 32)) for img in X2])\n",
    "\n",
    "# X1 = preprocess_input(X1)\n",
    "# X2 = preprocess_input(X2)"
   ]
  },
  {
   "cell_type": "code",
   "execution_count": 6,
   "metadata": {},
   "outputs": [],
   "source": [
    "# y1 = util.categorial..\n",
    "# y2 = util.categorial..\n",
    "\n",
    "\n",
    "dataGen=ImageDataGenerator(preprocessing_function=preprocess_input,\n",
    "    # rescale=1./255,\n",
    "                           validation_split=.25)\n",
    "trainGen=dataGen.flow(X1,y1,batch_size=300,subset='training')\n",
    "validGen=dataGen.flow(X1,y1,batch_size=100,subset='validation')\n",
    "\n",
    "# dataTGen=ImageDataGenerator(preprocessing_function=preprocess_input)\n",
    "testGen = ImageDataGenerator(preprocessing_function=preprocess_input).flow(X2, \n",
    "                                                                           shuffle=False, \n",
    "                                                  batch_size=100)"
   ]
  },
  {
   "attachments": {},
   "cell_type": "markdown",
   "metadata": {},
   "source": [
    "## 2.c)"
   ]
  },
  {
   "cell_type": "code",
   "execution_count": 9,
   "metadata": {},
   "outputs": [
    {
     "name": "stdout",
     "output_type": "stream",
     "text": [
      "Epoch 1/5\n",
      "125/125 [==============================] - 43s 346ms/step - loss: 2.3014 - accuracy: 0.1193 - val_loss: 0.0000e+00 - val_accuracy: 0.0000e+00\n",
      "Epoch 2/5\n",
      "125/125 [==============================] - 41s 332ms/step - loss: 2.2985 - accuracy: 0.1291 - val_loss: 0.0000e+00 - val_accuracy: 0.0000e+00\n",
      "Epoch 3/5\n",
      "125/125 [==============================] - 40s 324ms/step - loss: 2.2962 - accuracy: 0.1490 - val_loss: 0.0000e+00 - val_accuracy: 0.0000e+00\n",
      "Epoch 4/5\n",
      "125/125 [==============================] - 42s 339ms/step - loss: 2.2939 - accuracy: 0.1563 - val_loss: 0.0000e+00 - val_accuracy: 0.0000e+00\n",
      "Epoch 5/5\n",
      "125/125 [==============================] - 52s 415ms/step - loss: 2.2917 - accuracy: 0.1479 - val_loss: 0.0000e+00 - val_accuracy: 0.0000e+00\n"
     ]
    }
   ],
   "source": [
    "# early_stop = keras.callbacks.EarlyStopping(monitor='val_loss', patience=5)\n",
    "# best_model = keras.callbacks.ModelCheckpoint('ex2_bm.h5', monitor='val_loss', save_best_only=True)\n",
    "\n",
    "# Por falta de tempo so foi possivel correr 5 epocas e nao 25\n",
    "modelM_train = modelM.fit(trainGen, \n",
    "                        #   steps_per_epoch=len(trainGen),\n",
    "                        step_per_epoch=5,\n",
    "                          epochs=5, \n",
    "                          validation_data=testGen,\n",
    "                        #   validation_steps=len(validGen)\n",
    "                          )\n"
   ]
  },
  {
   "cell_type": "code",
   "execution_count": 10,
   "metadata": {},
   "outputs": [
    {
     "data": {
      "image/png": "[encoded data removed]",
      "text/plain": [
       "<Figure size 1000x500 with 2 Axes>"
      ]
     },
     "metadata": {},
     "output_type": "display_data"
    }
   ],
   "source": [
    "\n",
    "plt.figure(figsize=(10,5))\n",
    "plt.subplot(1,2,1)\n",
    "plt.plot(modelM_train.history['accuracy'])\n",
    "plt.plot(modelM_train.history['val_accuracy'])\n",
    "plt.title('Model accuracy')\n",
    "plt.ylabel('Accuracy')\n",
    "plt.xlabel('Epoch')\n",
    "plt.subplot(1,2,2)\n",
    "plt.plot(modelM_train.history['loss'])\n",
    "plt.plot(modelM_train.history['val_loss'])\n",
    "plt.title('Model loss')\n",
    "plt.ylabel('Loss')\n",
    "plt.xlabel('Epoch')\n",
    "plt.show()"
   ]
  },
  {
   "cell_type": "code",
   "execution_count": 12,
   "metadata": {},
   "outputs": [
    {
     "name": "stdout",
     "output_type": "stream",
     "text": [
      "313/313 [==============================] - 9s 26ms/step\n",
      "[[ 12   5   9 114  61 456  20 254   4  65]\n",
      " [ 13   6   7  94  22 108   6 720   5  19]\n",
      " [ 10   1  12 130  34 346  39 360   2  66]\n",
      " [  1   2  11 112  41 196  19 580   6  32]\n",
      " [  0   0  20 167  25 473  32 190   4  89]\n",
      " [  2   3   7 118  24 160  18 634   2  32]\n",
      " [  4   2   5 116  19 524  22 264   4  40]\n",
      " [  0   2  11 103  31 227  11 543   3  69]\n",
      " [ 10   9  12  85  48 172  10 607   2  45]\n",
      " [  8   2   2  68  13 118   4 758   7  20]]\n",
      "Total number of errors:  9086\n",
      "Accuracy:  9.139999999999999\n"
     ]
    }
   ],
   "source": [
    "model_y_pred = modelM.predict(X2)\n",
    "model_y_pred = np.argmax(model_y_pred, axis=1)\n",
    "\n",
    "model_cm = confusion_matrix(y2, model_y_pred)\n",
    "print(model_cm)\n",
    "print('Total number of errors: ', np.sum(y2 != model_y_pred))\n",
    "print('Accuracy: ', np.sum(y2 == model_y_pred) / y2.shape[0] * 100)"
   ]
  },
  {
   "attachments": {},
   "cell_type": "markdown",
   "metadata": {},
   "source": [
    "Pode se observar que o 1 modelo performou melhor devido a tem menos exemplos de treino e de validação, logo o modelo não se torna tão complexo e não overfita tanto.\n",
    "No entanto com mais epocas o 2 modelo poderia ter uma melhor performance, por é um  modelo mais complexo por ter o modelo MobileNetV2 como base."
   ]
  },
  {
   "cell_type": "code",
   "execution_count": null,
   "metadata": {},
   "outputs": [],
   "source": []
  }
 ],
 "metadata": {
  "kernelspec": {
   "display_name": "Python 3",
   "language": "python",
   "name": "python3"
  },
  "language_info": {
   "codemirror_mode": {
    "name": "ipython",
    "version": 3
   },
   "file_extension": ".py",
   "mimetype": "text/x-python",
   "name": "python",
   "nbconvert_exporter": "python",
   "pygments_lexer": "ipython3",
   "version": "3.9.13"
  }
 },
 "nbformat": 4,
 "nbformat_minor": 4
}
