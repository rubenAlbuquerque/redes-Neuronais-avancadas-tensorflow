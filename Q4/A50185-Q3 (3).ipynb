{
 "cells": [
  {
   "attachments": {},
   "cell_type": "markdown",
   "metadata": {},
   "source": [
    "# In-Class Quiz Nº 3"
   ]
  },
  {
   "attachments": {},
   "cell_type": "markdown",
   "metadata": {},
   "source": [
    "<hr style=\"border:1px  solid black\"> </hr>"
   ]
  },
  {
   "attachments": {},
   "cell_type": "markdown",
   "metadata": {},
   "source": [
    "### (Fill in)\n",
    "## Name: \n",
    "## Number: "
   ]
  },
  {
   "attachments": {},
   "cell_type": "markdown",
   "metadata": {},
   "source": [
    "<hr style=\"border:1px  solid black\"> </hr>"
   ]
  },
  {
   "attachments": {},
   "cell_type": "markdown",
   "metadata": {},
   "source": [
    "## Develop and run the requested code in the cells immediately below the questions."
   ]
  },
  {
   "attachments": {},
   "cell_type": "markdown",
   "metadata": {},
   "source": [
    "# IMPORTANTE:\n",
    "## Once completed, save this Jupyter notebook with the following name:\n",
    "## Axxxxx-Q3.ipynb (Axxxxx: student number)\n",
    "##  and then upload the file to the Moodle link provided for that purpose."
   ]
  },
  {
   "attachments": {},
   "cell_type": "markdown",
   "metadata": {},
   "source": [
    "<hr style=\"border:2px solid black\"> </hr>"
   ]
  },
  {
   "attachments": {},
   "cell_type": "markdown",
   "metadata": {},
   "source": [
    "# Data: CIFAR-10 (small version)"
   ]
  },
  {
   "cell_type": "code",
   "execution_count": 35,
   "metadata": {},
   "outputs": [],
   "source": [
    "import numpy as np\n",
    "import matplotlib.pyplot as plt\n",
    "import tensorflow as tf\n",
    "import tensorflow.keras as keras\n",
    "from keras.preprocessing.image import ImageDataGenerator\n",
    "from sklearn.metrics import confusion_matrix, roc_curve\n",
    "import tensorflow.keras.datasets.cifar10 as cifar10\n",
    "\n",
    "(X1,y1),(X2,y2)=cifar10.load_data()\n",
    "y1=y1.squeeze()\n",
    "y2=y2.squeeze()\n"
   ]
  },
  {
   "attachments": {},
   "cell_type": "markdown",
   "metadata": {},
   "source": [
    "# Question 1: \n",
    "## a) Select for training a subset of 20000 images from the matrix X1. Make sure that there are 2000 examples per class and that this new training data is shuffled. Also make shure that the test set (matrix X2) is ordered per class.\n",
    "## b) Use generators for training and validation as specified in the cell below. Build a test generator. Make sure that this generator does not shuffle the data. Use this generator to go through the test set and retreive the class of the examples in it. Plot the class of the 10000 examples in the test set.\n",
    "## c) Build (from scratch) a CNN with an architecture of your choice and with the following restrictions:\n",
    "### - Use 6 convolutional layers\n",
    "### - Use 3 pooling layers\n",
    "##  Build this network, compile and train the network using the  training and validation generators. Make sure to go through the whole training and validation sets in each epoch. Plot the  the losses and the accuracies curves for the training and validation sets during the training process. Train the network for 25 epochs.  Comment the results. \n",
    "## d) Use the test generator to obtain the confusion matrix and the total number of erros in the test set."
   ]
  },
  {
   "attachments": {},
   "cell_type": "markdown",
   "metadata": {},
   "source": [
    "## 1.a)"
   ]
  },
  {
   "cell_type": "code",
   "execution_count": 36,
   "metadata": {},
   "outputs": [
    {
     "name": "stdout",
     "output_type": "stream",
     "text": [
      "Training set shape: (20000, 32, 32, 3) (20000,)\n",
      "Test set shape: (10000, 32, 32, 3) (10000,)\n"
     ]
    }
   ],
   "source": [
    "\n",
    "indices = []\n",
    "for class_label in range(10):\n",
    "    class_indices = np.where(y1 == class_label)[0]\n",
    "    np.random.shuffle(class_indices)\n",
    "    indices.extend(class_indices[:2000])\n",
    "np.random.shuffle(indices)\n",
    "X_train = X1[indices]\n",
    "y_train = y1[indices]\n",
    "\n",
    "\n",
    "# Shuffle the training data\n",
    "shuffle_indices = np.arange(len(X_train))\n",
    "np.random.shuffle(shuffle_indices)\n",
    "X_train = X_train[shuffle_indices]\n",
    "y_train = y_train[shuffle_indices]\n",
    "\n",
    "\n",
    "test_order = np.argsort(y2)\n",
    "X_test = X2[test_order]\n",
    "y_test = y2[test_order]\n",
    "print(\"Training set shape:\", X_train.shape, y_train.shape)\n",
    "print(\"Test set shape:\", X_test.shape, y_test.shape)"
   ]
  },
  {
   "attachments": {},
   "cell_type": "markdown",
   "metadata": {},
   "source": [
    "## 1.b)"
   ]
  },
  {
   "cell_type": "code",
   "execution_count": 37,
   "metadata": {},
   "outputs": [
    {
     "data": {
      "image/png": "[encoded data removed]",
      "text/plain": [
       "<Figure size 1000x600 with 1 Axes>"
      ]
     },
     "metadata": {},
     "output_type": "display_data"
    }
   ],
   "source": [
    "Y1=keras.utils.to_categorical(y_train)\n",
    "Y2=keras.utils.to_categorical(y_test)\n",
    "\n",
    "\n",
    "# X1 = np.array([tf.image.resize(img, (32, 32)) for img in X_train])\n",
    "# print(\"Resized X1 shape:\", X1.shape)\n",
    "\n",
    "\n",
    "\n",
    "dataGen=ImageDataGenerator(rescale=1./255,validation_split=.25)\n",
    "trainGen=dataGen.flow(X_train,Y1,batch_size=300,subset='training')\n",
    "validGen=dataGen.flow(X_train,Y1,batch_size=100,subset='validation')\n",
    "#testGen = ImageDataGenerator(rescale=1./255).flow(X_test, shuffle=False, batch_size=1)\n",
    "testGen=ImageDataGenerator(rescale=1./255)\n",
    "testGen=testGen.flow(X_test,y_test,batch_size=1000,shuffle=False)\n",
    "\n",
    "\n",
    "# import time\n",
    "\n",
    "\n",
    "test_steps = len(testGen)\n",
    "test_classes = []\n",
    "for _ in range(test_steps):\n",
    "    images, labels = testGen.next()\n",
    "    test_classes.extend(labels)\n",
    "\n",
    "# Plot the class of the 10000 examples in the test set\n",
    "plt.figure(figsize=(10, 6))\n",
    "plt.hist(test_classes, bins=10, edgecolor='black')\n",
    "plt.xlabel('Class')\n",
    "plt.ylabel('Count')\n",
    "plt.title('Distribution of Classes in the Test Set')\n",
    "# plt.xticks(range(num_classes))\n",
    "plt.show()\n"
   ]
  },
  {
   "attachments": {},
   "cell_type": "markdown",
   "metadata": {},
   "source": [
    "## 1.c)"
   ]
  },
  {
   "cell_type": "code",
   "execution_count": 38,
   "metadata": {},
   "outputs": [
    {
     "name": "stdout",
     "output_type": "stream",
     "text": [
      "Model: \"sequential_5\"\n",
      "_________________________________________________________________\n",
      " Layer (type)                Output Shape              Param #   \n",
      "=================================================================\n",
      " conv2d_12 (Conv2D)          (None, 30, 30, 16)        448       \n",
      "                                                                 \n",
      " conv2d_13 (Conv2D)          (None, 28, 28, 16)        2320      \n",
      "                                                                 \n",
      " average_pooling2d_6 (Averag  (None, 14, 14, 16)       0         \n",
      " ePooling2D)                                                     \n",
      "                                                                 \n",
      " conv2d_14 (Conv2D)          (None, 12, 12, 32)        4640      \n",
      "                                                                 \n",
      " conv2d_15 (Conv2D)          (None, 10, 10, 32)        9248      \n",
      "                                                                 \n",
      " average_pooling2d_7 (Averag  (None, 5, 5, 32)         0         \n",
      " ePooling2D)                                                     \n",
      "                                                                 \n",
      " conv2d_16 (Conv2D)          (None, 3, 3, 64)          18496     \n",
      "                                                                 \n",
      " conv2d_17 (Conv2D)          (None, 3, 3, 64)          4160      \n",
      "                                                                 \n",
      " average_pooling2d_8 (Averag  (None, 1, 1, 64)         0         \n",
      " ePooling2D)                                                     \n",
      "                                                                 \n",
      " flatten_5 (Flatten)         (None, 64)                0         \n",
      "                                                                 \n",
      " dense_7 (Dense)             (None, 16)                1040      \n",
      "                                                                 \n",
      " dense_8 (Dense)             (None, 10)                170       \n",
      "                                                                 \n",
      "=================================================================\n",
      "Total params: 40,522\n",
      "Trainable params: 40,522\n",
      "Non-trainable params: 0\n",
      "_________________________________________________________________\n",
      "Epoch 1/25\n"
     ]
    },
    {
     "name": "stderr",
     "output_type": "stream",
     "text": [
      "2023-05-18 20:24:50.579775: I tensorflow/core/grappler/optimizers/custom_graph_optimizer_registry.cc:113] Plugin optimizer for device_type GPU is enabled.\n"
     ]
    },
    {
     "name": "stdout",
     "output_type": "stream",
     "text": [
      "50/50 [==============================] - ETA: 0s - loss: 2.2354 - accuracy: 0.1769"
     ]
    },
    {
     "name": "stderr",
     "output_type": "stream",
     "text": [
      "2023-05-18 20:24:58.078331: I tensorflow/core/grappler/optimizers/custom_graph_optimizer_registry.cc:113] Plugin optimizer for device_type GPU is enabled.\n"
     ]
    },
    {
     "name": "stdout",
     "output_type": "stream",
     "text": [
      "50/50 [==============================] - 9s 112ms/step - loss: 2.2354 - accuracy: 0.1769 - val_loss: 2.1335 - val_accuracy: 0.2204\n",
      "Epoch 2/25\n",
      "50/50 [==============================] - 3s 70ms/step - loss: 2.0990 - accuracy: 0.2274 - val_loss: 2.0547 - val_accuracy: 0.2510\n",
      "Epoch 3/25\n",
      "50/50 [==============================] - 4s 78ms/step - loss: 1.9716 - accuracy: 0.2765 - val_loss: 1.8731 - val_accuracy: 0.3206\n",
      "Epoch 4/25\n",
      "50/50 [==============================] - 4s 79ms/step - loss: 1.8588 - accuracy: 0.3186 - val_loss: 1.9167 - val_accuracy: 0.3032\n",
      "Epoch 5/25\n",
      "50/50 [==============================] - 4s 83ms/step - loss: 1.7958 - accuracy: 0.3419 - val_loss: 1.9355 - val_accuracy: 0.3152\n",
      "Epoch 6/25\n",
      "50/50 [==============================] - 4s 83ms/step - loss: 1.7356 - accuracy: 0.3654 - val_loss: 1.6970 - val_accuracy: 0.3832\n",
      "Epoch 7/25\n",
      "50/50 [==============================] - 4s 79ms/step - loss: 1.6829 - accuracy: 0.3820 - val_loss: 1.6442 - val_accuracy: 0.4076\n",
      "Epoch 8/25\n",
      "50/50 [==============================] - 4s 81ms/step - loss: 1.6384 - accuracy: 0.4002 - val_loss: 1.6815 - val_accuracy: 0.3874\n",
      "Epoch 9/25\n",
      "50/50 [==============================] - 4s 76ms/step - loss: 1.6195 - accuracy: 0.4081 - val_loss: 1.6000 - val_accuracy: 0.4282\n",
      "Epoch 10/25\n",
      "50/50 [==============================] - 4s 84ms/step - loss: 1.5834 - accuracy: 0.4244 - val_loss: 1.5989 - val_accuracy: 0.4246\n",
      "Epoch 11/25\n",
      "50/50 [==============================] - 5s 95ms/step - loss: 1.5474 - accuracy: 0.4387 - val_loss: 1.5686 - val_accuracy: 0.4346\n",
      "Epoch 12/25\n",
      "50/50 [==============================] - 5s 96ms/step - loss: 1.5287 - accuracy: 0.4439 - val_loss: 1.5322 - val_accuracy: 0.4544\n",
      "Epoch 13/25\n",
      "50/50 [==============================] - 4s 88ms/step - loss: 1.5030 - accuracy: 0.4523 - val_loss: 1.5771 - val_accuracy: 0.4472\n",
      "Epoch 14/25\n",
      "50/50 [==============================] - 4s 75ms/step - loss: 1.4920 - accuracy: 0.4577 - val_loss: 1.4898 - val_accuracy: 0.4704\n",
      "Epoch 15/25\n",
      "50/50 [==============================] - 4s 75ms/step - loss: 1.4633 - accuracy: 0.4709 - val_loss: 1.4906 - val_accuracy: 0.4648\n",
      "Epoch 16/25\n",
      "50/50 [==============================] - 4s 74ms/step - loss: 1.4594 - accuracy: 0.4707 - val_loss: 1.5124 - val_accuracy: 0.4586\n",
      "Epoch 17/25\n",
      "50/50 [==============================] - 4s 78ms/step - loss: 1.4314 - accuracy: 0.4789 - val_loss: 1.4394 - val_accuracy: 0.4866\n",
      "Epoch 18/25\n",
      "50/50 [==============================] - 5s 109ms/step - loss: 1.4158 - accuracy: 0.4884 - val_loss: 1.4622 - val_accuracy: 0.4778\n",
      "Epoch 19/25\n",
      "50/50 [==============================] - 4s 72ms/step - loss: 1.4027 - accuracy: 0.4931 - val_loss: 1.4744 - val_accuracy: 0.4724\n",
      "Epoch 20/25\n",
      "50/50 [==============================] - 5s 97ms/step - loss: 1.3944 - accuracy: 0.4935 - val_loss: 1.4277 - val_accuracy: 0.4980\n",
      "Epoch 21/25\n",
      "50/50 [==============================] - 4s 83ms/step - loss: 1.3740 - accuracy: 0.5009 - val_loss: 1.4286 - val_accuracy: 0.4910\n",
      "Epoch 22/25\n",
      "50/50 [==============================] - 4s 75ms/step - loss: 1.3459 - accuracy: 0.5161 - val_loss: 1.4148 - val_accuracy: 0.4936\n",
      "Epoch 23/25\n",
      "50/50 [==============================] - 4s 82ms/step - loss: 1.3307 - accuracy: 0.5189 - val_loss: 1.4348 - val_accuracy: 0.4936\n",
      "Epoch 24/25\n",
      "50/50 [==============================] - 4s 74ms/step - loss: 1.3252 - accuracy: 0.5216 - val_loss: 1.4228 - val_accuracy: 0.4970\n",
      "Epoch 25/25\n",
      "50/50 [==============================] - 4s 77ms/step - loss: 1.3140 - accuracy: 0.5262 - val_loss: 1.3752 - val_accuracy: 0.5206\n"
     ]
    }
   ],
   "source": [
    "cnn = keras.models.Sequential()\n",
    "cnn.add(keras.layers.Conv2D(16, (3, 3), activation='relu', input_shape=(32, 32, 3)))\n",
    "cnn.add(keras.layers.Conv2D(16, (3, 3), activation='relu'))\n",
    "cnn.add(keras.layers.AveragePooling2D((2, 2)))\n",
    "cnn.add(keras.layers.Conv2D(32, (3, 3), activation='relu'))\n",
    "cnn.add(keras.layers.Conv2D(32, (3, 3), activation='relu'))\n",
    "cnn.add(keras.layers.AveragePooling2D((2, 2)))\n",
    "cnn.add(keras.layers.Conv2D(64, (3, 3), activation='relu'))\n",
    "cnn.add(keras.layers.Conv2D(64, (1, 1), activation='relu'))\n",
    "cnn.add(keras.layers.AveragePooling2D((2, 2)))\n",
    "cnn.add(keras.layers.Flatten())\n",
    "cnn.add(keras.layers.Dense(16, activation='relu'))\n",
    "cnn.add(keras.layers.Dense(10, activation='softmax'))\n",
    "cnn.summary()\n",
    "\n",
    "\n",
    "\n",
    "cnn.compile(optimizer=\"nadam\",\n",
    "            loss=\"categorical_crossentropy\",\n",
    "            metrics=[\"accuracy\"])\n",
    "\n",
    "\n",
    "# early_stop = keras.callbacks.EarlyStopping(monitor='val_loss', patience=5)\n",
    "# best_model = keras.callbacks.ModelCheckpoint('cnn_ex1.h5', monitor='val_loss', save_best_only=True)\n",
    "cnn_train = cnn.fit(trainGen, epochs=25, validation_data=validGen)\n",
    "# load model\n",
    "#cnn = keras.models.load_model('cnn_ex1.h5')\n"
   ]
  },
  {
   "cell_type": "code",
   "execution_count": 39,
   "metadata": {},
   "outputs": [
    {
     "data": {
      "image/png": "[encoded data removed]",
      "text/plain": [
       "<Figure size 1000x500 with 1 Axes>"
      ]
     },
     "metadata": {},
     "output_type": "display_data"
    }
   ],
   "source": [
    "# Plot training & validation accuracy values and loss values\n",
    "plt.figure(figsize=(10, 5))\n",
    "\n",
    "# Plot accuracy curves\n",
    "plt.plot(cnn_train.history['accuracy'], label='Training Accuracy')\n",
    "plt.plot(cnn_train.history['val_accuracy'], label='Validation Accuracy')\n",
    "\n",
    "# Plot loss curves\n",
    "plt.plot(cnn_train.history['loss'], label='Training Loss')\n",
    "plt.plot(cnn_train.history['val_loss'], label='Validation Loss')\n",
    "\n",
    "plt.title('Model Accuracy and Loss')\n",
    "plt.xlabel('Epoch')\n",
    "plt.ylabel('Value')\n",
    "plt.legend()\n",
    "\n",
    "plt.show()"
   ]
  },
  {
   "attachments": {},
   "cell_type": "markdown",
   "metadata": {},
   "source": [
    "## 1.d)"
   ]
  },
  {
   "cell_type": "code",
   "execution_count": 40,
   "metadata": {},
   "outputs": [
    {
     "name": "stderr",
     "output_type": "stream",
     "text": [
      "2023-05-18 20:26:41.737278: I tensorflow/core/grappler/optimizers/custom_graph_optimizer_registry.cc:113] Plugin optimizer for device_type GPU is enabled.\n"
     ]
    },
    {
     "name": "stdout",
     "output_type": "stream",
     "text": [
      "10/10 [==============================] - 1s 54ms/step\n",
      "[[548 104  42   6  17   6  16  13 205  43]\n",
      " [ 39 769   8   3   1   5  18  16  50  91]\n",
      " [ 90  37 357  48 179  70 100  60  34  25]\n",
      " [ 35  33  80 221 100 229 156  74  22  50]\n",
      " [ 39  29 114  31 422  72 117 124  40  12]\n",
      " [ 25  21 103  99 100 435  66  99  20  32]\n",
      " [ 15  24  71  52  95  22 644  36   9  32]\n",
      " [ 25  35  35  48  85  83  23 588  20  58]\n",
      " [159 120  12  14  19   8  10  13 592  53]\n",
      " [ 43 293  15   9  13  16  31  28  85 467]]\n",
      "Total number of errors:  4957\n",
      "Accuracy:  10.59\n"
     ]
    }
   ],
   "source": [
    "from sklearn.metrics import confusion_matrix\n",
    "cnn_y_pred = cnn.predict(testGen)\n",
    "cnn_y_pred = np.argmax(cnn_y_pred, axis=1)\n",
    "\n",
    "cnn_cm = confusion_matrix(y_test, cnn_y_pred)\n",
    "print(cnn_cm)\n",
    "print('Total number of errors: ', np.sum(y_test != cnn_y_pred))\n",
    "print('Accuracy: ', np.sum(y2 == cnn_y_pred) / y2.shape[0] * 100)"
   ]
  },
  {
   "attachments": {},
   "cell_type": "markdown",
   "metadata": {},
   "source": [
    "# Question 2\n",
    "## Consider that we want to use transfer learning to build a CNN to tackle the problem. For the pre-trained CNN use MobileNetV2. Use only one Dense layer for the output of the network.\n",
    "### a)  Build and compile this network.\n",
    "### b)  Define new generators (for training, validation and testing) so that they perform the correct pre-process of he data so it can be used by the network. \n",
    "### c)  Train the network for 25 epochs and show the results. Print the confusion matrix and the total number of errors in the test set. Compare the results with the ones obtained in the previous question and state the possible reasons for the differences in performance."
   ]
  },
  {
   "cell_type": "code",
   "execution_count": 10,
   "metadata": {},
   "outputs": [],
   "source": [
    "import numpy as np\n",
    "import matplotlib.pyplot as plt\n",
    "import tensorflow as tf\n",
    "import tensorflow.keras as keras\n",
    "from keras.preprocessing.image import ImageDataGenerator\n",
    "from sklearn.metrics import confusion_matrix, roc_curve\n",
    "import tensorflow.keras.datasets.cifar10 as cifar10\n",
    "from keras.applications.mobilenet_v2 import MobileNetV2, preprocess_input\n",
    "\n",
    "(X1,y1),(X2,y2)=cifar10.load_data()\n",
    "y1=y1.squeeze()\n",
    "y2=y2.squeeze()\n"
   ]
  },
  {
   "attachments": {},
   "cell_type": "markdown",
   "metadata": {},
   "source": [
    "## 2.a)"
   ]
  },
  {
   "cell_type": "code",
   "execution_count": 11,
   "metadata": {},
   "outputs": [
    {
     "name": "stdout",
     "output_type": "stream",
     "text": [
      "WARNING:tensorflow:`input_shape` is undefined or non-square, or `rows` is not in [96, 128, 160, 192, 224]. Weights for input shape (224, 224) will be loaded as the default.\n"
     ]
    }
   ],
   "source": [
    "\n",
    "base_model = MobileNetV2(weights='imagenet', include_top=False, input_shape=(32, 32, 3))\n",
    "base_model.trainable = False\n",
    "\n",
    "model = keras.models.Sequential()\n",
    "model.add(base_model)\n",
    "model.add(keras.layers.Flatten())\n",
    "model.add(keras.layers.Dense(10, activation='softmax'))\n",
    "model.compile(optimizer='nadam', loss='sparse_categorical_crossentropy', metrics=['accuracy'])"
   ]
  },
  {
   "cell_type": "code",
   "execution_count": 12,
   "metadata": {},
   "outputs": [
    {
     "name": "stdout",
     "output_type": "stream",
     "text": [
      "Model: \"sequential_2\"\n",
      "_________________________________________________________________\n",
      " Layer (type)                Output Shape              Param #   \n",
      "=================================================================\n",
      " mobilenetv2_1.00_224 (Funct  (None, 1, 1, 1280)       2257984   \n",
      " ional)                                                          \n",
      "                                                                 \n",
      " flatten_2 (Flatten)         (None, 1280)              0         \n",
      "                                                                 \n",
      " dense_2 (Dense)             (None, 10)                12810     \n",
      "                                                                 \n",
      "=================================================================\n",
      "Total params: 2,270,794\n",
      "Trainable params: 12,810\n",
      "Non-trainable params: 2,257,984\n",
      "_________________________________________________________________\n"
     ]
    }
   ],
   "source": [
    "model.summary()"
   ]
  },
  {
   "cell_type": "code",
   "execution_count": null,
   "metadata": {},
   "outputs": [],
   "source": []
  },
  {
   "attachments": {},
   "cell_type": "markdown",
   "metadata": {},
   "source": [
    "## 2.b)"
   ]
  },
  {
   "cell_type": "code",
   "execution_count": 13,
   "metadata": {},
   "outputs": [],
   "source": [
    "# PRE-PROCESS \n",
    "X1 = preprocess_input(X1)\n",
    "X2 = preprocess_input(X2)"
   ]
  },
  {
   "cell_type": "code",
   "execution_count": 14,
   "metadata": {},
   "outputs": [],
   "source": [
    "dataGen=ImageDataGenerator(rescale=1./255,validation_split=.25)\n",
    "trainGen=dataGen.flow(X1,y1,batch_size=300,subset='training')\n",
    "validGen=dataGen.flow(X1,y1,batch_size=100,subset='validation')\n",
    "testGen = ImageDataGenerator(rescale=1./255).flow(X2, shuffle=False, batch_size=1)"
   ]
  },
  {
   "cell_type": "code",
   "execution_count": null,
   "metadata": {},
   "outputs": [],
   "source": []
  },
  {
   "attachments": {},
   "cell_type": "markdown",
   "metadata": {},
   "source": [
    "## 2.c)"
   ]
  },
  {
   "cell_type": "code",
   "execution_count": 15,
   "metadata": {},
   "outputs": [
    {
     "name": "stdout",
     "output_type": "stream",
     "text": [
      "Epoch 1/25\n"
     ]
    },
    {
     "name": "stderr",
     "output_type": "stream",
     "text": [
      "2023-05-18 19:34:06.882371: I tensorflow/core/grappler/optimizers/custom_graph_optimizer_registry.cc:113] Plugin optimizer for device_type GPU is enabled.\n"
     ]
    },
    {
     "name": "stdout",
     "output_type": "stream",
     "text": [
      "125/125 [==============================] - ETA: 0s - loss: 2.3014 - accuracy: 0.1126"
     ]
    },
    {
     "name": "stderr",
     "output_type": "stream",
     "text": [
      "2023-05-18 19:34:21.404490: I tensorflow/core/grappler/optimizers/custom_graph_optimizer_registry.cc:113] Plugin optimizer for device_type GPU is enabled.\n"
     ]
    },
    {
     "name": "stdout",
     "output_type": "stream",
     "text": [
      "125/125 [==============================] - 40s 297ms/step - loss: 2.3014 - accuracy: 0.1126 - val_loss: 0.0000e+00 - val_accuracy: 0.0000e+00\n",
      "Epoch 2/25\n",
      "125/125 [==============================] - 39s 310ms/step - loss: 2.2986 - accuracy: 0.1315 - val_loss: 0.0000e+00 - val_accuracy: 0.0000e+00\n",
      "Epoch 3/25\n",
      "125/125 [==============================] - 37s 296ms/step - loss: 2.2963 - accuracy: 0.1445 - val_loss: 0.0000e+00 - val_accuracy: 0.0000e+00\n",
      "Epoch 4/25\n",
      "125/125 [==============================] - 41s 332ms/step - loss: 2.2940 - accuracy: 0.1476 - val_loss: 0.0000e+00 - val_accuracy: 0.0000e+00\n",
      "Epoch 5/25\n",
      "125/125 [==============================] - 38s 304ms/step - loss: 2.2917 - accuracy: 0.1594 - val_loss: 0.0000e+00 - val_accuracy: 0.0000e+00\n",
      "Epoch 6/25\n",
      "125/125 [==============================] - 45s 359ms/step - loss: 2.2896 - accuracy: 0.1581 - val_loss: 0.0000e+00 - val_accuracy: 0.0000e+00\n",
      "Epoch 7/25\n",
      "125/125 [==============================] - 36s 288ms/step - loss: 2.2874 - accuracy: 0.1707 - val_loss: 0.0000e+00 - val_accuracy: 0.0000e+00\n",
      "Epoch 8/25\n",
      "125/125 [==============================] - 34s 273ms/step - loss: 2.2853 - accuracy: 0.1663 - val_loss: 0.0000e+00 - val_accuracy: 0.0000e+00\n",
      "Epoch 9/25\n",
      "125/125 [==============================] - 41s 331ms/step - loss: 2.2832 - accuracy: 0.1692 - val_loss: 0.0000e+00 - val_accuracy: 0.0000e+00\n",
      "Epoch 10/25\n",
      "125/125 [==============================] - 35s 279ms/step - loss: 2.2813 - accuracy: 0.1621 - val_loss: 0.0000e+00 - val_accuracy: 0.0000e+00\n",
      "Epoch 11/25\n",
      "125/125 [==============================] - 37s 297ms/step - loss: 2.2794 - accuracy: 0.1713 - val_loss: 0.0000e+00 - val_accuracy: 0.0000e+00\n",
      "Epoch 12/25\n",
      "125/125 [==============================] - 36s 292ms/step - loss: 2.2775 - accuracy: 0.1698 - val_loss: 0.0000e+00 - val_accuracy: 0.0000e+00\n",
      "Epoch 13/25\n",
      "125/125 [==============================] - 37s 296ms/step - loss: 2.2757 - accuracy: 0.1767 - val_loss: 0.0000e+00 - val_accuracy: 0.0000e+00\n",
      "Epoch 14/25\n",
      "125/125 [==============================] - 35s 285ms/step - loss: 2.2738 - accuracy: 0.1707 - val_loss: 0.0000e+00 - val_accuracy: 0.0000e+00\n",
      "Epoch 15/25\n",
      "125/125 [==============================] - 38s 305ms/step - loss: 2.2721 - accuracy: 0.1765 - val_loss: 0.0000e+00 - val_accuracy: 0.0000e+00\n",
      "Epoch 16/25\n",
      "125/125 [==============================] - 35s 281ms/step - loss: 2.2704 - accuracy: 0.1680 - val_loss: 0.0000e+00 - val_accuracy: 0.0000e+00\n",
      "Epoch 17/25\n",
      "125/125 [==============================] - 37s 300ms/step - loss: 2.2687 - accuracy: 0.1761 - val_loss: 0.0000e+00 - val_accuracy: 0.0000e+00\n",
      "Epoch 18/25\n",
      "125/125 [==============================] - 43s 342ms/step - loss: 2.2671 - accuracy: 0.1798 - val_loss: 0.0000e+00 - val_accuracy: 0.0000e+00\n",
      "Epoch 19/25\n",
      "125/125 [==============================] - 50s 401ms/step - loss: 2.2655 - accuracy: 0.1766 - val_loss: 0.0000e+00 - val_accuracy: 0.0000e+00\n",
      "Epoch 20/25\n",
      "125/125 [==============================] - 38s 302ms/step - loss: 2.2640 - accuracy: 0.1864 - val_loss: 0.0000e+00 - val_accuracy: 0.0000e+00\n",
      "Epoch 21/25\n",
      "125/125 [==============================] - 34s 277ms/step - loss: 2.2625 - accuracy: 0.1773 - val_loss: 0.0000e+00 - val_accuracy: 0.0000e+00\n",
      "Epoch 22/25\n",
      "125/125 [==============================] - 36s 293ms/step - loss: 2.2610 - accuracy: 0.1853 - val_loss: 0.0000e+00 - val_accuracy: 0.0000e+00\n",
      "Epoch 23/25\n",
      "125/125 [==============================] - 36s 293ms/step - loss: 2.2595 - accuracy: 0.1831 - val_loss: 0.0000e+00 - val_accuracy: 0.0000e+00\n",
      "Epoch 24/25\n",
      "125/125 [==============================] - 37s 298ms/step - loss: 2.2581 - accuracy: 0.1801 - val_loss: 0.0000e+00 - val_accuracy: 0.0000e+00\n",
      "Epoch 25/25\n",
      "125/125 [==============================] - 43s 343ms/step - loss: 2.2567 - accuracy: 0.1760 - val_loss: 0.0000e+00 - val_accuracy: 0.0000e+00\n"
     ]
    }
   ],
   "source": [
    "# early_stop = keras.callbacks.EarlyStopping(monitor='val_loss', patience=5)\n",
    "# best_model = keras.callbacks.ModelCheckpoint('ex2_bm.h5', monitor='val_loss', save_best_only=True)\n",
    "model_train = model.fit(trainGen, epochs=25, validation_data=testGen)\n",
    "#model = keras.models.load_model('ex2_bm.h5')"
   ]
  },
  {
   "cell_type": "code",
   "execution_count": 16,
   "metadata": {},
   "outputs": [
    {
     "data": {
      "image/png": "[encoded data removed]",
      "text/plain": [
       "<Figure size 1000x500 with 1 Axes>"
      ]
     },
     "metadata": {},
     "output_type": "display_data"
    }
   ],
   "source": [
    "# Plot training & validation accuracy values and loss values\n",
    "plt.figure(figsize=(10, 5))\n",
    "\n",
    "# Plot accuracy curves\n",
    "plt.plot(model_train.history['accuracy'], label='Training Accuracy')\n",
    "plt.plot(model_train.history['val_accuracy'], label='Validation Accuracy')\n",
    "\n",
    "# Plot loss curves\n",
    "plt.plot(model_train.history['loss'], label='Training Loss')\n",
    "plt.plot(model_train.history['val_loss'], label='Validation Loss')\n",
    "\n",
    "plt.title('Model Accuracy and Loss')\n",
    "plt.xlabel('Epoch')\n",
    "plt.ylabel('Value')\n",
    "plt.legend()\n",
    "\n",
    "plt.show()"
   ]
  },
  {
   "cell_type": "code",
   "execution_count": 17,
   "metadata": {},
   "outputs": [
    {
     "name": "stderr",
     "output_type": "stream",
     "text": [
      "2023-05-18 19:50:21.729901: I tensorflow/core/grappler/optimizers/custom_graph_optimizer_registry.cc:113] Plugin optimizer for device_type GPU is enabled.\n"
     ]
    },
    {
     "name": "stdout",
     "output_type": "stream",
     "text": [
      "313/313 [==============================] - 10s 25ms/step\n",
      "[[  7  39  27   3   0 837  30  17   1  39]\n",
      " [  8  22   8   2   2 920   6  14   0  18]\n",
      " [  3  28   5   4   0 908  13  15   1  23]\n",
      " [  3  10   4   4   1 956   8  10   0   4]\n",
      " [  0  11   6   6   0 947   5  15   1   9]\n",
      " [  0   7   5   7   0 958  10  12   0   1]\n",
      " [  2  10   8   3   0 935  12  16   0  14]\n",
      " [  0  19  15   5   1 924  14  10   1  11]\n",
      " [  3  47  11   6   0 890  18   7   0  18]\n",
      " [  4  22   5   9   0 936   3  12   0   9]]\n",
      "Total number of errors:  8973\n",
      "Accuracy:  10.27\n"
     ]
    }
   ],
   "source": [
    "model_y_pred = model.predict(X2)\n",
    "model_y_pred = np.argmax(model_y_pred, axis=1)\n",
    "\n",
    "model_cm = confusion_matrix(y2, model_y_pred)\n",
    "print(model_cm)\n",
    "print('Total number of errors: ', np.sum(y2 != model_y_pred))\n",
    "print('Accuracy: ', np.sum(y2 == model_y_pred) / y2.shape[0] * 100)"
   ]
  },
  {
   "attachments": {},
   "cell_type": "markdown",
   "metadata": {},
   "source": [
    "O que é possivel observar é que ambas têm uma accuracy muito baixa (cerca de 10 porcento). No entanto, é possivel observar que o modelo das CNN, apesar de ter um crescimento muito pequeno, ainda consegue crescer, caso não acontece com o modelo MobileNetV2. "
   ]
  },
  {
   "cell_type": "code",
   "execution_count": null,
   "metadata": {},
   "outputs": [],
   "source": []
  }
 ],
 "metadata": {
  "kernelspec": {
   "display_name": "Python 3",
   "language": "python",
   "name": "python3"
  },
  "language_info": {
   "codemirror_mode": {
    "name": "ipython",
    "version": 3
   },
   "file_extension": ".py",
   "mimetype": "text/x-python",
   "name": "python",
   "nbconvert_exporter": "python",
   "pygments_lexer": "ipython3",
   "version": "3.10.9"
  }
 },
 "nbformat": 4,
 "nbformat_minor": 4
}
