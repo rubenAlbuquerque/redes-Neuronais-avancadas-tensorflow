{
 "cells": [
  {
   "attachments": {},
   "cell_type": "markdown",
   "metadata": {},
   "source": [
    "# In-Class Quiz Nº 4"
   ]
  },
  {
   "attachments": {},
   "cell_type": "markdown",
   "metadata": {},
   "source": [
    "<hr style=\"border:1px  solid black\"> </hr>"
   ]
  },
  {
   "attachments": {},
   "cell_type": "markdown",
   "metadata": {},
   "source": [
    "### (Fill in)\n",
    "## Name: \n",
    "## Number: "
   ]
  },
  {
   "attachments": {},
   "cell_type": "markdown",
   "metadata": {},
   "source": [
    "<hr style=\"border:1px  solid black\"> </hr>"
   ]
  },
  {
   "attachments": {},
   "cell_type": "markdown",
   "metadata": {},
   "source": [
    "## Develop and run the requested code in the cells immediately below the questions."
   ]
  },
  {
   "attachments": {},
   "cell_type": "markdown",
   "metadata": {},
   "source": [
    "# IMPORTANT:\n",
    "## Once completed, save this Jupyter notebook with the following name:\n",
    "## Axxxxx-Q4.ipynb (Axxxxx: student number)\n",
    "##  and then upload the file to the Moodle link provided for that purpose."
   ]
  },
  {
   "attachments": {},
   "cell_type": "markdown",
   "metadata": {},
   "source": [
    "<hr style=\"border:2px solid black\"> </hr>"
   ]
  },
  {
   "attachments": {},
   "cell_type": "markdown",
   "metadata": {},
   "source": [
    "# Data: kMNIST dataset (small version) - pickle file $\\texttt{kMNISTsmall.p}$\n",
    "## This file has the following variables (in a dictionary)\n",
    "* ### X1: training data ($10000\\times(28\\times28)$  uint8 array)\n",
    "* ### y1: classes of the training data (10 japanese characters, class-numbers 0 to 9)\n",
    "* ### X2: test data ($5000\\times(28\\times28)$ uint8 array)\n",
    "* ### y2: classes of the test data (10 japanese characters, class-numbers 0 to 9)"
   ]
  },
  {
   "cell_type": "code",
   "execution_count": 1,
   "metadata": {},
   "outputs": [],
   "source": [
    "import numpy as np\n",
    "import matplotlib.pyplot as plt\n",
    "import tensorflow as tf\n",
    "import tensorflow.keras as keras\n",
    "from sklearn.metrics import confusion_matrix, roc_curve\n",
    "import pickle\n",
    "from tensorflow.keras import models\n",
    "from tensorflow.keras import layers\n",
    "from tensorflow import keras\n",
    "import cv2\n",
    "import matplotlib.pyplot as plt\n",
    "#for those who have the GPU enable, maybe uncomment the next lines\n",
    "#gp=tf.config.list_physical_devices('GPU')\n",
    "#print(gp)\n",
    "#tf.config.experimental.set_memory_growth(gp[0],True)\n",
    "\n",
    "#load data\n",
    "D=pickle.load(open('kMNISTsmall.p','rb'))\n",
    "X1=D.X1\n",
    "X2=D.X2\n",
    "y1=D.y1\n",
    "y2=D.y2\n",
    "\n",
    "#print(X1.shape,X2.shape)"
   ]
  },
  {
   "cell_type": "code",
   "execution_count": 2,
   "metadata": {},
   "outputs": [
    {
     "name": "stdout",
     "output_type": "stream",
     "text": [
      "X1: (10000, 28, 28) uint8\n",
      "y1: (10000,)\n",
      "X2: (5000, 28, 28)\n",
      "y2: (5000,)\n"
     ]
    }
   ],
   "source": [
    "print('X1:',X1.shape,X1.dtype)\n",
    "print('y1:',y1.shape)\n",
    "print('X2:',X2.shape)\n",
    "print('y2:',y2.shape)"
   ]
  },
  {
   "attachments": {},
   "cell_type": "markdown",
   "metadata": {},
   "source": [
    "# Question 1: \n",
    "##  Build (from scratch) a CNN with an architecture of your choice and with the following restrictions:\n",
    "## - Use 6 convolutional layers\n",
    "## - Use 3 pooling layers\n",
    "## - DO NOT use data augmentation\n",
    "## - Obtain in the test set an accuracy equal or above 90%\n",
    "###  Build this network, compile and train the network using the kMNIST training set. Also include the test data as the validation set during training.\n",
    "###  Plot the  the losses and the accuracies curves for the training and validation sets during the training process.  Comment the results. Print the total number of errors and the confusion matrix for the test dataset."
   ]
  },
  {
   "cell_type": "code",
   "execution_count": null,
   "metadata": {},
   "outputs": [],
   "source": []
  },
  {
   "cell_type": "code",
   "execution_count": null,
   "metadata": {},
   "outputs": [],
   "source": []
  },
  {
   "attachments": {},
   "cell_type": "markdown",
   "metadata": {},
   "source": [
    "# Question 2\n",
    "## Consider that we want to use transfer learning to build a CNN to tackle the kMNIST dataset. For the pre-trained CNN use MobileNetV2. Use only one Dense layer for the output of the network.\n",
    "### a)  Build and compile this network.\n",
    "### b)  Pre-process the data so it can be used by the network.\n",
    "### c)  Train the network for 25 epochs and show the results. Compare the results with the ones obtained in the previous question and state the possible reasons for the differences in performance."
   ]
  },
  {
   "cell_type": "code",
   "execution_count": 2,
   "metadata": {},
   "outputs": [],
   "source": [
    "from tensorflow.keras import models\n",
    "import pickle\n",
    "from tensorflow.keras.applications.mobilenet_v2 import MobileNetV2, preprocess_input\n",
    "D=pickle.load(open('kMNISTsmall.p','rb'))\n",
    "X1=D.X1\n",
    "X2=D.X2\n",
    "y1=D.y1\n",
    "y2=D.y2\n"
   ]
  },
  {
   "attachments": {},
   "cell_type": "markdown",
   "metadata": {},
   "source": [
    "## 2.a)"
   ]
  },
  {
   "cell_type": "code",
   "execution_count": 5,
   "metadata": {},
   "outputs": [],
   "source": []
  },
  {
   "attachments": {},
   "cell_type": "markdown",
   "metadata": {},
   "source": [
    "## 2.b)"
   ]
  },
  {
   "cell_type": "code",
   "execution_count": null,
   "metadata": {},
   "outputs": [],
   "source": []
  },
  {
   "attachments": {},
   "cell_type": "markdown",
   "metadata": {},
   "source": [
    "## 2.c)"
   ]
  },
  {
   "cell_type": "code",
   "execution_count": null,
   "metadata": {},
   "outputs": [],
   "source": []
  },
  {
   "attachments": {},
   "cell_type": "markdown",
   "metadata": {},
   "source": [
    "<hr style=\"border:2px solid black\"> </hr>"
   ]
  },
  {
   "attachments": {},
   "cell_type": "markdown",
   "metadata": {},
   "source": [
    "# Data: Cats and Dogs dataset (small version) - zip file $\\texttt{CatsDogsSmall.zip}$\n",
    "## This file is divided into two directories (train and test)\n",
    "## Each one has two sub-directories (dogs and cats)\n",
    "## The training data consists of a 1000 images of cats and 1000 images of dogs\n",
    "## The test data consists of 500 images of cats and 500 images of dogs\n",
    "## The images have various sizes"
   ]
  },
  {
   "attachments": {},
   "cell_type": "markdown",
   "metadata": {},
   "source": [
    "# Question 3:\n",
    "## Consider that  we want to use transfer learning to build a CNN to perform a binary classification of the images (either a cat or a dog). Additionally with want to use data augmentation during the training process. \n",
    "### a)  Pick a pre-trained network of your choice and incorporate it in a CNN to tackle this problem. Build and compile the CNN.\n",
    "### b)  Using the $\\texttt{ImageDataGenerator}$ from Keras, build two generators (one for training and the other for testing). Note that the training generator has to include data augmentation. Pick one image of a dog and one image of a cat. Show these two original images and five versions of each image with data augmentation. Note: rescale the generated images so that its pixel values are between 0 and 255.\n",
    "### c)  Train the network for 25 epochs and show the results. Also include the test data as the validation set during training. Make sure to set the $\\texttt{steps_per_epoch}$ and the $\\texttt{validation_steps}$ so that each training epoch runs through the all the training and test images. Show the evolution of the accuracies and the losses during training and print the number of errors and the confusion matrix for the test data."
   ]
  },
  {
   "attachments": {},
   "cell_type": "markdown",
   "metadata": {},
   "source": [
    "## 3.a)"
   ]
  },
  {
   "cell_type": "code",
   "execution_count": null,
   "metadata": {},
   "outputs": [],
   "source": [
    "\n"
   ]
  },
  {
   "attachments": {},
   "cell_type": "markdown",
   "metadata": {},
   "source": [
    "## 3.b)"
   ]
  },
  {
   "cell_type": "code",
   "execution_count": null,
   "metadata": {},
   "outputs": [],
   "source": []
  },
  {
   "attachments": {},
   "cell_type": "markdown",
   "metadata": {},
   "source": [
    "## 3.c)"
   ]
  },
  {
   "cell_type": "code",
   "execution_count": null,
   "metadata": {},
   "outputs": [],
   "source": []
  }
 ],
 "metadata": {
  "kernelspec": {
   "display_name": "Python 3",
   "language": "python",
   "name": "python3"
  },
  "language_info": {
   "codemirror_mode": {
    "name": "ipython",
    "version": 3
   },
   "file_extension": ".py",
   "mimetype": "text/x-python",
   "name": "python",
   "nbconvert_exporter": "python",
   "pygments_lexer": "ipython3",
   "version": "3.7.1"
  }
 },
 "nbformat": 4,
 "nbformat_minor": 4
}
