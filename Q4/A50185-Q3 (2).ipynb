{
 "cells": [
  {
   "attachments": {},
   "cell_type": "markdown",
   "metadata": {},
   "source": [
    "# In-Class Quiz Nº 3"
   ]
  },
  {
   "attachments": {},
   "cell_type": "markdown",
   "metadata": {},
   "source": [
    "<hr style=\"border:1px  solid black\"> </hr>"
   ]
  },
  {
   "attachments": {},
   "cell_type": "markdown",
   "metadata": {},
   "source": [
    "### (Fill in)\n",
    "## Name: \n",
    "## Number: "
   ]
  },
  {
   "attachments": {},
   "cell_type": "markdown",
   "metadata": {},
   "source": [
    "<hr style=\"border:1px  solid black\"> </hr>"
   ]
  },
  {
   "attachments": {},
   "cell_type": "markdown",
   "metadata": {},
   "source": [
    "## Develop and run the requested code in the cells immediately below the questions."
   ]
  },
  {
   "attachments": {},
   "cell_type": "markdown",
   "metadata": {},
   "source": [
    "# IMPORTANTE:\n",
    "## Once completed, save this Jupyter notebook with the following name:\n",
    "## Axxxxx-Q3.ipynb (Axxxxx: student number)\n",
    "##  and then upload the file to the Moodle link provided for that purpose."
   ]
  },
  {
   "attachments": {},
   "cell_type": "markdown",
   "metadata": {},
   "source": [
    "<hr style=\"border:2px solid black\"> </hr>"
   ]
  },
  {
   "attachments": {},
   "cell_type": "markdown",
   "metadata": {},
   "source": [
    "# Data: CIFAR-10 (small version)"
   ]
  },
  {
   "cell_type": "code",
   "execution_count": 25,
   "metadata": {},
   "outputs": [],
   "source": [
    "import numpy as np\n",
    "import matplotlib.pyplot as plt\n",
    "import tensorflow as tf\n",
    "import tensorflow.keras as keras\n",
    "from keras.preprocessing.image import ImageDataGenerator\n",
    "from sklearn.metrics import confusion_matrix, roc_curve\n",
    "import tensorflow.keras.datasets.cifar10 as cifar10\n",
    "\n",
    "(X1,y1),(X2,y2)=cifar10.load_data()\n",
    "y1=y1.squeeze()\n",
    "y2=y2.squeeze()\n"
   ]
  },
  {
   "attachments": {},
   "cell_type": "markdown",
   "metadata": {},
   "source": [
    "# Question 1: \n",
    "## a) Select for training a subset of 20000 images from the matrix X1. Make sure that there are 2000 examples per class and that this new training data is shuffled. Also make shure that the test set (matrix X2) is ordered per class.\n",
    "## b) Use generators for training and validation as specified in the cell below. Build a test generator. Make sure that this generator does not shuffle the data. Use this generator to go through the test set and retreive the class of the examples in it. Plot the class of the 10000 examples in the test set.\n",
    "## c) Build (from scratch) a CNN with an architecture of your choice and with the following restrictions:\n",
    "### - Use 6 convolutional layers\n",
    "### - Use 3 pooling layers\n",
    "##  Build this network, compile and train the network using the  training and validation generators. Make sure to go through the whole training and validation sets in each epoch. Plot the  the losses and the accuracies curves for the training and validation sets during the training process. Train the network for 25 epochs.  Comment the results. \n",
    "## d) Use the test generator to obtain the confusion matrix and the total number of erros in the test set."
   ]
  },
  {
   "attachments": {},
   "cell_type": "markdown",
   "metadata": {},
   "source": [
    "## 1.a)"
   ]
  },
  {
   "cell_type": "code",
   "execution_count": 26,
   "metadata": {},
   "outputs": [
    {
     "name": "stdout",
     "output_type": "stream",
     "text": [
      "Training set shape: (20000, 32, 32, 3) (20000,)\n",
      "Test set shape: (10000, 32, 32, 3) (10000,)\n"
     ]
    }
   ],
   "source": [
    "\n",
    "indices = []\n",
    "for class_label in range(10):\n",
    "    class_indices = np.where(y1 == class_label)[0]\n",
    "    np.random.shuffle(class_indices)\n",
    "    indices.extend(class_indices[:2000])\n",
    "np.random.shuffle(indices)\n",
    "X_train = X1[indices]\n",
    "y_train = y1[indices]\n",
    "\n",
    "\n",
    "# Shuffle the training data\n",
    "shuffle_indices = np.arange(len(X_train))\n",
    "np.random.shuffle(shuffle_indices)\n",
    "X_train = X_train[shuffle_indices]\n",
    "y_train = y_train[shuffle_indices]\n",
    "\n",
    "\n",
    "test_order = np.argsort(y2)\n",
    "X_test = X2[test_order]\n",
    "y_test = y2[test_order]\n",
    "print(\"Training set shape:\", X_train.shape, y_train.shape)\n",
    "print(\"Test set shape:\", X_test.shape, y_test.shape)"
   ]
  },
  {
   "attachments": {},
   "cell_type": "markdown",
   "metadata": {},
   "source": [
    "## 1.b)"
   ]
  },
  {
   "cell_type": "code",
   "execution_count": 27,
   "metadata": {},
   "outputs": [
    {
     "data": {
      "image/png": "[encoded data removed]",
      "text/plain": [
       "<Figure size 1000x600 with 1 Axes>"
      ]
     },
     "metadata": {},
     "output_type": "display_data"
    }
   ],
   "source": [
    "Y1=keras.utils.to_categorical(y_train)\n",
    "Y2=keras.utils.to_categorical(y_test)\n",
    "\n",
    "\n",
    "# X1 = np.array([tf.image.resize(img, (32, 32)) for img in X_train])\n",
    "# print(\"Resized X1 shape:\", X1.shape)\n",
    "\n",
    "\n",
    "\n",
    "dataGen=ImageDataGenerator(rescale=1./255,validation_split=.25)\n",
    "trainGen=dataGen.flow(X_train,Y1,batch_size=300,subset='training')\n",
    "validGen=dataGen.flow(X_train,Y1,batch_size=100,subset='validation')\n",
    "#testGen = ImageDataGenerator(rescale=1./255).flow(X_test, shuffle=False, batch_size=1)\n",
    "testGen=ImageDataGenerator(rescale=1./255)\n",
    "testGen=testGen.flow(X_test,y_test,batch_size=1000,shuffle=False)\n",
    "\n",
    "\n",
    "# import time\n",
    "\n",
    "\n",
    "test_steps = len(testGen)\n",
    "test_classes = []\n",
    "for _ in range(test_steps):\n",
    "    images, labels = testGen.next()\n",
    "    test_classes.extend(labels)\n",
    "\n",
    "# Plot the class of the 10000 examples in the test set\n",
    "plt.figure(figsize=(10, 6))\n",
    "plt.hist(test_classes, bins=10, edgecolor='black')\n",
    "plt.xlabel('Class')\n",
    "plt.ylabel('Count')\n",
    "plt.title('Distribution of Classes in the Test Set')\n",
    "# plt.xticks(range(num_classes))\n",
    "plt.show()\n"
   ]
  },
  {
   "attachments": {},
   "cell_type": "markdown",
   "metadata": {},
   "source": [
    "## 1.c)"
   ]
  },
  {
   "cell_type": "code",
   "execution_count": 28,
   "metadata": {},
   "outputs": [
    {
     "name": "stdout",
     "output_type": "stream",
     "text": [
      "Model: \"sequential_4\"\n",
      "_________________________________________________________________\n",
      " Layer (type)                Output Shape              Param #   \n",
      "=================================================================\n",
      " conv2d_6 (Conv2D)           (None, 30, 30, 8)         224       \n",
      "                                                                 \n",
      " conv2d_7 (Conv2D)           (None, 28, 28, 8)         584       \n",
      "                                                                 \n",
      " average_pooling2d_3 (Averag  (None, 14, 14, 8)        0         \n",
      " ePooling2D)                                                     \n",
      "                                                                 \n",
      " conv2d_8 (Conv2D)           (None, 12, 12, 16)        1168      \n",
      "                                                                 \n",
      " conv2d_9 (Conv2D)           (None, 10, 10, 16)        2320      \n",
      "                                                                 \n",
      " average_pooling2d_4 (Averag  (None, 5, 5, 16)         0         \n",
      " ePooling2D)                                                     \n",
      "                                                                 \n",
      " conv2d_10 (Conv2D)          (None, 3, 3, 32)          4640      \n",
      "                                                                 \n",
      " conv2d_11 (Conv2D)          (None, 3, 3, 32)          1056      \n",
      "                                                                 \n",
      " average_pooling2d_5 (Averag  (None, 1, 1, 32)         0         \n",
      " ePooling2D)                                                     \n",
      "                                                                 \n",
      " flatten_4 (Flatten)         (None, 32)                0         \n",
      "                                                                 \n",
      " dense_5 (Dense)             (None, 16)                528       \n",
      "                                                                 \n",
      " dense_6 (Dense)             (None, 10)                170       \n",
      "                                                                 \n",
      "=================================================================\n",
      "Total params: 10,690\n",
      "Trainable params: 10,690\n",
      "Non-trainable params: 0\n",
      "_________________________________________________________________\n",
      "Epoch 1/25\n"
     ]
    },
    {
     "name": "stderr",
     "output_type": "stream",
     "text": [
      "2023-05-18 20:19:01.246136: I tensorflow/core/grappler/optimizers/custom_graph_optimizer_registry.cc:113] Plugin optimizer for device_type GPU is enabled.\n"
     ]
    },
    {
     "name": "stdout",
     "output_type": "stream",
     "text": [
      "50/50 [==============================] - ETA: 0s - loss: 2.2763 - accuracy: 0.1263"
     ]
    },
    {
     "name": "stderr",
     "output_type": "stream",
     "text": [
      "2023-05-18 20:19:06.980494: I tensorflow/core/grappler/optimizers/custom_graph_optimizer_registry.cc:113] Plugin optimizer for device_type GPU is enabled.\n"
     ]
    },
    {
     "name": "stdout",
     "output_type": "stream",
     "text": [
      "50/50 [==============================] - 7s 99ms/step - loss: 2.2763 - accuracy: 0.1263 - val_loss: 2.2379 - val_accuracy: 0.1650\n",
      "Epoch 2/25\n",
      "50/50 [==============================] - 3s 61ms/step - loss: 2.1406 - accuracy: 0.2127 - val_loss: 2.0438 - val_accuracy: 0.2574\n",
      "Epoch 3/25\n",
      "50/50 [==============================] - 4s 73ms/step - loss: 1.9974 - accuracy: 0.2745 - val_loss: 1.9394 - val_accuracy: 0.2954\n",
      "Epoch 4/25\n",
      "50/50 [==============================] - 4s 73ms/step - loss: 1.9047 - accuracy: 0.3061 - val_loss: 1.8951 - val_accuracy: 0.3082\n",
      "Epoch 5/25\n",
      "50/50 [==============================] - 3s 64ms/step - loss: 1.8670 - accuracy: 0.3210 - val_loss: 1.9215 - val_accuracy: 0.3124\n",
      "Epoch 6/25\n",
      "50/50 [==============================] - 3s 57ms/step - loss: 1.8321 - accuracy: 0.3377 - val_loss: 1.8146 - val_accuracy: 0.3414\n",
      "Epoch 7/25\n",
      "50/50 [==============================] - 3s 57ms/step - loss: 1.7968 - accuracy: 0.3463 - val_loss: 1.7805 - val_accuracy: 0.3582\n",
      "Epoch 8/25\n",
      "50/50 [==============================] - 3s 60ms/step - loss: 1.7570 - accuracy: 0.3620 - val_loss: 1.7574 - val_accuracy: 0.3596\n",
      "Epoch 9/25\n",
      "50/50 [==============================] - 3s 57ms/step - loss: 1.7347 - accuracy: 0.3691 - val_loss: 1.7275 - val_accuracy: 0.3674\n",
      "Epoch 10/25\n",
      "50/50 [==============================] - 3s 56ms/step - loss: 1.7079 - accuracy: 0.3773 - val_loss: 1.7133 - val_accuracy: 0.3780\n",
      "Epoch 11/25\n",
      "50/50 [==============================] - 3s 61ms/step - loss: 1.6801 - accuracy: 0.3874 - val_loss: 1.7448 - val_accuracy: 0.3762\n",
      "Epoch 12/25\n",
      "50/50 [==============================] - 3s 57ms/step - loss: 1.6662 - accuracy: 0.3933 - val_loss: 1.6448 - val_accuracy: 0.3964\n",
      "Epoch 13/25\n",
      "50/50 [==============================] - 3s 58ms/step - loss: 1.6351 - accuracy: 0.4015 - val_loss: 1.6749 - val_accuracy: 0.3886\n",
      "Epoch 14/25\n",
      "50/50 [==============================] - 3s 62ms/step - loss: 1.6314 - accuracy: 0.4049 - val_loss: 1.6178 - val_accuracy: 0.4054\n",
      "Epoch 15/25\n",
      "50/50 [==============================] - 3s 58ms/step - loss: 1.6055 - accuracy: 0.4154 - val_loss: 1.6143 - val_accuracy: 0.4152\n",
      "Epoch 16/25\n",
      "50/50 [==============================] - 3s 57ms/step - loss: 1.5992 - accuracy: 0.4166 - val_loss: 1.5969 - val_accuracy: 0.4092\n",
      "Epoch 17/25\n",
      "50/50 [==============================] - 3s 69ms/step - loss: 1.5715 - accuracy: 0.4265 - val_loss: 1.5853 - val_accuracy: 0.4222\n",
      "Epoch 18/25\n",
      "50/50 [==============================] - 3s 68ms/step - loss: 1.5699 - accuracy: 0.4271 - val_loss: 1.5696 - val_accuracy: 0.4288\n",
      "Epoch 19/25\n",
      "50/50 [==============================] - 3s 66ms/step - loss: 1.5598 - accuracy: 0.4331 - val_loss: 1.5778 - val_accuracy: 0.4298\n",
      "Epoch 20/25\n",
      "50/50 [==============================] - 3s 62ms/step - loss: 1.5505 - accuracy: 0.4359 - val_loss: 1.5643 - val_accuracy: 0.4284\n",
      "Epoch 21/25\n",
      "50/50 [==============================] - 3s 69ms/step - loss: 1.5366 - accuracy: 0.4406 - val_loss: 1.5932 - val_accuracy: 0.4236\n",
      "Epoch 22/25\n",
      "50/50 [==============================] - 3s 67ms/step - loss: 1.5197 - accuracy: 0.4428 - val_loss: 1.5518 - val_accuracy: 0.4364\n",
      "Epoch 23/25\n",
      "50/50 [==============================] - 3s 56ms/step - loss: 1.5200 - accuracy: 0.4449 - val_loss: 1.5660 - val_accuracy: 0.4266\n",
      "Epoch 24/25\n",
      "50/50 [==============================] - 3s 56ms/step - loss: 1.5110 - accuracy: 0.4463 - val_loss: 1.5484 - val_accuracy: 0.4420\n",
      "Epoch 25/25\n",
      "50/50 [==============================] - 3s 62ms/step - loss: 1.4958 - accuracy: 0.4543 - val_loss: 1.5228 - val_accuracy: 0.4464\n"
     ]
    }
   ],
   "source": [
    "cnn = keras.models.Sequential()\n",
    "cnn.add(keras.layers.Conv2D(8, (3, 3), activation='relu', input_shape=(32, 32, 3)))\n",
    "cnn.add(keras.layers.Conv2D(8, (3, 3), activation='relu'))\n",
    "cnn.add(keras.layers.AveragePooling2D((2, 2)))\n",
    "cnn.add(keras.layers.Conv2D(16, (3, 3), activation='relu'))\n",
    "cnn.add(keras.layers.Conv2D(16, (3, 3), activation='relu'))\n",
    "cnn.add(keras.layers.AveragePooling2D((2, 2)))\n",
    "cnn.add(keras.layers.Conv2D(32, (3, 3), activation='relu'))\n",
    "cnn.add(keras.layers.Conv2D(32, (1, 1), activation='relu'))\n",
    "cnn.add(keras.layers.AveragePooling2D((2, 2)))\n",
    "cnn.add(keras.layers.Flatten())\n",
    "cnn.add(keras.layers.Dense(16, activation='relu'))\n",
    "cnn.add(keras.layers.Dense(10, activation='softmax'))\n",
    "cnn.summary()\n",
    "\n",
    "\n",
    "\n",
    "cnn.compile(optimizer=\"nadam\",\n",
    "            loss=\"categorical_crossentropy\",\n",
    "            metrics=[\"accuracy\"])\n",
    "\n",
    "\n",
    "# early_stop = keras.callbacks.EarlyStopping(monitor='val_loss', patience=5)\n",
    "# best_model = keras.callbacks.ModelCheckpoint('cnn_ex1.h5', monitor='val_loss', save_best_only=True)\n",
    "cnn_train = cnn.fit(trainGen, epochs=25, validation_data=validGen)\n",
    "# load model\n",
    "#cnn = keras.models.load_model('cnn_ex1.h5')\n"
   ]
  },
  {
   "cell_type": "code",
   "execution_count": null,
   "metadata": {},
   "outputs": [],
   "source": [
    "# Plot training & validation accuracy values and loss values\n",
    "plt.figure(figsize=(10, 5))\n",
    "\n",
    "# Plot accuracy curves\n",
    "plt.plot(cnn_train.history['accuracy'], label='Training Accuracy')\n",
    "plt.plot(cnn_train.history['val_accuracy'], label='Validation Accuracy')\n",
    "\n",
    "# Plot loss curves\n",
    "plt.plot(cnn_train.history['loss'], label='Training Loss')\n",
    "plt.plot(cnn_train.history['val_loss'], label='Validation Loss')\n",
    "\n",
    "plt.title('Model Accuracy and Loss')\n",
    "plt.xlabel('Epoch')\n",
    "plt.ylabel('Value')\n",
    "plt.legend()\n",
    "\n",
    "plt.show()"
   ]
  },
  {
   "attachments": {},
   "cell_type": "markdown",
   "metadata": {},
   "source": [
    "## 1.d)"
   ]
  },
  {
   "cell_type": "code",
   "execution_count": null,
   "metadata": {},
   "outputs": [],
   "source": [
    "from sklearn.metrics import confusion_matrix\n",
    "cnn_y_pred = cnn.predict(testGen)\n",
    "cnn_y_pred = np.argmax(cnn_y_pred, axis=1)\n",
    "\n",
    "cnn_cm = confusion_matrix(Y2, cnn_y_pred)\n",
    "print(cnn_cm)\n",
    "print('Total number of errors: ', np.sum(Y2 != cnn_y_pred))\n",
    "print('Accuracy: ', np.sum(y2 == cnn_y_pred) / y2.shape[0] * 100)"
   ]
  },
  {
   "attachments": {},
   "cell_type": "markdown",
   "metadata": {},
   "source": [
    "# Question 2\n",
    "## Consider that we want to use transfer learning to build a CNN to tackle the problem. For the pre-trained CNN use MobileNetV2. Use only one Dense layer for the output of the network.\n",
    "### a)  Build and compile this network.\n",
    "### b)  Define new generators (for training, validation and testing) so that they perform the correct pre-process of he data so it can be used by the network. \n",
    "### c)  Train the network for 25 epochs and show the results. Print the confusion matrix and the total number of errors in the test set. Compare the results with the ones obtained in the previous question and state the possible reasons for the differences in performance."
   ]
  },
  {
   "cell_type": "code",
   "execution_count": 10,
   "metadata": {},
   "outputs": [],
   "source": [
    "import numpy as np\n",
    "import matplotlib.pyplot as plt\n",
    "import tensorflow as tf\n",
    "import tensorflow.keras as keras\n",
    "from keras.preprocessing.image import ImageDataGenerator\n",
    "from sklearn.metrics import confusion_matrix, roc_curve\n",
    "import tensorflow.keras.datasets.cifar10 as cifar10\n",
    "from keras.applications.mobilenet_v2 import MobileNetV2, preprocess_input\n",
    "\n",
    "(X1,y1),(X2,y2)=cifar10.load_data()\n",
    "y1=y1.squeeze()\n",
    "y2=y2.squeeze()\n"
   ]
  },
  {
   "attachments": {},
   "cell_type": "markdown",
   "metadata": {},
   "source": [
    "## 2.a)"
   ]
  },
  {
   "cell_type": "code",
   "execution_count": 11,
   "metadata": {},
   "outputs": [
    {
     "name": "stdout",
     "output_type": "stream",
     "text": [
      "WARNING:tensorflow:`input_shape` is undefined or non-square, or `rows` is not in [96, 128, 160, 192, 224]. Weights for input shape (224, 224) will be loaded as the default.\n"
     ]
    }
   ],
   "source": [
    "\n",
    "base_model = MobileNetV2(weights='imagenet', include_top=False, input_shape=(32, 32, 3))\n",
    "base_model.trainable = False\n",
    "\n",
    "model = keras.models.Sequential()\n",
    "model.add(base_model)\n",
    "model.add(keras.layers.Flatten())\n",
    "model.add(keras.layers.Dense(10, activation='softmax'))\n",
    "model.compile(optimizer='nadam', loss='sparse_categorical_crossentropy', metrics=['accuracy'])"
   ]
  },
  {
   "cell_type": "code",
   "execution_count": 12,
   "metadata": {},
   "outputs": [
    {
     "name": "stdout",
     "output_type": "stream",
     "text": [
      "Model: \"sequential_2\"\n",
      "_________________________________________________________________\n",
      " Layer (type)                Output Shape              Param #   \n",
      "=================================================================\n",
      " mobilenetv2_1.00_224 (Funct  (None, 1, 1, 1280)       2257984   \n",
      " ional)                                                          \n",
      "                                                                 \n",
      " flatten_2 (Flatten)         (None, 1280)              0         \n",
      "                                                                 \n",
      " dense_2 (Dense)             (None, 10)                12810     \n",
      "                                                                 \n",
      "=================================================================\n",
      "Total params: 2,270,794\n",
      "Trainable params: 12,810\n",
      "Non-trainable params: 2,257,984\n",
      "_________________________________________________________________\n"
     ]
    }
   ],
   "source": [
    "model.summary()"
   ]
  },
  {
   "cell_type": "code",
   "execution_count": null,
   "metadata": {},
   "outputs": [],
   "source": []
  },
  {
   "attachments": {},
   "cell_type": "markdown",
   "metadata": {},
   "source": [
    "## 2.b)"
   ]
  },
  {
   "cell_type": "code",
   "execution_count": 13,
   "metadata": {},
   "outputs": [],
   "source": [
    "# PRE-PROCESS \n",
    "X1 = preprocess_input(X1)\n",
    "X2 = preprocess_input(X2)"
   ]
  },
  {
   "cell_type": "code",
   "execution_count": 14,
   "metadata": {},
   "outputs": [],
   "source": [
    "dataGen=ImageDataGenerator(rescale=1./255,validation_split=.25)\n",
    "trainGen=dataGen.flow(X1,y1,batch_size=300,subset='training')\n",
    "validGen=dataGen.flow(X1,y1,batch_size=100,subset='validation')\n",
    "testGen = ImageDataGenerator(rescale=1./255).flow(X2, shuffle=False, batch_size=1)"
   ]
  },
  {
   "cell_type": "code",
   "execution_count": null,
   "metadata": {},
   "outputs": [],
   "source": []
  },
  {
   "attachments": {},
   "cell_type": "markdown",
   "metadata": {},
   "source": [
    "## 2.c)"
   ]
  },
  {
   "cell_type": "code",
   "execution_count": 15,
   "metadata": {},
   "outputs": [
    {
     "name": "stdout",
     "output_type": "stream",
     "text": [
      "Epoch 1/25\n"
     ]
    },
    {
     "name": "stderr",
     "output_type": "stream",
     "text": [
      "2023-05-18 19:34:06.882371: I tensorflow/core/grappler/optimizers/custom_graph_optimizer_registry.cc:113] Plugin optimizer for device_type GPU is enabled.\n"
     ]
    },
    {
     "name": "stdout",
     "output_type": "stream",
     "text": [
      "125/125 [==============================] - ETA: 0s - loss: 2.3014 - accuracy: 0.1126"
     ]
    },
    {
     "name": "stderr",
     "output_type": "stream",
     "text": [
      "2023-05-18 19:34:21.404490: I tensorflow/core/grappler/optimizers/custom_graph_optimizer_registry.cc:113] Plugin optimizer for device_type GPU is enabled.\n"
     ]
    },
    {
     "name": "stdout",
     "output_type": "stream",
     "text": [
      "125/125 [==============================] - 40s 297ms/step - loss: 2.3014 - accuracy: 0.1126 - val_loss: 0.0000e+00 - val_accuracy: 0.0000e+00\n",
      "Epoch 2/25\n",
      "125/125 [==============================] - 39s 310ms/step - loss: 2.2986 - accuracy: 0.1315 - val_loss: 0.0000e+00 - val_accuracy: 0.0000e+00\n",
      "Epoch 3/25\n",
      "125/125 [==============================] - 37s 296ms/step - loss: 2.2963 - accuracy: 0.1445 - val_loss: 0.0000e+00 - val_accuracy: 0.0000e+00\n",
      "Epoch 4/25\n",
      "125/125 [==============================] - 41s 332ms/step - loss: 2.2940 - accuracy: 0.1476 - val_loss: 0.0000e+00 - val_accuracy: 0.0000e+00\n",
      "Epoch 5/25\n",
      "125/125 [==============================] - 38s 304ms/step - loss: 2.2917 - accuracy: 0.1594 - val_loss: 0.0000e+00 - val_accuracy: 0.0000e+00\n",
      "Epoch 6/25\n",
      "125/125 [==============================] - 45s 359ms/step - loss: 2.2896 - accuracy: 0.1581 - val_loss: 0.0000e+00 - val_accuracy: 0.0000e+00\n",
      "Epoch 7/25\n",
      "125/125 [==============================] - 36s 288ms/step - loss: 2.2874 - accuracy: 0.1707 - val_loss: 0.0000e+00 - val_accuracy: 0.0000e+00\n",
      "Epoch 8/25\n",
      "125/125 [==============================] - 34s 273ms/step - loss: 2.2853 - accuracy: 0.1663 - val_loss: 0.0000e+00 - val_accuracy: 0.0000e+00\n",
      "Epoch 9/25\n",
      "125/125 [==============================] - 41s 331ms/step - loss: 2.2832 - accuracy: 0.1692 - val_loss: 0.0000e+00 - val_accuracy: 0.0000e+00\n",
      "Epoch 10/25\n",
      "125/125 [==============================] - 35s 279ms/step - loss: 2.2813 - accuracy: 0.1621 - val_loss: 0.0000e+00 - val_accuracy: 0.0000e+00\n",
      "Epoch 11/25\n",
      "125/125 [==============================] - 37s 297ms/step - loss: 2.2794 - accuracy: 0.1713 - val_loss: 0.0000e+00 - val_accuracy: 0.0000e+00\n",
      "Epoch 12/25\n",
      "125/125 [==============================] - 36s 292ms/step - loss: 2.2775 - accuracy: 0.1698 - val_loss: 0.0000e+00 - val_accuracy: 0.0000e+00\n",
      "Epoch 13/25\n",
      "125/125 [==============================] - 37s 296ms/step - loss: 2.2757 - accuracy: 0.1767 - val_loss: 0.0000e+00 - val_accuracy: 0.0000e+00\n",
      "Epoch 14/25\n",
      "125/125 [==============================] - 35s 285ms/step - loss: 2.2738 - accuracy: 0.1707 - val_loss: 0.0000e+00 - val_accuracy: 0.0000e+00\n",
      "Epoch 15/25\n",
      "125/125 [==============================] - 38s 305ms/step - loss: 2.2721 - accuracy: 0.1765 - val_loss: 0.0000e+00 - val_accuracy: 0.0000e+00\n",
      "Epoch 16/25\n",
      "125/125 [==============================] - 35s 281ms/step - loss: 2.2704 - accuracy: 0.1680 - val_loss: 0.0000e+00 - val_accuracy: 0.0000e+00\n",
      "Epoch 17/25\n",
      "125/125 [==============================] - 37s 300ms/step - loss: 2.2687 - accuracy: 0.1761 - val_loss: 0.0000e+00 - val_accuracy: 0.0000e+00\n",
      "Epoch 18/25\n",
      "125/125 [==============================] - 43s 342ms/step - loss: 2.2671 - accuracy: 0.1798 - val_loss: 0.0000e+00 - val_accuracy: 0.0000e+00\n",
      "Epoch 19/25\n",
      "125/125 [==============================] - 50s 401ms/step - loss: 2.2655 - accuracy: 0.1766 - val_loss: 0.0000e+00 - val_accuracy: 0.0000e+00\n",
      "Epoch 20/25\n",
      "125/125 [==============================] - 38s 302ms/step - loss: 2.2640 - accuracy: 0.1864 - val_loss: 0.0000e+00 - val_accuracy: 0.0000e+00\n",
      "Epoch 21/25\n",
      "125/125 [==============================] - 34s 277ms/step - loss: 2.2625 - accuracy: 0.1773 - val_loss: 0.0000e+00 - val_accuracy: 0.0000e+00\n",
      "Epoch 22/25\n",
      "125/125 [==============================] - 36s 293ms/step - loss: 2.2610 - accuracy: 0.1853 - val_loss: 0.0000e+00 - val_accuracy: 0.0000e+00\n",
      "Epoch 23/25\n",
      "125/125 [==============================] - 36s 293ms/step - loss: 2.2595 - accuracy: 0.1831 - val_loss: 0.0000e+00 - val_accuracy: 0.0000e+00\n",
      "Epoch 24/25\n",
      "125/125 [==============================] - 37s 298ms/step - loss: 2.2581 - accuracy: 0.1801 - val_loss: 0.0000e+00 - val_accuracy: 0.0000e+00\n",
      "Epoch 25/25\n",
      "125/125 [==============================] - 43s 343ms/step - loss: 2.2567 - accuracy: 0.1760 - val_loss: 0.0000e+00 - val_accuracy: 0.0000e+00\n"
     ]
    }
   ],
   "source": [
    "# early_stop = keras.callbacks.EarlyStopping(monitor='val_loss', patience=5)\n",
    "# best_model = keras.callbacks.ModelCheckpoint('ex2_bm.h5', monitor='val_loss', save_best_only=True)\n",
    "model_train = model.fit(trainGen, epochs=25, validation_data=testGen)\n",
    "#model = keras.models.load_model('ex2_bm.h5')"
   ]
  },
  {
   "cell_type": "code",
   "execution_count": 16,
   "metadata": {},
   "outputs": [
    {
     "data": {
      "image/png": "[encoded data removed]",
      "text/plain": [
       "<Figure size 1000x500 with 1 Axes>"
      ]
     },
     "metadata": {},
     "output_type": "display_data"
    }
   ],
   "source": [
    "# Plot training & validation accuracy values and loss values\n",
    "plt.figure(figsize=(10, 5))\n",
    "\n",
    "# Plot accuracy curves\n",
    "plt.plot(model_train.history['accuracy'], label='Training Accuracy')\n",
    "plt.plot(model_train.history['val_accuracy'], label='Validation Accuracy')\n",
    "\n",
    "# Plot loss curves\n",
    "plt.plot(model_train.history['loss'], label='Training Loss')\n",
    "plt.plot(model_train.history['val_loss'], label='Validation Loss')\n",
    "\n",
    "plt.title('Model Accuracy and Loss')\n",
    "plt.xlabel('Epoch')\n",
    "plt.ylabel('Value')\n",
    "plt.legend()\n",
    "\n",
    "plt.show()"
   ]
  },
  {
   "cell_type": "code",
   "execution_count": 17,
   "metadata": {},
   "outputs": [
    {
     "name": "stderr",
     "output_type": "stream",
     "text": [
      "2023-05-18 19:50:21.729901: I tensorflow/core/grappler/optimizers/custom_graph_optimizer_registry.cc:113] Plugin optimizer for device_type GPU is enabled.\n"
     ]
    },
    {
     "name": "stdout",
     "output_type": "stream",
     "text": [
      "313/313 [==============================] - 10s 25ms/step\n",
      "[[  7  39  27   3   0 837  30  17   1  39]\n",
      " [  8  22   8   2   2 920   6  14   0  18]\n",
      " [  3  28   5   4   0 908  13  15   1  23]\n",
      " [  3  10   4   4   1 956   8  10   0   4]\n",
      " [  0  11   6   6   0 947   5  15   1   9]\n",
      " [  0   7   5   7   0 958  10  12   0   1]\n",
      " [  2  10   8   3   0 935  12  16   0  14]\n",
      " [  0  19  15   5   1 924  14  10   1  11]\n",
      " [  3  47  11   6   0 890  18   7   0  18]\n",
      " [  4  22   5   9   0 936   3  12   0   9]]\n",
      "Total number of errors:  8973\n",
      "Accuracy:  10.27\n"
     ]
    }
   ],
   "source": [
    "model_y_pred = model.predict(X2)\n",
    "model_y_pred = np.argmax(model_y_pred, axis=1)\n",
    "\n",
    "model_cm = confusion_matrix(y2, model_y_pred)\n",
    "print(model_cm)\n",
    "print('Total number of errors: ', np.sum(y2 != model_y_pred))\n",
    "print('Accuracy: ', np.sum(y2 == model_y_pred) / y2.shape[0] * 100)"
   ]
  },
  {
   "cell_type": "code",
   "execution_count": null,
   "metadata": {},
   "outputs": [],
   "source": []
  }
 ],
 "metadata": {
  "kernelspec": {
   "display_name": "Python 3",
   "language": "python",
   "name": "python3"
  },
  "language_info": {
   "codemirror_mode": {
    "name": "ipython",
    "version": 3
   },
   "file_extension": ".py",
   "mimetype": "text/x-python",
   "name": "python",
   "nbconvert_exporter": "python",
   "pygments_lexer": "ipython3",
   "version": "3.10.9"
  }
 },
 "nbformat": 4,
 "nbformat_minor": 4
}
