{
 "cells": [
  {
   "cell_type": "markdown",
   "metadata": {},
   "source": [
    "# In-Class Quiz Nº 4"
   ]
  },
  {
   "cell_type": "markdown",
   "metadata": {},
   "source": [
    "<hr style=\"border:1px  solid black\"> </hr>"
   ]
  },
  {
   "cell_type": "markdown",
   "metadata": {},
   "source": [
    "### (Fill in)\n",
    "## Name: ruben santos\n",
    "## Number: A49063"
   ]
  },
  {
   "cell_type": "markdown",
   "metadata": {},
   "source": [
    "<hr style=\"border:1px  solid black\"> </hr>"
   ]
  },
  {
   "cell_type": "markdown",
   "metadata": {},
   "source": [
    "## Develop and run the requested code in the cells immediately below the questions."
   ]
  },
  {
   "cell_type": "markdown",
   "metadata": {},
   "source": [
    "# IMPORTANT:\n",
    "## Once completed, save this Jupyter notebook with the following name:\n",
    "## Axxxxx-Q4.ipynb (Axxxxx: student number)\n",
    "##  and then upload the file to the Moodle link provided for that purpose."
   ]
  },
  {
   "cell_type": "markdown",
   "metadata": {},
   "source": [
    "<hr style=\"border:2px solid black\"> </hr>"
   ]
  },
  {
   "cell_type": "markdown",
   "metadata": {},
   "source": [
    "# Data: kMNIST dataset (small version) - pickle file $\\texttt{kMNISTsmall.p}$\n",
    "## This file has the following variables (in a dictionary)\n",
    "* ### X1: training data ($10000\\times(28\\times28)$  uint8 array)\n",
    "* ### y1: classes of the training data (10 japanese characters, class-numbers 0 to 9)\n",
    "* ### X2: test data ($5000\\times(28\\times28)$ uint8 array)\n",
    "* ### y2: classes of the test data (10 japanese characters, class-numbers 0 to 9)"
   ]
  },
  {
   "cell_type": "code",
   "execution_count": 1,
   "metadata": {},
   "outputs": [],
   "source": [
    "import numpy as np\n",
    "import matplotlib.pyplot as plt\n",
    "import tensorflow as tf\n",
    "import tensorflow.keras as keras\n",
    "from sklearn.metrics import confusion_matrix, roc_curve\n",
    "import pickle\n",
    "from tensorflow.keras import models\n",
    "from tensorflow.keras import layers\n",
    "from tensorflow import keras\n",
    "import cv2\n",
    "import matplotlib.pyplot as plt\n",
    "#for those who have the GPU enable, maybe uncomment the next lines\n",
    "#gp=tf.config.list_physical_devices('GPU')\n",
    "#print(gp)\n",
    "#tf.config.experimental.set_memory_growth(gp[0],True)\n",
    "\n",
    "#load data\n",
    "D=pickle.load(open('kMNISTsmall.p','rb'))\n",
    "X1=D.X1\n",
    "X2=D.X2\n",
    "y1=D.y1\n",
    "y2=D.y2\n",
    "\n",
    "#print(X1.shape,X2.shape)"
   ]
  },
  {
   "cell_type": "code",
   "execution_count": 2,
   "metadata": {},
   "outputs": [
    {
     "name": "stdout",
     "output_type": "stream",
     "text": [
      "X1: (10000, 28, 28) uint8\n",
      "y1: (10000,)\n",
      "X2: (5000, 28, 28)\n",
      "y2: (5000,)\n"
     ]
    }
   ],
   "source": [
    "print('X1:',X1.shape,X1.dtype)\n",
    "print('y1:',y1.shape)\n",
    "print('X2:',X2.shape)\n",
    "print('y2:',y2.shape)"
   ]
  },
  {
   "cell_type": "markdown",
   "metadata": {},
   "source": [
    "# Question 1: \n",
    "##  Build (from scratch) a CNN with an architecture of your choice and with the following restrictions:\n",
    "## - Use 6 convolutional layers\n",
    "## - Use 3 pooling layers\n",
    "## - DO NOT use data augmentation\n",
    "## - Obtain in the test set an accuracy equal or above 90%\n",
    "###  Build this network, compile and train the network using the kMNIST training set. Also include the test data as the validation set during training.\n",
    "###  Plot the  the losses and the accuracies curves for the training and validation sets during the training process.  Comment the results. Print the total number of errors and the confusion matrix for the test dataset."
   ]
  },
  {
   "cell_type": "code",
   "execution_count": 3,
   "metadata": {},
   "outputs": [
    {
     "name": "stdout",
     "output_type": "stream",
     "text": [
      "WARNING:tensorflow:From C:\\Users\\ruben\\AppData\\Local\\Continuum\\anaconda3\\lib\\site-packages\\tensorflow\\python\\ops\\init_ops.py:1251: calling VarianceScaling.__init__ (from tensorflow.python.ops.init_ops) with dtype is deprecated and will be removed in a future version.\n",
      "Instructions for updating:\n",
      "Call initializer instance with the dtype argument instead of passing it to the constructor\n"
     ]
    }
   ],
   "source": [
    "cnn=keras.models.Sequential()\n",
    "\n",
    "cnn.add(layers.Conv2D(16, (5, 5), activation='relu',input_shape=(28, 28, 1), padding=\"same\"))\n",
    "cnn.add(layers.Conv2D(16, (5, 5), activation='relu'))\n",
    "cnn.add(layers.AveragePooling2D((2, 2)))\n",
    "\n",
    "cnn.add(layers.Conv2D(64, (5, 5), activation='relu'))\n",
    "cnn.add(layers.Conv2D(64, (5, 5), activation='relu'))\n",
    "cnn.add(layers.AveragePooling2D((2, 2)))\n",
    "\n",
    "cnn.add(layers.Conv2D(128, (1, 1), activation='relu'))\n",
    "cnn.add(layers.Conv2D(128, (1, 1), activation='relu'))\n",
    "cnn.add(layers.AveragePooling2D((2, 2)))\n",
    "\n",
    "cnn.add(layers.Flatten())\n",
    "cnn.add(layers.Dense(88, activation='relu'))\n",
    "cnn.add(layers.Dense(10, activation='softmax'))\n",
    "#lenet5.summary()"
   ]
  },
  {
   "cell_type": "code",
   "execution_count": 4,
   "metadata": {},
   "outputs": [],
   "source": [
    "X1=X1.reshape(-1,28,28,1)\n",
    "X2=X2.reshape(-1,28,28,1)\n",
    "\n",
    "y1=keras.utils.to_categorical(y1)\n",
    "y2=keras.utils.to_categorical(y2)"
   ]
  },
  {
   "cell_type": "code",
   "execution_count": 5,
   "metadata": {},
   "outputs": [
    {
     "name": "stdout",
     "output_type": "stream",
     "text": [
      "Train on 10000 samples, validate on 5000 samples\n",
      "Epoch 1/20\n",
      "10000/10000 [==============================] - 18s 2ms/sample - loss: 3.1515 - acc: 0.1895 - val_loss: 2.0392 - val_acc: 0.2636\n",
      "Epoch 2/20\n",
      "10000/10000 [==============================] - 16s 2ms/sample - loss: 1.6523 - acc: 0.4511 - val_loss: 1.7366 - val_acc: 0.3766\n",
      "Epoch 3/20\n",
      "10000/10000 [==============================] - 15s 1ms/sample - loss: 1.4254 - acc: 0.5327 - val_loss: 1.6744 - val_acc: 0.4650\n",
      "Epoch 4/20\n",
      "10000/10000 [==============================] - 15s 1ms/sample - loss: 0.9947 - acc: 0.6964 - val_loss: 1.2032 - val_acc: 0.6076\n",
      "Epoch 5/20\n",
      "10000/10000 [==============================] - 14s 1ms/sample - loss: 0.8380 - acc: 0.7390 - val_loss: 1.7433 - val_acc: 0.4974\n",
      "Epoch 6/20\n",
      "10000/10000 [==============================] - 17s 2ms/sample - loss: 0.8289 - acc: 0.7498 - val_loss: 1.0392 - val_acc: 0.6644\n",
      "Epoch 7/20\n",
      "10000/10000 [==============================] - 13s 1ms/sample - loss: 0.5593 - acc: 0.8228 - val_loss: 0.9091 - val_acc: 0.7166\n",
      "Epoch 8/20\n",
      "10000/10000 [==============================] - 14s 1ms/sample - loss: 0.6342 - acc: 0.8013 - val_loss: 0.8723 - val_acc: 0.7324\n",
      "Epoch 9/20\n",
      "10000/10000 [==============================] - 15s 2ms/sample - loss: 0.4371 - acc: 0.8636 - val_loss: 0.8451 - val_acc: 0.7358\n",
      "Epoch 10/20\n",
      "10000/10000 [==============================] - 14s 1ms/sample - loss: 0.3277 - acc: 0.9033 - val_loss: 0.6538 - val_acc: 0.7982\n",
      "Epoch 11/20\n",
      "10000/10000 [==============================] - 14s 1ms/sample - loss: 0.3454 - acc: 0.8949 - val_loss: 0.6956 - val_acc: 0.7828\n",
      "Epoch 12/20\n",
      "10000/10000 [==============================] - 14s 1ms/sample - loss: 0.2923 - acc: 0.9103 - val_loss: 0.6265 - val_acc: 0.8022\n",
      "Epoch 13/20\n",
      "10000/10000 [==============================] - 15s 1ms/sample - loss: 0.2000 - acc: 0.9415 - val_loss: 0.5741 - val_acc: 0.8226\n",
      "Epoch 14/20\n",
      "10000/10000 [==============================] - 15s 1ms/sample - loss: 0.2252 - acc: 0.9310 - val_loss: 0.5567 - val_acc: 0.8320\n",
      "Epoch 15/20\n",
      "10000/10000 [==============================] - 14s 1ms/sample - loss: 0.1769 - acc: 0.9442 - val_loss: 0.5101 - val_acc: 0.8430\n",
      "Epoch 16/20\n",
      "10000/10000 [==============================] - 14s 1ms/sample - loss: 0.1327 - acc: 0.9616 - val_loss: 0.4640 - val_acc: 0.8628\n",
      "Epoch 17/20\n",
      "10000/10000 [==============================] - 14s 1ms/sample - loss: 0.1111 - acc: 0.9646 - val_loss: 0.5534 - val_acc: 0.8416\n",
      "Epoch 18/20\n",
      "10000/10000 [==============================] - 17s 2ms/sample - loss: 0.2156 - acc: 0.9354 - val_loss: 0.4608 - val_acc: 0.8550\n",
      "Epoch 19/20\n",
      "10000/10000 [==============================] - 16s 2ms/sample - loss: 0.0993 - acc: 0.9707 - val_loss: 0.4320 - val_acc: 0.8712\n",
      "Epoch 20/20\n",
      "10000/10000 [==============================] - 14s 1ms/sample - loss: 0.0774 - acc: 0.9776 - val_loss: 0.4372 - val_acc: 0.8768\n"
     ]
    }
   ],
   "source": [
    "cnn.compile(optimizer=\"nadam\", \n",
    "               loss=\"categorical_crossentropy\", \n",
    "               metrics=[\"accuracy\"])\n",
    "\n",
    "train = cnn.fit(X1, y1, \n",
    "                  epochs=20, batch_size=1024, \n",
    "                  validation_data=(X2, y2))"
   ]
  },
  {
   "cell_type": "code",
   "execution_count": 6,
   "metadata": {},
   "outputs": [
    {
     "data": {
      "image/png": "[encoded data removed]",
      "text/plain": [
       "<Figure size 1080x360 with 2 Axes>"
      ]
     },
     "metadata": {
      "needs_background": "light"
     },
     "output_type": "display_data"
    },
    {
     "name": "stdout",
     "output_type": "stream",
     "text": [
      "10000/10000 [==============================] - 3s 285us/sample - loss: 0.0656 - acc: 0.9811\n",
      "0.06556240987330675 0.9811\n"
     ]
    }
   ],
   "source": [
    "import matplotlib.pyplot as plt\n",
    "\n",
    "h=train.history\n",
    "plt.figure(figsize=(15,5))\n",
    "\n",
    "plt.subplot(1, 2, 1)\n",
    "plt.plot(h[\"acc\"], label='Accuracy')\n",
    "plt.plot(h[\"val_acc\"], label='Validation Accuracy')\n",
    "plt.xlabel('Epoch')\n",
    "plt.ylabel('Accuracy')\n",
    "plt.legend()\n",
    "plt.grid(True)\n",
    "\n",
    "plt.subplot(1, 2, 2)\n",
    "plt.plot(h[\"loss\"], label='Loss')\n",
    "plt.plot(h[\"val_loss\"], label='Validation Loss')\n",
    "plt.xlabel('Epoch')\n",
    "plt.ylabel('Accuracy')\n",
    "plt.legend()\n",
    "plt.grid(True)\n",
    "\n",
    "plt.show()\n",
    "#plt.axis([0,100,0,5.25])\n",
    "#plt.ylim([0.5, 1])\n",
    "\n",
    "test_loss, test_acc = cnn.evaluate(X1, y1)\n",
    "print(test_loss, test_acc)"
   ]
  },
  {
   "cell_type": "code",
   "execution_count": 11,
   "metadata": {},
   "outputs": [
    {
     "name": "stdout",
     "output_type": "stream",
     "text": [
      "Total number of erros: 1\n",
      "\n",
      "Matriz de confusao:\n",
      " [[438   4   0   1  26   7   3   5  15   1]\n",
      " [  2 431   5   2  10   1  21   0  19   9]\n",
      " [  2   1 419  34   8   4   6   5  18   3]\n",
      " [  0   0  11 474   1   3   0   0   9   2]\n",
      " [  9   6   0  11 442   4   3   4  20   1]\n",
      " [  1   5  42   4   7 401  12   3  19   6]\n",
      " [  2   7  12  12  20   2 438   3   3   1]\n",
      " [  5   3  14   1  21   1  10 425   9  11]\n",
      " [  2   0   1  17   0   0   1   0 478   1]\n",
      " [  2   1  17   3  15   1   3  10  10 438]]\n"
     ]
    },
    {
     "name": "stderr",
     "output_type": "stream",
     "text": [
      "C:\\Users\\ruben\\AppData\\Local\\Continuum\\anaconda3\\lib\\site-packages\\ipykernel_launcher.py:14: DeprecationWarning: elementwise comparison failed; this will raise an error in the future.\n",
      "  \n"
     ]
    }
   ],
   "source": [
    "# Y2e=cnn.predict(X2)\n",
    "# ytestPred=np.argmax(Y2e, axis=1)\n",
    "import numpy as np\n",
    "rounded_labels=np.argmax(y2, axis=1)\n",
    "rounded_predictions = cnn.predict_classes(X2, batch_size=128, verbose=0)\n",
    "\n",
    "from sklearn.metrics import confusion_matrix\n",
    "cm = confusion_matrix(rounded_labels, rounded_predictions)\n",
    "\n",
    "\n",
    "print('Total number of erros:',np.sum(y2!=rounded_predictions))\n",
    "print(\"\\nMatriz de confusao:\\n\", cm)"
   ]
  },
  {
   "cell_type": "markdown",
   "metadata": {},
   "source": [
    "# Question 2\n",
    "## Consider that we want to use transfer learning to build a CNN to tackle the kMNIST dataset. For the pre-trained CNN use MobileNetV2. Use only one Dense layer for the output of the network.\n",
    "### a)  Build and compile this network.\n",
    "### b)  Pre-process the data so it can be used by the network.\n",
    "### c)  Train the network for 25 epochs and show the results. Compare the results with the ones obtained in the previous question and state the possible reasons for the differences in performance."
   ]
  },
  {
   "cell_type": "code",
   "execution_count": 2,
   "metadata": {},
   "outputs": [],
   "source": [
    "from tensorflow.keras import models\n",
    "import pickle\n",
    "from tensorflow.keras.applications.mobilenet_v2 import MobileNetV2, preprocess_input\n",
    "D=pickle.load(open('kMNISTsmall.p','rb'))\n",
    "X1=D.X1\n",
    "X2=D.X2\n",
    "y1=D.y1\n",
    "y2=D.y2\n"
   ]
  },
  {
   "cell_type": "markdown",
   "metadata": {},
   "source": [
    "## 2.a)"
   ]
  },
  {
   "cell_type": "code",
   "execution_count": 5,
   "metadata": {},
   "outputs": [],
   "source": [
    "\n",
    "cnnBase = MobileNetV2(weights='imagenet', input_shape=(96, 96, 3), include_top=False)\n",
    "\n",
    "cnnBase.trainable = False\n",
    "\n",
    "cnn = models.Sequential()\n",
    "cnn.add(cnnBase)\n",
    "cnn.add(layers.Flatten())\n",
    "cnn.add(layers.Dense(10, activation='softmax'))\n",
    "\n",
    "\n",
    "\n",
    "cnn.compile(optimizer=\"nadam\",\n",
    "            loss=\"categorical_crossentropy\",\n",
    "            metrics=[\"accuracy\"])"
   ]
  },
  {
   "cell_type": "markdown",
   "metadata": {},
   "source": [
    "## 2.b)"
   ]
  },
  {
   "cell_type": "code",
   "execution_count": 6,
   "metadata": {},
   "outputs": [
    {
     "name": "stdout",
     "output_type": "stream",
     "text": [
      "(10000, 28, 28) (5000, 28, 28) (10000,) (5000,)\n"
     ]
    }
   ],
   "source": [
    "print(X1.shape, X2.shape, y1.shape, y2.shape)"
   ]
  },
  {
   "cell_type": "code",
   "execution_count": 7,
   "metadata": {},
   "outputs": [
    {
     "name": "stdout",
     "output_type": "stream",
     "text": [
      "(10000, 28, 28, 3) (5000, 28, 28, 3) (10000, 10) (5000, 10)\n",
      "(10000, 96, 96, 3) (5000, 96, 96, 3) (10000, 10) (5000, 10)\n"
     ]
    }
   ],
   "source": [
    "from skimage.color import gray2rgb\n",
    "\n",
    "X1 = gray2rgb(X1)\n",
    "X2 = gray2rgb(X2)\n",
    "\n",
    "X1 = X1.reshape(-1, 28, 28, 3) / 255.\n",
    "X2 = X2.reshape(-1, 28, 28, 3) / 255.\n",
    "\n",
    "Y1 = keras.utils.to_categorical(y1)\n",
    "Y2 = keras.utils.to_categorical(y2)\n",
    "\n",
    "print(X1.shape, X2.shape, Y1.shape, Y2.shape)\n",
    "\n",
    "X1 = tf.image.resize(X1, (96, 96))\n",
    "X2 = tf.image.resize(X2, (96, 96))\n",
    "\n",
    "X1 = preprocess_input(X1)\n",
    "X2 = preprocess_input(X2)\n",
    "\n",
    "\n",
    "print(X1.shape, X2.shape, Y1.shape, Y2.shape)\n"
   ]
  },
  {
   "cell_type": "markdown",
   "metadata": {},
   "source": [
    "## 2.c)"
   ]
  },
  {
   "cell_type": "code",
   "execution_count": 8,
   "metadata": {},
   "outputs": [
    {
     "ename": "ValueError",
     "evalue": "When using data tensors as input to a model, you should specify the `steps_per_epoch` argument.",
     "output_type": "error",
     "traceback": [
      "\u001b[1;31m---------------------------------------------------------------------------\u001b[0m",
      "\u001b[1;31mValueError\u001b[0m                                Traceback (most recent call last)",
      "\u001b[1;32m<ipython-input-8-93b7b03d4a7e>\u001b[0m in \u001b[0;36m<module>\u001b[1;34m\u001b[0m\n\u001b[0;32m      3\u001b[0m               \u001b[0mbatch_size\u001b[0m\u001b[1;33m=\u001b[0m\u001b[1;36m128\u001b[0m\u001b[1;33m,\u001b[0m\u001b[1;33m\u001b[0m\u001b[1;33m\u001b[0m\u001b[0m\n\u001b[0;32m      4\u001b[0m               \u001b[0mvalidation_data\u001b[0m\u001b[1;33m=\u001b[0m\u001b[1;33m(\u001b[0m\u001b[0mX2\u001b[0m\u001b[1;33m,\u001b[0m \u001b[0mY2\u001b[0m\u001b[1;33m)\u001b[0m\u001b[1;33m,\u001b[0m\u001b[1;33m\u001b[0m\u001b[1;33m\u001b[0m\u001b[0m\n\u001b[1;32m----> 5\u001b[1;33m               use_multiprocessing=True)\n\u001b[0m",
      "\u001b[1;32m~\\AppData\\Local\\Continuum\\anaconda3\\lib\\site-packages\\tensorflow\\python\\keras\\engine\\training.py\u001b[0m in \u001b[0;36mfit\u001b[1;34m(self, x, y, batch_size, epochs, verbose, callbacks, validation_split, validation_data, shuffle, class_weight, sample_weight, initial_epoch, steps_per_epoch, validation_steps, validation_freq, max_queue_size, workers, use_multiprocessing, **kwargs)\u001b[0m\n\u001b[0;32m    707\u001b[0m         \u001b[0msteps\u001b[0m\u001b[1;33m=\u001b[0m\u001b[0msteps_per_epoch\u001b[0m\u001b[1;33m,\u001b[0m\u001b[1;33m\u001b[0m\u001b[1;33m\u001b[0m\u001b[0m\n\u001b[0;32m    708\u001b[0m         \u001b[0mvalidation_split\u001b[0m\u001b[1;33m=\u001b[0m\u001b[0mvalidation_split\u001b[0m\u001b[1;33m,\u001b[0m\u001b[1;33m\u001b[0m\u001b[1;33m\u001b[0m\u001b[0m\n\u001b[1;32m--> 709\u001b[1;33m         shuffle=shuffle)\n\u001b[0m\u001b[0;32m    710\u001b[0m \u001b[1;33m\u001b[0m\u001b[0m\n\u001b[0;32m    711\u001b[0m     \u001b[1;31m# Prepare validation data.\u001b[0m\u001b[1;33m\u001b[0m\u001b[1;33m\u001b[0m\u001b[1;33m\u001b[0m\u001b[0m\n",
      "\u001b[1;32m~\\AppData\\Local\\Continuum\\anaconda3\\lib\\site-packages\\tensorflow\\python\\keras\\engine\\training.py\u001b[0m in \u001b[0;36m_standardize_user_data\u001b[1;34m(self, x, y, sample_weight, class_weight, batch_size, check_steps, steps_name, steps, validation_split, shuffle, extract_tensors_from_dataset)\u001b[0m\n\u001b[0;32m   2507\u001b[0m     \u001b[1;31m# Validates `steps` argument based on x's type.\u001b[0m\u001b[1;33m\u001b[0m\u001b[1;33m\u001b[0m\u001b[1;33m\u001b[0m\u001b[0m\n\u001b[0;32m   2508\u001b[0m     \u001b[1;32mif\u001b[0m \u001b[0mcheck_steps\u001b[0m\u001b[1;33m:\u001b[0m\u001b[1;33m\u001b[0m\u001b[1;33m\u001b[0m\u001b[0m\n\u001b[1;32m-> 2509\u001b[1;33m       \u001b[0mtraining_utils\u001b[0m\u001b[1;33m.\u001b[0m\u001b[0mcheck_steps_argument\u001b[0m\u001b[1;33m(\u001b[0m\u001b[0mx\u001b[0m\u001b[1;33m,\u001b[0m \u001b[0msteps\u001b[0m\u001b[1;33m,\u001b[0m \u001b[0msteps_name\u001b[0m\u001b[1;33m)\u001b[0m\u001b[1;33m\u001b[0m\u001b[1;33m\u001b[0m\u001b[0m\n\u001b[0m\u001b[0;32m   2510\u001b[0m \u001b[1;33m\u001b[0m\u001b[0m\n\u001b[0;32m   2511\u001b[0m     \u001b[1;31m# First, we build/compile the model on the fly if necessary.\u001b[0m\u001b[1;33m\u001b[0m\u001b[1;33m\u001b[0m\u001b[1;33m\u001b[0m\u001b[0m\n",
      "\u001b[1;32m~\\AppData\\Local\\Continuum\\anaconda3\\lib\\site-packages\\tensorflow\\python\\keras\\engine\\training_utils.py\u001b[0m in \u001b[0;36mcheck_steps_argument\u001b[1;34m(input_data, steps, steps_name)\u001b[0m\n\u001b[0;32m    988\u001b[0m       raise ValueError('When using {input_type} as input to a model, you should'\n\u001b[0;32m    989\u001b[0m                        ' specify the `{steps_name}` argument.'.format(\n\u001b[1;32m--> 990\u001b[1;33m                            input_type=input_type_str, steps_name=steps_name))\n\u001b[0m\u001b[0;32m    991\u001b[0m     \u001b[1;32mreturn\u001b[0m \u001b[1;32mTrue\u001b[0m\u001b[1;33m\u001b[0m\u001b[1;33m\u001b[0m\u001b[0m\n\u001b[0;32m    992\u001b[0m   \u001b[1;32mreturn\u001b[0m \u001b[1;32mFalse\u001b[0m\u001b[1;33m\u001b[0m\u001b[1;33m\u001b[0m\u001b[0m\n",
      "\u001b[1;31mValueError\u001b[0m: When using data tensors as input to a model, you should specify the `steps_per_epoch` argument."
     ]
    }
   ],
   "source": [
    "log = cnn.fit(X1, Y1,\n",
    "              epochs=25,\n",
    "              batch_size=128,\n",
    "              validation_data=(X2, Y2),\n",
    "              use_multiprocessing=True)"
   ]
  },
  {
   "cell_type": "code",
   "execution_count": null,
   "metadata": {},
   "outputs": [],
   "source": [
    "h = log.history\n",
    "plt.plot(h[\"loss\"], label='Loss')\n",
    "plt.plot(h[\"accuracy\"], label='Accuracy')\n",
    "plt.plot(h[\"val_loss\"], label='Val Loss')\n",
    "plt.plot(h[\"val_accuracy\"], label='Val Acurracy')\n",
    "plt.legend()\n",
    "plt.show()"
   ]
  },
  {
   "cell_type": "markdown",
   "metadata": {},
   "source": [
    "<hr style=\"border:2px solid black\"> </hr>"
   ]
  },
  {
   "cell_type": "markdown",
   "metadata": {},
   "source": [
    "# Data: Cats and Dogs dataset (small version) - zip file $\\texttt{CatsDogsSmall.zip}$\n",
    "## This file is divided into two directories (train and test)\n",
    "## Each one has two sub-directories (dogs and cats)\n",
    "## The training data consists of a 1000 images of cats and 1000 images of dogs\n",
    "## The test data consists of 500 images of cats and 500 images of dogs\n",
    "## The images have various sizes"
   ]
  },
  {
   "cell_type": "markdown",
   "metadata": {},
   "source": [
    "# Question 3:\n",
    "## Consider that  we want to use transfer learning to build a CNN to perform a binary classification of the images (either a cat or a dog). Additionally with want to use data augmentation during the training process. \n",
    "### a)  Pick a pre-trained network of your choice and incorporate it in a CNN to tackle this problem. Build and compile the CNN.\n",
    "### b)  Using the $\\texttt{ImageDataGenerator}$ from Keras, build two generators (one for training and the other for testing). Note that the training generator has to include data augmentation. Pick one image of a dog and one image of a cat. Show these two original images and five versions of each image with data augmentation. Note: rescale the generated images so that its pixel values are between 0 and 255.\n",
    "### c)  Train the network for 25 epochs and show the results. Also include the test data as the validation set during training. Make sure to set the $\\texttt{steps_per_epoch}$ and the $\\texttt{validation_steps}$ so that each training epoch runs through the all the training and test images. Show the evolution of the accuracies and the losses during training and print the number of errors and the confusion matrix for the test data."
   ]
  },
  {
   "cell_type": "markdown",
   "metadata": {},
   "source": [
    "## 3.a)"
   ]
  },
  {
   "cell_type": "code",
   "execution_count": 16,
   "metadata": {},
   "outputs": [
    {
     "name": "stdout",
     "output_type": "stream",
     "text": [
      "WARNING:tensorflow:From C:\\Users\\ruben\\AppData\\Local\\Continuum\\anaconda3\\lib\\site-packages\\keras\\backend\\tensorflow_backend.py:4070: The name tf.nn.max_pool is deprecated. Please use tf.nn.max_pool2d instead.\n",
      "\n"
     ]
    },
    {
     "name": "stderr",
     "output_type": "stream",
     "text": [
      "Using TensorFlow backend.\n"
     ]
    },
    {
     "name": "stdout",
     "output_type": "stream",
     "text": [
      "WARNING:tensorflow:From C:\\Users\\ruben\\AppData\\Local\\Continuum\\anaconda3\\lib\\site-packages\\keras\\backend\\tensorflow_backend.py:4074: The name tf.nn.avg_pool is deprecated. Please use tf.nn.avg_pool2d instead.\n",
      "\n"
     ]
    }
   ],
   "source": [
    "# sem grandes dimensoes 100, 100\n",
    "import keras\n",
    "\n",
    "# THE CONVOLUTIONAL BASE\n",
    "from keras.applications.vgg16 import VGG16  \n",
    "cnnBase = VGG16(weights=\"imagenet\", include_top=False, input_shape=(100, 100, 3))\n",
    "\n",
    "#THE NETWORK:\n",
    "cnn=keras.models.Sequential()\n",
    "cnn.add(cnnBase)\n",
    "cnn.add(keras.layers.AveragePooling2D(pool_size=(2, 2), strides=2))   # reduce the size of the feature maps by a factor of\n",
    "cnn.add(keras.layers.Flatten())                                       #\n",
    "cnn.add(keras.layers.Dense(128,activation=\"relu\"))                    # Camada normal\n",
    "cnn.add(keras.layers.Dropout(.4))                                     # Camada de regularização\n",
    "cnn.add(keras.layers.Dense(5, activation=\"softmax\"))\n",
    "\n"
   ]
  },
  {
   "cell_type": "markdown",
   "metadata": {},
   "source": [
    "## 3.b)"
   ]
  },
  {
   "cell_type": "code",
   "execution_count": 14,
   "metadata": {},
   "outputs": [
    {
     "ename": "TypeError",
     "evalue": "__init__() got an unexpected keyword argument 'width_shif_range'",
     "output_type": "error",
     "traceback": [
      "\u001b[1;31m---------------------------------------------------------------------------\u001b[0m",
      "\u001b[1;31mTypeError\u001b[0m                                 Traceback (most recent call last)",
      "\u001b[1;32m<ipython-input-14-09ef64e6e1d6>\u001b[0m in \u001b[0;36m<module>\u001b[1;34m\u001b[0m\n\u001b[0;32m      5\u001b[0m                           \u001b[0mheight_shift_range\u001b[0m\u001b[1;33m=\u001b[0m\u001b[1;36m0.2\u001b[0m\u001b[1;33m,\u001b[0m \u001b[0mshear_range\u001b[0m\u001b[1;33m=\u001b[0m\u001b[1;36m0.2\u001b[0m\u001b[1;33m,\u001b[0m\u001b[1;33m\u001b[0m\u001b[1;33m\u001b[0m\u001b[0m\n\u001b[0;32m      6\u001b[0m                           \u001b[0mzoom_range\u001b[0m\u001b[1;33m=\u001b[0m\u001b[1;36m0.2\u001b[0m\u001b[1;33m,\u001b[0m \u001b[0mhorizontal_flip\u001b[0m\u001b[1;33m=\u001b[0m\u001b[1;32mTrue\u001b[0m\u001b[1;33m,\u001b[0m\u001b[1;33m\u001b[0m\u001b[1;33m\u001b[0m\u001b[0m\n\u001b[1;32m----> 7\u001b[1;33m                           fill_mode=\"nearest\")\n\u001b[0m",
      "\u001b[1;31mTypeError\u001b[0m: __init__() got an unexpected keyword argument 'width_shif_range'"
     ]
    }
   ],
   "source": [
    "from keras.preprocessing.image import ImageDataGenerator\n",
    "\n",
    "ImgGen=ImageDataGenerator(rotation_range=30, \n",
    "                          width_shif_range=0.2, \n",
    "                          height_shift_range=0.2, shear_range=0.2, \n",
    "                          zoom_range=0.2, horizontal_flip=True, \n",
    "                          fill_mode=\"nearest\")"
   ]
  },
  {
   "cell_type": "code",
   "execution_count": 15,
   "metadata": {},
   "outputs": [
    {
     "ename": "FileNotFoundError",
     "evalue": "[Errno 2] No such file or directory: 'cat10000.jpg'",
     "output_type": "error",
     "traceback": [
      "\u001b[1;31m---------------------------------------------------------------------------\u001b[0m",
      "\u001b[1;31mFileNotFoundError\u001b[0m                         Traceback (most recent call last)",
      "\u001b[1;32m<ipython-input-15-e4b3eee11940>\u001b[0m in \u001b[0;36m<module>\u001b[1;34m\u001b[0m\n\u001b[0;32m      8\u001b[0m \u001b[1;33m\u001b[0m\u001b[0m\n\u001b[0;32m      9\u001b[0m \u001b[1;31m#import and convert to numpy array\u001b[0m\u001b[1;33m\u001b[0m\u001b[1;33m\u001b[0m\u001b[1;33m\u001b[0m\u001b[0m\n\u001b[1;32m---> 10\u001b[1;33m \u001b[0mI\u001b[0m\u001b[1;33m=\u001b[0m\u001b[0mimage\u001b[0m\u001b[1;33m.\u001b[0m\u001b[0mload_img\u001b[0m\u001b[1;33m(\u001b[0m\u001b[0mfN\u001b[0m\u001b[1;33m,\u001b[0m\u001b[0mtarget_size\u001b[0m\u001b[1;33m=\u001b[0m\u001b[1;33m(\u001b[0m\u001b[1;36m200\u001b[0m\u001b[1;33m,\u001b[0m\u001b[1;36m200\u001b[0m\u001b[1;33m)\u001b[0m\u001b[1;33m)\u001b[0m\u001b[1;33m\u001b[0m\u001b[1;33m\u001b[0m\u001b[0m\n\u001b[0m\u001b[0;32m     11\u001b[0m \u001b[0mI\u001b[0m\u001b[1;33m=\u001b[0m\u001b[0mimage\u001b[0m\u001b[1;33m.\u001b[0m\u001b[0mimg_to_array\u001b[0m\u001b[1;33m(\u001b[0m\u001b[0mI\u001b[0m\u001b[1;33m)\u001b[0m\u001b[1;33m\u001b[0m\u001b[1;33m\u001b[0m\u001b[0m\n\u001b[0;32m     12\u001b[0m \u001b[1;33m\u001b[0m\u001b[0m\n",
      "\u001b[1;32m~\\AppData\\Local\\Continuum\\anaconda3\\lib\\site-packages\\keras_preprocessing\\image\\utils.py\u001b[0m in \u001b[0;36mload_img\u001b[1;34m(path, grayscale, color_mode, target_size, interpolation)\u001b[0m\n\u001b[0;32m    108\u001b[0m         raise ImportError('Could not import PIL.Image. '\n\u001b[0;32m    109\u001b[0m                           'The use of `load_img` requires PIL.')\n\u001b[1;32m--> 110\u001b[1;33m     \u001b[0mimg\u001b[0m \u001b[1;33m=\u001b[0m \u001b[0mpil_image\u001b[0m\u001b[1;33m.\u001b[0m\u001b[0mopen\u001b[0m\u001b[1;33m(\u001b[0m\u001b[0mpath\u001b[0m\u001b[1;33m)\u001b[0m\u001b[1;33m\u001b[0m\u001b[1;33m\u001b[0m\u001b[0m\n\u001b[0m\u001b[0;32m    111\u001b[0m     \u001b[1;32mif\u001b[0m \u001b[0mcolor_mode\u001b[0m \u001b[1;33m==\u001b[0m \u001b[1;34m'grayscale'\u001b[0m\u001b[1;33m:\u001b[0m\u001b[1;33m\u001b[0m\u001b[1;33m\u001b[0m\u001b[0m\n\u001b[0;32m    112\u001b[0m         \u001b[1;32mif\u001b[0m \u001b[0mimg\u001b[0m\u001b[1;33m.\u001b[0m\u001b[0mmode\u001b[0m \u001b[1;33m!=\u001b[0m \u001b[1;34m'L'\u001b[0m\u001b[1;33m:\u001b[0m\u001b[1;33m\u001b[0m\u001b[1;33m\u001b[0m\u001b[0m\n",
      "\u001b[1;32m~\\AppData\\Local\\Continuum\\anaconda3\\lib\\site-packages\\PIL\\Image.py\u001b[0m in \u001b[0;36mopen\u001b[1;34m(fp, mode, formats)\u001b[0m\n\u001b[0;32m   2951\u001b[0m \u001b[1;33m\u001b[0m\u001b[0m\n\u001b[0;32m   2952\u001b[0m     \u001b[1;32mif\u001b[0m \u001b[0mfilename\u001b[0m\u001b[1;33m:\u001b[0m\u001b[1;33m\u001b[0m\u001b[1;33m\u001b[0m\u001b[0m\n\u001b[1;32m-> 2953\u001b[1;33m         \u001b[0mfp\u001b[0m \u001b[1;33m=\u001b[0m \u001b[0mbuiltins\u001b[0m\u001b[1;33m.\u001b[0m\u001b[0mopen\u001b[0m\u001b[1;33m(\u001b[0m\u001b[0mfilename\u001b[0m\u001b[1;33m,\u001b[0m \u001b[1;34m\"rb\"\u001b[0m\u001b[1;33m)\u001b[0m\u001b[1;33m\u001b[0m\u001b[1;33m\u001b[0m\u001b[0m\n\u001b[0m\u001b[0;32m   2954\u001b[0m         \u001b[0mexclusive_fp\u001b[0m \u001b[1;33m=\u001b[0m \u001b[1;32mTrue\u001b[0m\u001b[1;33m\u001b[0m\u001b[1;33m\u001b[0m\u001b[0m\n\u001b[0;32m   2955\u001b[0m \u001b[1;33m\u001b[0m\u001b[0m\n",
      "\u001b[1;31mFileNotFoundError\u001b[0m: [Errno 2] No such file or directory: 'cat10000.jpg'"
     ]
    }
   ],
   "source": [
    "from keras.preprocessing import image\n",
    "\n",
    "fN=\"cat10000.jpg\"\n",
    "\n",
    "#import and convert to numpy array\n",
    "I=image.load_img(fN, target_size=(200, 200))\n",
    "I=image.img_to_array(I)\n",
    "\n",
    "#add extra dim\n",
    "I=I[np.newaxis,:,:,:]\n",
    "for A in ImgGen.flow(I,batch_size=1):\n",
    "    A=A.squeeze() #remove extra dim\n",
    "    plt.imshow(np.uint8(A))"
   ]
  },
  {
   "cell_type": "code",
   "execution_count": null,
   "metadata": {},
   "outputs": [],
   "source": [
    "from keras.preprocessing import image\n",
    "\n",
    "fN=\"dog1001.jpg\"\n",
    "\n",
    "#import and convert to numpy array\n",
    "I=image.load_img(fN,target_size=(200,200))\n",
    "I=image.img_to_array(I)\n",
    "\n",
    "#add extra dim\n",
    "I=I[np.newaxis,:,:,:]\n",
    "for A in ImgGen.flow(I,batch_size=1):\n",
    "    A=A.squeeze() #remove extra dim\n",
    "    plt.imshow(np.uint8(A))"
   ]
  },
  {
   "cell_type": "code",
   "execution_count": 9,
   "metadata": {},
   "outputs": [
    {
     "name": "stdout",
     "output_type": "stream",
     "text": [
      "Found 2000 images belonging to 2 classes.\n",
      "Found 998 images belonging to 2 classes.\n",
      "(96, 96, 3) {'cats': 0, 'dogs': 1}\n",
      "{'cats': 0, 'dogs': 1} {'cats': 0, 'dogs': 1}\n",
      "2000 998\n",
      "32 32\n"
     ]
    }
   ],
   "source": [
    "from tensorflow.keras.preprocessing.image import ImageDataGenerator\n",
    "dir = './CatsDogsSmall/'\n",
    "\n",
    "dataGen = ImageDataGenerator(preprocessing_function=preprocess_input,\n",
    "                             rotation_range=30,\n",
    "                             width_shift_range=0.2,\n",
    "                             height_shift_range=0.2,\n",
    "                             shear_range=0.2,\n",
    "                             zoom_range=0.2,\n",
    "                             horizontal_flip=True,\n",
    "                             fill_mode=\"nearest\")\n",
    "\n",
    "trainGen = dataGen.flow_from_directory(directory=dir + \"train/\",\n",
    "                                       target_size=(96, 96),\n",
    "                                       class_mode=\"categorical\",\n",
    "                                       batch_size=32)\n",
    "\n",
    "testGen = dataGen.flow_from_directory(directory=dir + \"test/\",\n",
    "                                      target_size=(96, 96),\n",
    "                                      class_mode=\"categorical\",\n",
    "                                      batch_size=32)\n",
    "\n",
    "print(trainGen.image_shape, trainGen.class_indices)\n",
    "print(trainGen.class_indices, trainGen.class_indices)\n",
    "print(trainGen.samples, testGen.samples)\n",
    "print(trainGen.batch_size, testGen.batch_size)"
   ]
  },
  {
   "cell_type": "markdown",
   "metadata": {},
   "source": [
    "## 3.c)"
   ]
  },
  {
   "cell_type": "code",
   "execution_count": null,
   "metadata": {},
   "outputs": [],
   "source": [
    "# TRAINING THE NETWORK:\n",
    "opt = keras.optimizers.Nadam(learning_rate=0.001, beta_1=0.9, beta_2=0.99)\n",
    "\n",
    "# Compile the model\n",
    "cnn.compile(loss=\"categorical_crossentropy\", optimizer=opt, metrics=[\"accuracy\"])\n",
    "#mlp.compile(optimizer='nadam',loss='categorical_crossentropy',metrics=['accuracy'])\n",
    "\n",
    "# Train the model\n",
    "train_advance = cnn.fit_generator(trainGen, steps_per_epoch=25, \n",
    "                         validation_data=testGen, validation_steps=10, epochs=100)\n",
    "\n"
   ]
  },
  {
   "cell_type": "code",
   "execution_count": null,
   "metadata": {},
   "outputs": [],
   "source": [
    "print('Score:',np.sum(ytest==ytestPred)/ytest.shape[0]*100)\n",
    "print('Total number of erros:',np.sum(ytest!=ytestPred))\n",
    "\n",
    "from sklearn.metrics import confusion_matrix\n",
    "print(\"\\nMatriz de confusao:\\n\", confusion_matrix(ytest, ytestPred))"
   ]
  }
 ],
 "metadata": {
  "kernelspec": {
   "display_name": "Python 3",
   "language": "python",
   "name": "python3"
  },
  "language_info": {
   "codemirror_mode": {
    "name": "ipython",
    "version": 3
   },
   "file_extension": ".py",
   "mimetype": "text/x-python",
   "name": "python",
   "nbconvert_exporter": "python",
   "pygments_lexer": "ipython3",
   "version": "3.7.1"
  }
 },
 "nbformat": 4,
 "nbformat_minor": 4
}
