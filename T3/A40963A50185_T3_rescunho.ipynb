{
 "cells": [
  {
   "attachments": {},
   "cell_type": "markdown",
   "metadata": {},
   "source": [
    "# Trabalho 2 - Oxford-IIIT-Pet\n",
    "##### Names: Ruben Santos e Goncalo Care\n"
   ]
  },
  {
   "attachments": {},
   "cell_type": "markdown",
   "metadata": {},
   "source": [
    "##### Indice"
   ]
  },
  {
   "cell_type": "code",
   "execution_count": 1,
   "metadata": {},
   "outputs": [],
   "source": [
    "# A tarefa de classificacao binaria consiste em distinguir entre imagens de caes e gatos, e a tarefa de classificacao multi-classe consiste em classificar as imagens numa de 37 racas de caes e gatos.\n",
    "\n",
    "# - Para ambas as tarefas treine uma rede de raiz CNN\n",
    "# - Escolha uma rede pr e-treinada do Keras, e aplique-a a tarefa de classificacao multi-classe\n",
    "\n",
    "# - Compare os resultados obtidos .\n",
    "\n",
    "##metodologias de treino/teste usadas e metricas de avaliacao usada.\n",
    "##Uso de t ́ecnicas de data augmentation aumenta o desempenho dos classificadores?\n",
    "##Deve igualmente ter em consideracao que existe uma grande variacao nas dimensoes das imagens e que ao redimensionar-las para uma dimensao pre-definida (e.g. quadrado) est́a a introduzir distorcoes que variam dependendo da dimensao original das imagens. No relatorio deve referir como lidou\n",
    "# com esta questao\n",
    "\n",
    "### O que fazer:\n",
    "\n",
    "\n",
    "# 0. Import library\n",
    "# 1. Get the data\n",
    "#    - Explore the data\n",
    "#    - Visualize the data\n",
    "  \n",
    "# 2. Data preprocessing\n",
    "#   - 0.1 Redimensionar as imagens para 128x128\n",
    "#   - 0.2 Dividir o conjunto de dados em treino e teste\n",
    "#   - 0.3 Normalizar os dados\n",
    "#   - Get the data into the right shape?\n",
    "\n",
    "# 4. Sem data augmentation\n",
    "#   - 4.1 classificacao binaria\n",
    "#      -  1.1.1 CNN de raiz\n",
    "#      -  1.1.2 rede pre-treinada do Keras\n",
    "  \n",
    "#   - 4.2 classificacao multi-classe\n",
    "#     - 1.2.1 CNN de raiz\n",
    "#     - 1.2.2 rede pre-treinada do Keras\n",
    "\n",
    "#   - 0.6 Data augmentation\n",
    "# 5. Com data augmentation\n",
    "#   - 5.1 classificacao binaria\n",
    "#     - 5.1.1 CNN de raiz\n",
    "#     - 5.1.2 rede pre-treinada do Keras\n",
    "  \n",
    "#   - 5.2 classificacao multi-classe\n",
    "#     - 5.2.1 CNN de raiz\n",
    "#     - 5.2.2 rede pre-treinada do Keras\n",
    "  \n",
    "# 6. Conclusoes\n",
    "#  - Explicar o que foi feito\n",
    "#    - Metodologias de treino/teste - Divisão de conjuntos de dados e Validação cruzada e metricas de avaliacao usada.\n",
    "#  - Comparar resultados (graficos com tudo e tabela das metricas)\n",
    "#  - Concluir\n",
    "#    - Explicar como lidou com a questao da distorcao das imagens ao redimensiona-las para uma dimensao pre-definida (e.g. quadrado)\n",
    "#    - Explicar se a rede pre-treinada do Keras obteve melhores resultados que a CNN de raiz (porque) e em que condicoes (circunstancias) isso aconteceu.\n",
    "#    - Explicar se a classificacao binaria obteve melhores resultados que a classificacao multi-classe (porque) e em que condicoes (circunstancias) isso aconteceu.\n",
    "#    - Explicar se a classificacao com data augmentation obteve melhores resultados que a classificacao sem data augmentation (porque) e em que condicoes (circunstancias) isso aconteceu.\n",
    "#    - Explicar qual \n"
   ]
  },
  {
   "attachments": {},
   "cell_type": "markdown",
   "metadata": {},
   "source": [
    "\"\"\"\n",
    "Estrutura do Jupyter Notebook para o trabalho de classificação de imagens usando redes neurais convolucionais (CNNs).\n",
    "\n",
    "1. Introdução\n",
    "   - Breve introdução ao trabalho e aos objetivos.\n",
    "   - Descrição da base de dados Oxford-IIIT Pet Dataset.\n",
    "   - Explicação das tarefas de classificação binária e multi-classe.\n",
    "\n",
    "2. Preparação do Ambiente\n",
    "   - Importação das bibliotecas necessárias, como TensorFlow, Keras, numpy, etc.\n",
    "   - Carregamento do arquivo pickle Oxford-IIIT-Pet Dics.p para obter as informações sobre as classes e divisão dos dados.\n",
    "   - Download e extração do conjunto de dados Oxford-IIIT Pet Dataset.\n",
    "\n",
    "3. Preprocessamento dos Dados\n",
    "   - Exploração dos dados, como o número de imagens, distribuição de classes, etc.\n",
    "   - Preprocessamento das imagens, como redimensionamento, normalização, etc.\n",
    "   - Divisão dos dados em conjuntos de treino e teste.\n",
    "\n",
    "4. Treinamento de uma Rede Neural Convolucional do Zero (Classificação Binária)\n",
    "   - Definição da arquitetura da rede neural convolucional.\n",
    "   - Compilação do modelo.\n",
    "   - Treinamento do modelo utilizando os dados de treino.\n",
    "   - Avaliação do modelo utilizando os dados de teste.\n",
    "   - Análise dos resultados e discussão.\n",
    "\n",
    "5. Treinamento de uma Rede Neural Convolucional com Transferência de Aprendizado (Classificação Multi-classe)\n",
    "   - Escolha de uma rede pré-treinada do Keras, como VGG16, ResNet, etc.\n",
    "   - Adaptação da rede pré-treinada para a tarefa de classificação multi-classe.\n",
    "   - Compilação do modelo.\n",
    "   - Treinamento do modelo utilizando os dados de treino.\n",
    "   - Avaliação do modelo utilizando os dados de teste.\n",
    "   - Análise dos resultados e discussão.\n",
    "\n",
    "6. Comparação dos Resultados\n",
    "   - Comparação dos desempenhos da rede treinada do zero e da rede com transferência de aprendizado.\n",
    "   - Discussão sobre os efeitos da utilização de técnicas de data augmentation.\n",
    "   - Análise das dificuldades e desafios encontrados durante o processo.\n",
    "\n",
    "7. Conclusão\n",
    "   - Resumo dos resultados obtidos.\n",
    "   - Principais conclusões do trabalho.\n",
    "   - Possíveis melhorias e trabalhos futuros.\n",
    "\n",
    "Certifique-se de adicionar comentários e explicações detalhadas em cada seção do notebook, bem como visualizações de resultados, gráficos e qualquer outra informação relevante para facilitar a compreensão do trabalho.\n",
    "\n",
    "\"\"\"\n"
   ]
  },
  {
   "attachments": {},
   "cell_type": "markdown",
   "metadata": {},
   "source": [
    "## 0. Import librarys"
   ]
  },
  {
   "cell_type": "code",
   "execution_count": 1,
   "metadata": {},
   "outputs": [],
   "source": [
    "import pickle\n",
    "import os\n",
    "import itertools\n",
    "from PIL import Image\n",
    "from scipy.io import loadmat\n",
    "import numpy as np\n",
    "import matplotlib.pyplot as plt\n",
    "\n",
    "import tensorflow as tf\n",
    "import tensorflow.keras as keras\n",
    "from tensorflow.keras import models\n",
    "from tensorflow.keras import layers\n",
    "\n",
    "from sklearn.metrics import confusion_matrix, classification_report\n",
    "from tensorflow.keras.applications.mobilenet_v2 import MobileNetV2, preprocess_input\n",
    "from tensorflow.keras.preprocessing.image import ImageDataGenerator\n",
    "from tensorflow.keras.callbacks import EarlyStopping"
   ]
  },
  {
   "attachments": {},
   "cell_type": "markdown",
   "metadata": {},
   "source": [
    "## 1. Get the data\n",
    "   - Reorganize the data\n",
    "   - Explore the data\n",
    "   - Visualize the data"
   ]
  },
  {
   "cell_type": "code",
   "execution_count": 4,
   "metadata": {},
   "outputs": [],
   "source": [
    "D = pickle.load(open(\"Oxford-IIIT-Pet_Dics.p\",\"rb\"))\n",
    "\n",
    "classDic = D['classDic']\n",
    "filesDic = D['filesDic']\n",
    "\n",
    "del D # delete D to free memory\n",
    "\n"
   ]
  },
  {
   "attachments": {},
   "cell_type": "markdown",
   "metadata": {},
   "source": [
    "## Preprocess the data\n"
   ]
  },
  {
   "cell_type": "code",
   "execution_count": null,
   "metadata": {},
   "outputs": [],
   "source": [
    "# %%time 2 min - image_files muito lento\n",
    "image_files = [f for f in os.listdir(\"./images/\") \n",
    "               if os.path.isfile(os.path.join(\"./images/\", f)) and not f.endswith('.mat')]"
   ]
  },
  {
   "attachments": {},
   "cell_type": "markdown",
   "metadata": {},
   "source": [
    "#### Reorganize the data\n",
    "- Obter todas as imagens e labels\n",
    "  - Variaveis: \n",
    "  - X (imagens), \n",
    "  - y (classificacao Multiclasse), \n",
    "  - yb (classificacao Binaria)  "
   ]
  },
  {
   "cell_type": "code",
   "execution_count": null,
   "metadata": {},
   "outputs": [],
   "source": [
    "# X = list(map(lambda imgName: keras.preprocessing.image.img_to_array(Image.open('images/' + imgName).load()), \n",
    "#              image_files))\n",
    "Xi = list(map(lambda imgName: \n",
    "            keras.preprocessing.image.img_to_array(Image.open('images/' + imgName)), \n",
    "             image_files))\n",
    "\n",
    "y_values = list(map(lambda imgName: filesDic.get(imgName), image_files))\n",
    "yinit = list(map(lambda value: value.get('breed'), y_values))\n",
    "ybinit = list(map(lambda value: value.get('species'), y_values))"
   ]
  },
  {
   "cell_type": "code",
   "execution_count": null,
   "metadata": {},
   "outputs": [],
   "source": [
    "\n",
    "binaryDic = {'cat': 0, 'dog': 1}\n",
    "y = np.vectorize(lambda x: classDic[x])(yinit)\n",
    "yb = np.vectorize(lambda x: binaryDic[x])(ybinit) # [0, 1] \n",
    "\n",
    "# y = keras.utils.to_categorical(y, num_classes=37)\n",
    "# yb = keras.utils.to_categorical(yb, num_classes=2) # []\n",
    "y"
   ]
  },
  {
   "attachments": {},
   "cell_type": "markdown",
   "metadata": {},
   "source": [
    "#### Explore the data"
   ]
  },
  {
   "cell_type": "code",
   "execution_count": 4,
   "metadata": {},
   "outputs": [
    {
     "data": {
      "text/html": [
       "<div>\n",
       "<style scoped>\n",
       "    .dataframe tbody tr th:only-of-type {\n",
       "        vertical-align: middle;\n",
       "    }\n",
       "\n",
       "    .dataframe tbody tr th {\n",
       "        vertical-align: top;\n",
       "    }\n",
       "\n",
       "    .dataframe thead th {\n",
       "        text-align: right;\n",
       "    }\n",
       "</style>\n",
       "<table border=\"1\" class=\"dataframe\">\n",
       "  <thead>\n",
       "    <tr style=\"text-align: right;\">\n",
       "      <th></th>\n",
       "      <th>imgName</th>\n",
       "      <th>species</th>\n",
       "      <th>breed</th>\n",
       "      <th>target</th>\n",
       "      <th>imgDim</th>\n",
       "      <th>bndBox</th>\n",
       "      <th>foldTrain</th>\n",
       "    </tr>\n",
       "  </thead>\n",
       "  <tbody>\n",
       "    <tr>\n",
       "      <th>0</th>\n",
       "      <td>Abyssinian_1.jpg</td>\n",
       "      <td>cat</td>\n",
       "      <td>Abyssinian</td>\n",
       "      <td>25</td>\n",
       "      <td>(400, 600, 3)</td>\n",
       "      <td>[333, 72, 92, 86]</td>\n",
       "      <td>True</td>\n",
       "    </tr>\n",
       "    <tr>\n",
       "      <th>1</th>\n",
       "      <td>Abyssinian_10.jpg</td>\n",
       "      <td>cat</td>\n",
       "      <td>Abyssinian</td>\n",
       "      <td>25</td>\n",
       "      <td>(500, 375, 3)</td>\n",
       "      <td>[72, 105, 216, 186]</td>\n",
       "      <td>True</td>\n",
       "    </tr>\n",
       "    <tr>\n",
       "      <th>2</th>\n",
       "      <td>Abyssinian_100.jpg</td>\n",
       "      <td>cat</td>\n",
       "      <td>Abyssinian</td>\n",
       "      <td>25</td>\n",
       "      <td>(500, 394, 3)</td>\n",
       "      <td>[151, 71, 184, 196]</td>\n",
       "      <td>True</td>\n",
       "    </tr>\n",
       "    <tr>\n",
       "      <th>3</th>\n",
       "      <td>Abyssinian_101.jpg</td>\n",
       "      <td>cat</td>\n",
       "      <td>Abyssinian</td>\n",
       "      <td>25</td>\n",
       "      <td>(313, 450, 3)</td>\n",
       "      <td>[54, 36, 265, 199]</td>\n",
       "      <td>True</td>\n",
       "    </tr>\n",
       "    <tr>\n",
       "      <th>4</th>\n",
       "      <td>Abyssinian_102.jpg</td>\n",
       "      <td>cat</td>\n",
       "      <td>Abyssinian</td>\n",
       "      <td>25</td>\n",
       "      <td>(465, 500, 3)</td>\n",
       "      <td>[23, 27, 302, 293]</td>\n",
       "      <td>True</td>\n",
       "    </tr>\n",
       "  </tbody>\n",
       "</table>\n",
       "</div>"
      ],
      "text/plain": [
       "              imgName species       breed  target         imgDim  \\\n",
       "0    Abyssinian_1.jpg     cat  Abyssinian      25  (400, 600, 3)   \n",
       "1   Abyssinian_10.jpg     cat  Abyssinian      25  (500, 375, 3)   \n",
       "2  Abyssinian_100.jpg     cat  Abyssinian      25  (500, 394, 3)   \n",
       "3  Abyssinian_101.jpg     cat  Abyssinian      25  (313, 450, 3)   \n",
       "4  Abyssinian_102.jpg     cat  Abyssinian      25  (465, 500, 3)   \n",
       "\n",
       "                bndBox  foldTrain  \n",
       "0    [333, 72, 92, 86]       True  \n",
       "1  [72, 105, 216, 186]       True  \n",
       "2  [151, 71, 184, 196]       True  \n",
       "3   [54, 36, 265, 199]       True  \n",
       "4   [23, 27, 302, 293]       True  "
      ]
     },
     "execution_count": 4,
     "metadata": {},
     "output_type": "execute_result"
    }
   ],
   "source": [
    "# filesDic to pandas dataframe\n",
    "import pandas as pd\n",
    "df = pd.DataFrame.from_dict(filesDic, orient='index')\n",
    "df = df.reset_index()\n",
    "df = df.rename(columns={'index':'imgName'})\n",
    "df.head()\n"
   ]
  },
  {
   "cell_type": "code",
   "execution_count": 5,
   "metadata": {},
   "outputs": [
    {
     "name": "stdout",
     "output_type": "stream",
     "text": [
      "<class 'pandas.core.frame.DataFrame'>\n",
      "RangeIndex: 7390 entries, 0 to 7389\n",
      "Data columns (total 7 columns):\n",
      " #   Column     Non-Null Count  Dtype \n",
      "---  ------     --------------  ----- \n",
      " 0   imgName    7390 non-null   object\n",
      " 1   species    7390 non-null   object\n",
      " 2   breed      7390 non-null   object\n",
      " 3   target     7390 non-null   int64 \n",
      " 4   imgDim     7390 non-null   object\n",
      " 5   bndBox     7390 non-null   object\n",
      " 6   foldTrain  7390 non-null   bool  \n",
      "dtypes: bool(1), int64(1), object(5)\n",
      "memory usage: 353.7+ KB\n"
     ]
    }
   ],
   "source": [
    "df.info()"
   ]
  },
  {
   "cell_type": "code",
   "execution_count": 6,
   "metadata": {},
   "outputs": [
    {
     "data": {
      "text/plain": [
       "imgName      0\n",
       "species      0\n",
       "breed        0\n",
       "target       0\n",
       "imgDim       0\n",
       "bndBox       0\n",
       "foldTrain    0\n",
       "dtype: int64"
      ]
     },
     "execution_count": 6,
     "metadata": {},
     "output_type": "execute_result"
    }
   ],
   "source": [
    "# verificar se todas as columns nao tem valores NaN (not a number)\n",
    "df.isnull().sum()"
   ]
  },
  {
   "cell_type": "code",
   "execution_count": 7,
   "metadata": {},
   "outputs": [
    {
     "name": "stdout",
     "output_type": "stream",
     "text": [
      "1028\n",
      "[(400, 600, 3) (500, 375, 3) (500, 394, 3) ... (183, 300, 3) (242, 300, 3)\n",
      " (500, 282, 3)]\n"
     ]
    }
   ],
   "source": [
    "# As imagens tem dimensoes diferentes\n",
    "print(len(df['imgDim'].unique()))\n",
    "print(df['imgDim'].unique())"
   ]
  },
  {
   "attachments": {},
   "cell_type": "markdown",
   "metadata": {},
   "source": [
    "- Analise the data to binary classification"
   ]
  },
  {
   "cell_type": "code",
   "execution_count": 8,
   "metadata": {},
   "outputs": [
    {
     "name": "stdout",
     "output_type": "stream",
     "text": [
      "37\n",
      "['Abyssinian' 'Bengal' 'Birman' 'Bombay' 'British_Shorthair'\n",
      " 'Egyptian_Mau' 'Maine_Coon' 'Persian' 'Ragdoll' 'Russian_Blue' 'Siamese'\n",
      " 'Sphynx' 'american_bulldog' 'american_pit_bull_terrier' 'basset_hound'\n",
      " 'beagle' 'boxer' 'chihuahua' 'english_cocker_spaniel' 'english_setter'\n",
      " 'german_shorthaired' 'great_pyrenees' 'havanese' 'japanese_chin'\n",
      " 'keeshond' 'leonberger' 'miniature_pinscher' 'newfoundland' 'pomeranian'\n",
      " 'pug' 'saint_bernard' 'samoyed' 'scottish_terrier' 'shiba_inu'\n",
      " 'staffordshire_bull_terrier' 'wheaten_terrier' 'yorkshire_terrier']\n"
     ]
    }
   ],
   "source": [
    "# unique breeds\n",
    "print(len(df['breed'].unique()))\n",
    "print(df['breed'].unique())"
   ]
  },
  {
   "cell_type": "code",
   "execution_count": 9,
   "metadata": {},
   "outputs": [
    {
     "data": {
      "image/png": "[encoded data removed]",
      "text/plain": [
       "<Figure size 1200x1200 with 1 Axes>"
      ]
     },
     "metadata": {},
     "output_type": "display_data"
    }
   ],
   "source": [
    "# Plot the distribution of breeds in the dataset\n",
    "breed_counts = df['breed'].value_counts()\n",
    "\n",
    "plt.figure(figsize=(12,12))\n",
    "bars = plt.barh(breed_counts.index, breed_counts.values)\n",
    "\n",
    "for bar in bars:\n",
    "    width = bar.get_width()\n",
    "    plt.text(width, bar.get_y() + bar.get_height() / 2, str(width), ha='left', va='center')\n",
    "\n",
    "plt.ylabel('Breed')\n",
    "plt.xlabel('Count')\n",
    "plt.title('Breed Counts')\n",
    "plt.grid()\n",
    "plt.show()"
   ]
  },
  {
   "attachments": {},
   "cell_type": "markdown",
   "metadata": {},
   "source": [
    "- Analise the data to Multiclass classification"
   ]
  },
  {
   "cell_type": "code",
   "execution_count": 10,
   "metadata": {},
   "outputs": [
    {
     "name": "stdout",
     "output_type": "stream",
     "text": [
      "2\n",
      "['cat' 'dog']\n"
     ]
    }
   ],
   "source": [
    "# unique breeds\n",
    "print(len(df['species'].unique()))\n",
    "print(df['species'].unique())\n"
   ]
  },
  {
   "cell_type": "code",
   "execution_count": 11,
   "metadata": {},
   "outputs": [
    {
     "data": {
      "image/png": "[encoded data removed]",
      "text/plain": [
       "<Figure size 1200x400 with 1 Axes>"
      ]
     },
     "metadata": {},
     "output_type": "display_data"
    }
   ],
   "source": [
    "# Plot the distribution of species in the dataset\n",
    "species_counts = df['species'].value_counts()\n",
    "\n",
    "plt.figure(figsize=(12,4))\n",
    "bars = plt.barh(species_counts.index, species_counts.values)\n",
    "\n",
    "for bar in bars:\n",
    "    width = bar.get_width()\n",
    "    plt.text(width, bar.get_y() + bar.get_height() / 2, str(width), ha='left', va='center')\n",
    "\n",
    "\n",
    "plt.ylabel('Species')\n",
    "plt.xlabel('Count')\n",
    "plt.title('Species Counts')\n",
    "plt.grid()\n",
    "plt.show()\n"
   ]
  },
  {
   "cell_type": "code",
   "execution_count": 12,
   "metadata": {},
   "outputs": [
    {
     "data": {
      "image/png": "[encoded data removed]",
      "text/plain": [
       "<Figure size 1200x400 with 1 Axes>"
      ]
     },
     "metadata": {},
     "output_type": "display_data"
    }
   ],
   "source": [
    "train_counts = len(df[df['foldTrain'] == True])\n",
    "test_counts = len(df[df['foldTrain'] == False])\n",
    "\n",
    "# Plot the distribution of training and testing\n",
    "plt.figure(figsize=(12,4))\n",
    "labels = ['Train', 'Test']\n",
    "counts = [train_counts, test_counts]\n",
    "\n",
    "bars = plt.barh(labels, counts)\n",
    "\n",
    "for bar in bars:\n",
    "    width = bar.get_width()\n",
    "    plt.text(width, bar.get_y() + bar.get_height() / 2, str(width), ha='left', va='center')\n",
    "\n",
    "\n",
    "plt.xlabel('Count')\n",
    "plt.ylabel('Data Split')\n",
    "plt.title('Train and Test Counts')\n",
    "plt.grid()\n",
    "plt.show()\n",
    "\n",
    "# print(train_counts, test_counts)\n"
   ]
  },
  {
   "attachments": {},
   "cell_type": "markdown",
   "metadata": {},
   "source": [
    "### Visualize the data"
   ]
  },
  {
   "cell_type": "code",
   "execution_count": 13,
   "metadata": {},
   "outputs": [
    {
     "ename": "NameError",
     "evalue": "name 'X' is not defined",
     "output_type": "error",
     "traceback": [
      "\u001b[1;31m---------------------------------------------------------------------------\u001b[0m",
      "\u001b[1;31mNameError\u001b[0m                                 Traceback (most recent call last)",
      "\u001b[1;32m~\\AppData\\Local\\Temp\\ipykernel_12656\\1653849160.py\u001b[0m in \u001b[0;36m<module>\u001b[1;34m\u001b[0m\n\u001b[0;32m      4\u001b[0m \u001b[1;32mfor\u001b[0m \u001b[0mi\u001b[0m \u001b[1;32min\u001b[0m \u001b[0mrange\u001b[0m\u001b[1;33m(\u001b[0m\u001b[1;36m20\u001b[0m\u001b[1;33m)\u001b[0m\u001b[1;33m:\u001b[0m\u001b[1;33m\u001b[0m\u001b[1;33m\u001b[0m\u001b[0m\n\u001b[0;32m      5\u001b[0m     \u001b[0mplt\u001b[0m\u001b[1;33m.\u001b[0m\u001b[0msubplot\u001b[0m\u001b[1;33m(\u001b[0m\u001b[1;36m5\u001b[0m\u001b[1;33m,\u001b[0m\u001b[1;36m4\u001b[0m\u001b[1;33m,\u001b[0m\u001b[0mi\u001b[0m\u001b[1;33m+\u001b[0m\u001b[1;36m1\u001b[0m\u001b[1;33m)\u001b[0m\u001b[1;33m\u001b[0m\u001b[1;33m\u001b[0m\u001b[0m\n\u001b[1;32m----> 6\u001b[1;33m     \u001b[0mplt\u001b[0m\u001b[1;33m.\u001b[0m\u001b[0mimshow\u001b[0m\u001b[1;33m(\u001b[0m\u001b[0mkeras\u001b[0m\u001b[1;33m.\u001b[0m\u001b[0mpreprocessing\u001b[0m\u001b[1;33m.\u001b[0m\u001b[0mimage\u001b[0m\u001b[1;33m.\u001b[0m\u001b[0marray_to_img\u001b[0m\u001b[1;33m(\u001b[0m\u001b[0mX\u001b[0m\u001b[1;33m[\u001b[0m\u001b[0mi\u001b[0m\u001b[1;33m]\u001b[0m\u001b[1;33m)\u001b[0m\u001b[1;33m)\u001b[0m\u001b[1;33m\u001b[0m\u001b[1;33m\u001b[0m\u001b[0m\n\u001b[0m\u001b[0;32m      7\u001b[0m     \u001b[0mplt\u001b[0m\u001b[1;33m.\u001b[0m\u001b[0mtitle\u001b[0m\u001b[1;33m(\u001b[0m\u001b[0my\u001b[0m\u001b[1;33m[\u001b[0m\u001b[0mi\u001b[0m\u001b[1;33m]\u001b[0m \u001b[1;33m+\u001b[0m \u001b[1;34m\" - \"\u001b[0m \u001b[1;33m+\u001b[0m \u001b[0mfilesDic\u001b[0m\u001b[1;33m.\u001b[0m\u001b[0mget\u001b[0m\u001b[1;33m(\u001b[0m\u001b[0mimage_files\u001b[0m\u001b[1;33m[\u001b[0m\u001b[0mi\u001b[0m\u001b[1;33m]\u001b[0m\u001b[1;33m)\u001b[0m\u001b[1;33m.\u001b[0m\u001b[0mget\u001b[0m\u001b[1;33m(\u001b[0m\u001b[1;34m'species'\u001b[0m\u001b[1;33m)\u001b[0m\u001b[1;33m)\u001b[0m\u001b[1;33m\u001b[0m\u001b[1;33m\u001b[0m\u001b[0m\n\u001b[0;32m      8\u001b[0m     \u001b[0mplt\u001b[0m\u001b[1;33m.\u001b[0m\u001b[0maxis\u001b[0m\u001b[1;33m(\u001b[0m\u001b[1;34m'off'\u001b[0m\u001b[1;33m)\u001b[0m\u001b[1;33m\u001b[0m\u001b[1;33m\u001b[0m\u001b[0m\n",
      "\u001b[1;31mNameError\u001b[0m: name 'X' is not defined"
     ]
    },
    {
     "data": {
      "image/png": "[encoded data removed]",
      "text/plain": [
       "<Figure size 2000x2000 with 1 Axes>"
      ]
     },
     "metadata": {},
     "output_type": "display_data"
    }
   ],
   "source": [
    "# Plot 5*4 random images from the training set\n",
    "plt.figure(figsize=(20,20))\n",
    "plt.title('Random Images')\n",
    "for i in range(20):\n",
    "    plt.subplot(5,4,i+1)\n",
    "    plt.imshow(keras.preprocessing.image.array_to_img(X[i]))\n",
    "    plt.title(y[i] + \" - \" + filesDic.get(image_files[i]).get('species'))\n",
    "    plt.axis('off')\n",
    "plt.show()\n"
   ]
  },
  {
   "attachments": {},
   "cell_type": "markdown",
   "metadata": {},
   "source": [
    "#### Visualize the detection"
   ]
  },
  {
   "cell_type": "code",
   "execution_count": null,
   "metadata": {},
   "outputs": [],
   "source": [
    "# Com a coluna bndBox (oordenadar do retangulo) mostrar as imagens com o retangulo na imagem bndBox\n",
    "import random\n",
    "import matplotlib.image as mpimg\n",
    "import matplotlib.patches as patches\n",
    "\n",
    "# remover as imagens que nao tem bndBox\n",
    "selected_images = {k: v for k, v in filesDic.items() if v.get('bndBox') != []}\n",
    "selected_image_keys = list(selected_images.keys())\n",
    "\n",
    "# Escolher 10 imagens aleatórias\n",
    "random_image_files = random.sample(selected_image_keys, 20)\n",
    "\n",
    "fig, axes = plt.subplots(4, 5, figsize=(20, 20))\n",
    "\n",
    "for i, ax in enumerate(axes.flat):\n",
    "    if i < len(random_image_files):\n",
    "        image_file = random_image_files[i]\n",
    "        bndBox = filesDic.get(image_file).get('bndBox')\n",
    "        if bndBox is not None:\n",
    "            # Carregar a imagem\n",
    "            img = keras.preprocessing.image.load_img(os.path.join(\"./images/\", image_file))\n",
    "\n",
    "            # Converter a imagem para array numpy\n",
    "            Ximg = keras.preprocessing.image.img_to_array(img)\n",
    "\n",
    "            # Exibir a imagem\n",
    "            ax.imshow(keras.preprocessing.image.array_to_img(Ximg))\n",
    "\n",
    "            # Adicionar o retângulo de detecção\n",
    "            if bndBox is not None and len(bndBox) == 4:\n",
    "                Xc, Yc, width, height = bndBox\n",
    "                rect = plt.Rectangle((Xc, Yc), width, height, linewidth=2, \n",
    "                                    edgecolor='r', facecolor='none')\n",
    "                ax.add_patch(rect)\n",
    "\n",
    "            s = filesDic.get(image_file).get('breed') + \" ( \" + filesDic.get(image_file).get('species') + \" ) \"\n",
    "            ax.set_title(s, fontsize=16)\n",
    "\n",
    "    ax.axis('off')\n",
    "\n",
    "plt.tight_layout()\n",
    "plt.show()\n"
   ]
  },
  {
   "attachments": {},
   "cell_type": "markdown",
   "metadata": {},
   "source": [
    "\n",
    "### 2. Data preprocessing\n",
    "   - 0.1 Redimensionar as imagens para 128x128\n",
    "   - 0.2 Dividir o conjunto de dados em treino e teste\n",
    "   - 0.3 Normalizar os dados\n",
    "   - 0.4 One-hot encoding dos labels\n",
    "   - 0.5 Dividir o conjunto de treino em treino e validacao\n",
    "   - 0.6 Data augmentation\n",
    "   - Get the data into the right shape?\n",
    "<!-- # 2. Preprocessing the data\n",
    "   - Preprocessing the data to binary classification\n",
    "   - Preprocessing the data to Multiclass classification -->\n"
   ]
  },
  {
   "attachments": {},
   "cell_type": "markdown",
   "metadata": {},
   "source": [
    "- Problens with the data and the images\n",
    "1. The images have different sizes\n",
    "2. The number of images per classes (multiclasse) is different (200, 191, 199)\n",
    "3. the number of images per classes (binary) is different (cats- 2400, dogs- 4990 )\n",
    "4. The number of images in training and testing is different but 50/50 (3686/3704)\n",
    "<!-- \n",
    "- Solutions\n",
    "1. Redimensionar as imagens: Para garantir que todas as imagens tenham o mesmo tamanho, \n",
    "pode-se redimensioná-las para um tamanho fixo usando bibliotecas de processamento de imagens como o OpenCV. Por exemplo, você pode redimensionar todas as imagens para um tamanho de 224x224 pixels. \n",
    "Isso garantirá consistência nas dimensões das imagens.\n",
    "\n",
    "2. Lidar com classes desbalanceadas (Multiclasse): Se o número de imagens por classe no seu problema de classificação multiclasse for diferente, você pode usar técnicas para lidar com o desbalanceamento de classes. Uma abordagem comum é aumentar as classes minoritárias gerando imagens adicionais por meio de técnicas como aumento de dados (por exemplo, rotações aleatórias, espelhamentos, zoom) ou usando técnicas como o SMOTE (Synthetic Minority Over-sampling Technique) para equilibrar a distribuição das classes.\n",
    "3. igual a 2 mas para o problema de classificação binária.\n",
    "\n",
    "4. Balancear conjuntos de treinamento e teste: Se o número de imagens nos conjuntos de treinamento e teste for diferente, mas você deseja uma divisão equilibrada (50/50 neste caso), você pode ajustar a proporção da divisão para obter uma distribuição equilibrada. Por exemplo, você pode usar amostragem estratificada durante a divisão de treinamento e teste para garantir que as proporções das classes sejam mantidas consistentes entre os conjuntos. -->\n",
    "\n",
    "\n"
   ]
  },
  {
   "attachments": {},
   "cell_type": "markdown",
   "metadata": {},
   "source": [
    "##### Data processing a partir de X e y"
   ]
  },
  {
   "cell_type": "code",
   "execution_count": null,
   "metadata": {},
   "outputs": [
    {
     "name": "stdout",
     "output_type": "stream",
     "text": [
      "(7390,) (7390,)\n"
     ]
    }
   ],
   "source": [
    "Xa = np.array(Xi, dtype=object)\n",
    "y = np.array(y, dtype=object)\n",
    "\n",
    "print(Xa.shape, y.shape)\n",
    "\n",
    "from sklearn.model_selection import train_test_split\n",
    "\n",
    "# Split the data into training, validation, testing (80%, 10%, 10%)\n",
    "X1, X2, y1, y2 = train_test_split(Xa, y, test_size=0.2, random_state=42)\n",
    "X2, X3, y2, y3 = train_test_split(X2, y2, test_size=0.5, random_state=42)\n",
    "\n",
    "# Plot the distribution of breeds in the training set\n",
    "# breed_counts = pd.Series(y1).value_counts()\n",
    "# bars = plt.barh(breed_counts.index, breed_counts.values)\n",
    "\n",
    "X1 = np.array(X1)\n",
    "X2 = np.array(X2)\n",
    "X3 = np.array(X3)\n",
    "\n",
    "y1 = keras.utils.to_categorical(y1)\n",
    "y2 = keras.utils.to_categorical(y2)\n",
    "y3 = keras.utils.to_categorical(y3)\n",
    "\n",
    "print(\"Dados de trein:\", X1.shape, y1.shape)\n",
    "print(\"Dados de valid:\", X2.shape, y2.shape)\n",
    "print(\"Dados de test:\", X3.shape, y3.shape)\n",
    "\n",
    "# # Redimensionar os dados de treinamento\n",
    "# X1 = np.expand_dims(X1, axis=-1)  # Adicionar dimensão extra para canais de cor (escala de cinza)\n",
    "\n",
    "# # Redimensionar os dados de validação\n",
    "# X2 = np.expand_dims(X2, axis=-1)  # Adicionar dimensão extra para canais de cor (escala de cinza)\n",
    "\n",
    "# # Redimensionar os dados de teste\n",
    "# X3 = np.expand_dims(X3, axis=-1)  # Adicionar dimensão extra para canais de cor (escala de cinza)\n",
    "\n",
    "# print(\"Dados de trein:\", X1.shape, y1.shape)\n",
    "# print(\"Dados de valid:\", X2.shape, y2.shape)\n",
    "# print(\"Dados de test:\", X3.shape, y3.shape)\n",
    "\n",
    "# Create ImageDataGenerator object with desired data augmentation techniques\n",
    "dataGen = ImageDataGenerator(\n",
    "    rescale=1./255\n",
    "    # Add more augmentation techniques here if desired\n",
    ")\n",
    "# Create generators for training, validation, and testing data\n",
    "batch_size = 32\n",
    "trainGen = dataGen.flow(X1, y1, batch_size=batch_size)\n",
    "validGen = dataGen.flow(X2, y2, batch_size=batch_size)\n",
    "testGen = dataGen.flow(X3, y3, batch_size=1, shuffle=False)\n",
    "\n",
    "\n",
    "# dataGen=ImageDataGenerator(rescale=1./255)\n",
    "# trainGen=dataGen.flow(X1, y1,batch_size=300)\n",
    "# validGen=dataGen.flow(X2, y2,batch_size=100)\n",
    "\n",
    "# #testGen = ImageDataGenerator(rescale=1./255).flow(X_test, shuffle=False, batch_size=1)\n",
    "# testGen=ImageDataGenerator(rescale=1./255)\n",
    "# testGen=testGen.flow(X3, y3, batch_size=1000, shuffle=False)\n",
    "\n"
   ]
  },
  {
   "cell_type": "code",
   "execution_count": 10,
   "metadata": {},
   "outputs": [
    {
     "name": "stdout",
     "output_type": "stream",
     "text": [
      "Found 3686 images belonging to 37 classes.\n"
     ]
    },
    {
     "data": {
      "text/plain": [
       "37"
      ]
     },
     "execution_count": 10,
     "metadata": {},
     "output_type": "execute_result"
    }
   ],
   "source": [
    "breedsDir = './breeds/'\n",
    "\n",
    "breedsGen = ImageDataGenerator(preprocessing_function=preprocess_input)\n",
    "\n",
    "breedsTrainGen = breedsGen.flow_from_directory(\n",
    "    directory=breedsDir + 'train/',\n",
    "    target_size=(128, 128),\n",
    "    # color_mode=\"rgb\",\n",
    "    batch_size=32,\n",
    "    class_mode=\"categorical\",\n",
    "    # shuffle=True,\n",
    "    # seed=42\n",
    ")\n",
    "breedsTrainGen.num_classes"
   ]
  },
  {
   "attachments": {},
   "cell_type": "markdown",
   "metadata": {},
   "source": [
    "##### Data processing a partir das pastas"
   ]
  },
  {
   "cell_type": "code",
   "execution_count": 3,
   "metadata": {},
   "outputs": [
    {
     "name": "stdout",
     "output_type": "stream",
     "text": [
      "dict_keys(['classDic', 'filesDic'])\n"
     ]
    }
   ],
   "source": [
    "def createFolders(classDic):\n",
    "    \"\"\"\n",
    "    Creates the folders to store the images\n",
    "    \"\"\"\n",
    "    for breed in list(classDic.keys()):\n",
    "        # Breeds\n",
    "        trainPath = os.path.join('./breeds/train/' + breed)\n",
    "        if not os.path.exists(trainPath):\n",
    "            os.makedirs('./breeds/train/' + breed)\n",
    "\n",
    "        testPath = os.path.join('./breeds/test/' + breed)\n",
    "        if not os.path.exists(testPath):\n",
    "            os.makedirs('./breeds/test/' + breed)\n",
    "\n",
    "        # Dogs\n",
    "        trainPath = os.path.join('./species/train/dog')\n",
    "        if not os.path.exists(trainPath):\n",
    "            os.makedirs('./species/train/dog')\n",
    "\n",
    "        testPath = os.path.join('./species/test/dog')\n",
    "        if not os.path.exists(testPath):\n",
    "            os.makedirs('./species/test/dog')\n",
    "\n",
    "        # Cats\n",
    "        trainPath = os.path.join('./species/train/cat')\n",
    "        if not os.path.exists(trainPath):\n",
    "            os.makedirs('./species/train/cat')\n",
    "\n",
    "        testPath = os.path.join('./species/test/cat')\n",
    "        if not os.path.exists(testPath):\n",
    "            os.makedirs('./species/test/cat')\n",
    "\n",
    "\n",
    "def splitData(filesDic, type='breeds'):\n",
    "    X1 = [] \n",
    "    X2 = [] \n",
    "    y1 = []\n",
    "    y2 = []\n",
    "    \n",
    "    i = 1\n",
    "    size = len(list(filesDic.keys()) )\n",
    "    for imgName in list(filesDic.keys()):\n",
    "        \n",
    "        img = keras.preprocessing.image.load_img('images/' + imgName)\n",
    "        foldTrain = filesDic.get(imgName).get('foldTrain')\n",
    "\n",
    "        '''\n",
    "        # t = 'breed' if type == 'breeds' else 'species'\n",
    "\n",
    "        # print(type, imgName, foldTrain, t)\n",
    "        # print(filesDic.get(imgName).get(t))\n",
    "        # print(filesDic.get(imgName).get(type))\n",
    "\n",
    "        # create X1 (Train images), X2 (Test images), y1 (Train labels), y2 (Test labels)\n",
    "        # if foldTrain:\n",
    "        #     X1.append(keras.preprocessing.image.img_to_array(img))\n",
    "        #     y1.append(filesDic.get(imgName).get(t))\n",
    "        # else:\n",
    "        #     X2.append(keras.preprocessing.image.img_to_array(img))\n",
    "        #     y2.append(filesDic.get(imgName).get(t))\n",
    "        \n",
    "        # print(type, imgName, foldTrain)\n",
    "        # print('./' + type +'/' + \n",
    "        #       ('train/' if foldTrain else 'test/') + \n",
    "        #     filesDic.get(imgName).get('breed') + '/' + imgName, img)'''\n",
    "        \n",
    "        keras.preprocessing.image.save_img('./' + str(type) +'/' + \n",
    "                                           ('train/' if foldTrain else 'test/') +\n",
    "                                           filesDic.get(imgName).get(str(type)) + \n",
    "                                           '/' + imgName, img)\n",
    "        # if size % 10 == 0:\n",
    "        #     print( i, \"in\", size, (i/size)*100, \"%\")\n",
    "        # i += 1\n",
    "    # return np.array(X1), np.array(X2), np.array(y1), np.array(y2)\n",
    "\n",
    "\n",
    "# Muito lento - Correr apenas uma vez e se nao tiver as pastas criadas\n",
    "# createFolders(classDic)\n",
    "# X1b, X2b, y1b, y2b = splitData(filesDic, type='breeds') # Binary classification\n",
    "# X1m, X2m, y1m, y2m = splitData(filesDic, type='species') # Multi-class classification\n",
    "\n",
    "# %%time 2 min - image_files muito lento\n",
    "image_files = [f for f in os.listdir(\"./images/\") if os.path.isfile(os.path.join(\"./images/\", f)) and not f.endswith('.mat')]\n"
   ]
  },
  {
   "attachments": {},
   "cell_type": "markdown",
   "metadata": {},
   "source": [
    "## 3. Data Generators"
   ]
  },
  {
   "attachments": {},
   "cell_type": "markdown",
   "metadata": {},
   "source": [
    "##### Data Generators for multiclasse classification"
   ]
  },
  {
   "cell_type": "code",
   "execution_count": null,
   "metadata": {},
   "outputs": [],
   "source": [
    "from tensorflow.keras.preprocessing.image import ImageDataGenerator\n",
    "\n",
    "# Data Generators for multiclasse classification\n",
    "breedsDir = './breeds/'\n",
    "\n",
    "# multi-class classification\n",
    "breedsGen = ImageDataGenerator(preprocessing_function=preprocess_input)\n",
    "\n",
    "# multi-class classification with data argumetation\n",
    "breedsGenAug = ImageDataGenerator(preprocessing_function=preprocess_input,\n",
    "                                  rotation_range=30,\n",
    "                                  width_shift_range=0.2,\n",
    "                                  height_shift_range=0.2,\n",
    "                                  shear_range=0.2,\n",
    "                                  zoom_range=0.2,\n",
    "                                  horizontal_flip=True,\n",
    "                                  fill_mode=\"nearest\")\n",
    "# dados de treino\n",
    "breedsTrainGen = breedsGen.flow_from_directory(directory=breedsDir + \"train/\",\n",
    "                                               target_size=(224, 224),\n",
    "                                               class_mode=\"categorical\",\n",
    "                                               batch_size=32)\n",
    "# dados de treino com augumentation\n",
    "breedsTrainGenAug = breedsGenAug.flow_from_directory(directory=breedsDir + \"train/\",\n",
    "                                                     target_size=(224, 224),\n",
    "                                                     class_mode=\"categorical\",\n",
    "                                                     batch_size=32)\n",
    "# dados de teste\n",
    "breedsTestGen = breedsGen.flow_from_directory(directory=breedsDir + \"test/\",\n",
    "                                              target_size=(224, 224),\n",
    "                                              class_mode=\"categorical\",\n",
    "                                              batch_size=32)\n"
   ]
  },
  {
   "attachments": {},
   "cell_type": "markdown",
   "metadata": {},
   "source": [
    "##### Data Generators for binary classification"
   ]
  },
  {
   "cell_type": "code",
   "execution_count": null,
   "metadata": {},
   "outputs": [],
   "source": [
    "# Data Generators for binary classification\n",
    "\n",
    "# Data Generators for binary classification\n",
    "speciesDir = './species/'\n",
    "\n",
    "# Binary classification\n",
    "speciesGen = ImageDataGenerator(preprocessing_function=preprocess_input)\n",
    "\n",
    "# Binary classification with augumentation\n",
    "speciesGenAug = ImageDataGenerator(preprocessing_function=preprocess_input,\n",
    "                                   rotation_range=30,\n",
    "                                   width_shift_range=0.2,\n",
    "                                   height_shift_range=0.2,\n",
    "                                   shear_range=0.2,\n",
    "                                   zoom_range=0.2,\n",
    "                                   horizontal_flip=True,\n",
    "                                   fill_mode=\"nearest\")\n",
    "\n",
    "# dados de treino\n",
    "speciesTrainGen = speciesGen.flow_from_directory(directory=speciesDir + \"train/\",\n",
    "                                                 target_size=(224, 224),\n",
    "                                                 class_mode=\"categorical\",\n",
    "                                                 batch_size=32)\n",
    "\n",
    "# dados de treino com augumentation\n",
    "speciesTrainGenAug = speciesGenAug.flow_from_directory(directory=speciesDir + \"train/\",\n",
    "                                                       target_size=(224, 224),\n",
    "                                                       class_mode=\"categorical\",\n",
    "                                                       batch_size=32)\n",
    "\n",
    "# dados de teste\n",
    "speciesTestGen = speciesGen.flow_from_directory(directory=speciesDir + \"test/\",\n",
    "                                                target_size=(224, 224),\n",
    "                                                class_mode=\"categorical\",\n",
    "                                                batch_size=32)\n"
   ]
  },
  {
   "attachments": {},
   "cell_type": "markdown",
   "metadata": {},
   "source": [
    "## 4. CNN networks"
   ]
  },
  {
   "attachments": {},
   "cell_type": "markdown",
   "metadata": {},
   "source": [
    "##### Species Cnn network"
   ]
  },
  {
   "cell_type": "code",
   "execution_count": null,
   "metadata": {},
   "outputs": [],
   "source": [
    "speciesCnn = models.Sequential()\n",
    "\n",
    "speciesCnn.add(layers.Conv2D(6, (5, 5), activation='relu',\n",
    "                             input_shape=(224, 224, 3), padding=\"same\"))\n",
    "speciesCnn.add(layers.AveragePooling2D((2, 2)))\n",
    "speciesCnn.add(layers.Conv2D(16, (5, 5), activation='relu'))\n",
    "speciesCnn.add(layers.AveragePooling2D((2, 2)))\n",
    "speciesCnn.add(layers.Conv2D(120, (1, 1), activation='relu'))\n",
    "speciesCnn.add(layers.Flatten())\n",
    "speciesCnn.add(layers.Dense(64, activation='relu'))\n",
    "speciesCnn.add(layers.Dense(2, activation='softmax'))  # 2 species\n",
    "\n",
    "speciesCnn.summary()\n",
    "\n",
    "speciesCnn.compile(optimizer=\"nadam\",\n",
    "                   loss=\"categorical_crossentropy\",\n",
    "                   metrics=[\"accuracy\"])"
   ]
  },
  {
   "attachments": {},
   "cell_type": "markdown",
   "metadata": {},
   "source": [
    "##### Breeds Cnn network"
   ]
  },
  {
   "cell_type": "code",
   "execution_count": null,
   "metadata": {},
   "outputs": [],
   "source": [
    "breedsCnn = models.Sequential()\n",
    "\n",
    "breedsCnn.add(layers.Conv2D(6, (5, 5), activation='relu',\n",
    "                            input_shape=(224, 224, 3), padding=\"same\"))\n",
    "breedsCnn.add(layers.AveragePooling2D((2, 2)))\n",
    "breedsCnn.add(layers.Conv2D(16, (5, 5), activation='relu'))\n",
    "breedsCnn.add(layers.AveragePooling2D((2, 2)))\n",
    "breedsCnn.add(layers.Conv2D(120, (1, 1), activation='relu'))\n",
    "breedsCnn.add(layers.Flatten())\n",
    "breedsCnn.add(layers.Dense(64, activation='relu'))\n",
    "breedsCnn.add(layers.Dense(37, activation='softmax'))  # 37 breeds\n",
    "\n",
    "breedsCnn.summary()\n",
    "\n",
    "breedsCnn.compile(optimizer=\"nadam\",\n",
    "                  loss=\"categorical_crossentropy\",\n",
    "                  metrics=[\"accuracy\"])"
   ]
  },
  {
   "attachments": {},
   "cell_type": "markdown",
   "metadata": {},
   "source": [
    "##### Pre trained network"
   ]
  },
  {
   "cell_type": "code",
   "execution_count": null,
   "metadata": {},
   "outputs": [],
   "source": [
    "from tensorflow.keras.applications.mobilenet_v2 import MobileNetV2, preprocess_input\n",
    "\n",
    "mn2 = MobileNetV2(weights='imagenet',\n",
    "                  input_shape=(224, 224, 3))\n",
    "\n",
    "mn2.trainable = False\n",
    "\n",
    "# mn2.summary()\n",
    "\n",
    "breedsMn2Cnn = models.Sequential()\n",
    "breedsMn2Cnn.add(mn2)\n",
    "breedsMn2Cnn.add(layers.Flatten())\n",
    "breedsMn2Cnn.add(layers.Dense(37, activation='softmax'))  # 37 breeds\n",
    "\n",
    "breedsMn2Cnn.summary()\n",
    "\n",
    "breedsMn2Cnn.compile(optimizer=\"nadam\",\n",
    "                     loss=\"categorical_crossentropy\",\n",
    "                     metrics=[\"accuracy\"])"
   ]
  },
  {
   "attachments": {},
   "cell_type": "markdown",
   "metadata": {},
   "source": [
    "## 5. Treinos e avaliacões"
   ]
  },
  {
   "cell_type": "code",
   "execution_count": null,
   "metadata": {},
   "outputs": [],
   "source": [
    "epochs = 25\n",
    "# steps_per_epoch = 100\n",
    "# validation_steps = 50\n",
    "# batch_size = 32\n",
    "\n",
    "import matplotlib.pyplot as plt\n",
    "\n",
    "def plot_history(history):\n",
    "    # h=train.history\n",
    "    plt.figure(figsize=(15,5))\n",
    "    # print(history.keys())\n",
    "\n",
    "    plt.subplot(1, 2, 1)\n",
    "    plt.title('Model accuracy')\n",
    "    plt.plot(history[\"accuracy\"], label='Accuracy')\n",
    "    plt.plot(history[\"val_accuracy\"], label='Validation Accuracy')\n",
    "    plt.xlabel('Epoch')\n",
    "    plt.ylabel('Accuracy')\n",
    "    plt.legend()\n",
    "    plt.grid(True)\n",
    "\n",
    "    plt.subplot(1, 2, 2)\n",
    "    plt.title('Model loss')\n",
    "    plt.plot(history[\"loss\"], label='Loss')\n",
    "    plt.plot(history[\"val_loss\"], label='Validation Loss')\n",
    "    plt.xlabel('Epoch')\n",
    "    plt.ylabel('Accuracy')\n",
    "    plt.legend()\n",
    "    plt.grid(True)\n",
    "    #plt.axis([0,100,0,5.25])\n",
    "    #plt.ylim([0.5, 1])\n",
    "\n",
    "    plt.show()\n",
    "\n",
    "def metrics(model, X, y):\n",
    "    y_pred = model.predict(X)\n",
    "    y_pred = np.argmax(y_pred, axis=1)\n",
    "    y_true = np.argmax(y, axis=1)\n",
    "    print(classification_report(y_true, y_pred))\n",
    "    print(confusion_matrix(y_true, y_pred))\n",
    "    print('Total number of errors: ', np.sum(y2 != y_pred))\n",
    "    print('Accuracy: ', np.sum(y2 == y_pred) / y2.shape[0] * 100)\n",
    "\n"
   ]
  },
  {
   "attachments": {},
   "cell_type": "markdown",
   "metadata": {},
   "source": [
    "### 5.1 Binary (Species)"
   ]
  },
  {
   "cell_type": "code",
   "execution_count": null,
   "metadata": {},
   "outputs": [],
   "source": [
    "## CNN from scratch without data augmentation\n",
    "logspeciesCnn = speciesCnn.fit(speciesTrainGen,\n",
    "                     epochs=epochs,\n",
    "                     validation_data=speciesTestGen)"
   ]
  },
  {
   "cell_type": "code",
   "execution_count": null,
   "metadata": {},
   "outputs": [],
   "source": [
    "plot_history(logspeciesCnn.history)\n",
    "metrics(speciesCnn, speciesTestGen, speciesTestGen)  # Ta mal"
   ]
  },
  {
   "cell_type": "code",
   "execution_count": null,
   "metadata": {},
   "outputs": [],
   "source": [
    "## Com MobileNetV2 network without data augmentation\n",
    "# treino e metricas\n",
    "# fazer?"
   ]
  },
  {
   "cell_type": "code",
   "execution_count": null,
   "metadata": {},
   "outputs": [],
   "source": [
    "## CNN from scratch with data augmentation\n",
    "logspeciesCnnAug = speciesCnn.fit(speciesTrainGenAug,\n",
    "                     epochs=epochs,\n",
    "                     validation_data=speciesTestGen)"
   ]
  },
  {
   "cell_type": "code",
   "execution_count": null,
   "metadata": {},
   "outputs": [],
   "source": [
    "plot_history(logspeciesCnnAug.history)\n",
    "metrics(speciesCnn, speciesTestGen, speciesTestGen) # Ta mal e falta guardar os dados"
   ]
  },
  {
   "cell_type": "code",
   "execution_count": null,
   "metadata": {},
   "outputs": [],
   "source": [
    "## Com MobileNetV2 network With data augmentation\n",
    "# treino e metricas\n",
    "# fazer?"
   ]
  },
  {
   "attachments": {},
   "cell_type": "markdown",
   "metadata": {},
   "source": [
    "### 5.2 Multi-class (Breeds)"
   ]
  },
  {
   "cell_type": "code",
   "execution_count": null,
   "metadata": {},
   "outputs": [],
   "source": [
    "## CNN from scratch without data augmentation\n",
    "logbreedsCnn = breedsCnn.fit(breedsTrainGen,\n",
    "                    epochs=epochs,\n",
    "                    validation_data=breedsTestGen)\n",
    "# Metricas\n",
    "# plot_history(logspeciesCnn.history)\n",
    "# metrics(speciesCnn, speciesTestGen, speciesTestGen)  # Ta mal"
   ]
  },
  {
   "cell_type": "code",
   "execution_count": null,
   "metadata": {},
   "outputs": [],
   "source": [
    "## Com MobileNetV2 network without data augmentation\n",
    "logbreedsMn2Cnn = breedsMn2Cnn.fit(breedsTrainGen,\n",
    "                       epochs=epochs,\n",
    "                       validation_data=breedsTestGen)\n",
    "# Metricas"
   ]
  },
  {
   "cell_type": "code",
   "execution_count": null,
   "metadata": {},
   "outputs": [],
   "source": [
    "## CNN from scratch with data augmentation\n",
    "logbreedsCnnAug = breedsCnn.fit(breedsTrainGenAug,\n",
    "                    epochs=epochs,\n",
    "                    validation_data=breedsTestGen)\n",
    "# Metricas"
   ]
  },
  {
   "cell_type": "code",
   "execution_count": null,
   "metadata": {},
   "outputs": [],
   "source": [
    "## Com MobileNetV2 network With data augmentation\n",
    "logbreedsMn2CnnAug = breedsMn2Cnn.fit(breedsTrainGenAug,\n",
    "                       epochs=epochs,\n",
    "                       validation_data=breedsTestGen)\n",
    "# Metricas"
   ]
  },
  {
   "cell_type": "code",
   "execution_count": null,
   "metadata": {},
   "outputs": [],
   "source": []
  }
 ],
 "metadata": {
  "kernelspec": {
   "display_name": "base",
   "language": "python",
   "name": "python3"
  },
  "language_info": {
   "codemirror_mode": {
    "name": "ipython",
    "version": 3
   },
   "file_extension": ".py",
   "mimetype": "text/x-python",
   "name": "python",
   "nbconvert_exporter": "python",
   "pygments_lexer": "ipython3",
   "version": "3.9.13"
  },
  "orig_nbformat": 4
 },
 "nbformat": 4,
 "nbformat_minor": 2
}
