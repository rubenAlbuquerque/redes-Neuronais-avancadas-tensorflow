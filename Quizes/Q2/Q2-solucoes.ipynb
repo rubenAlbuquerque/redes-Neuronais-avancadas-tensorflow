{
 "cells": [
  {
   "cell_type": "markdown",
   "metadata": {},
   "source": [
    "# In-Class Quiz Nº 2"
   ]
  },
  {
   "cell_type": "markdown",
   "metadata": {},
   "source": [
    "<hr style=\"border:1px  solid black\"> </hr>"
   ]
  },
  {
   "cell_type": "markdown",
   "metadata": {},
   "source": [
    "### (Fill in)\n",
    "## Name: \n",
    "## Number: "
   ]
  },
  {
   "cell_type": "markdown",
   "metadata": {},
   "source": [
    "<hr style=\"border:1px  solid black\"> </hr>"
   ]
  },
  {
   "cell_type": "markdown",
   "metadata": {},
   "source": [
    "## Develop and run the requested code in the cells immediately below the questions."
   ]
  },
  {
   "cell_type": "markdown",
   "metadata": {},
   "source": [
    "# IMPORTANTE:\n",
    "## Once completed, save this Jupyter notebook with the following name:\n",
    "## Axxxxx-Q2.ipynb (Axxxxx: student number)\n",
    "##  and then upload the file to the Moodle link provided for that purpose."
   ]
  },
  {
   "cell_type": "markdown",
   "metadata": {},
   "source": [
    "<hr style=\"border:2px solid black\"> </hr>"
   ]
  },
  {
   "cell_type": "markdown",
   "metadata": {},
   "source": [
    "# Data: MNIST dataset (small version) - pickle file $\\texttt{MNISTsmall.p}$\n",
    "## This file has the following variables (in a dictionary)\n",
    "* ### X1: training data ($1000\\times784$  uint8 array)\n",
    "* ### y1: classes of the training data (numbers 0 to 9)\n",
    "* ### X2: test data ($5000\\times784$ uint8 array)\n",
    "* ### y2: classes of the test data (numbers 0 to 9)"
   ]
  },
  {
   "cell_type": "code",
   "execution_count": 1,
   "metadata": {},
   "outputs": [],
   "source": [
    "import numpy as np\n",
    "import matplotlib.pyplot as plt\n",
    "from sklearn.metrics import confusion_matrix, roc_curve\n",
    "from sklearn.model_selection import  train_test_split\n",
    "from sklearn.svm import LinearSVC\n",
    "from sklearn.preprocessing import StandardScaler\n",
    "from sklearn.ensemble import RandomForestClassifier\n",
    "from sklearn.decomposition import PCA\n",
    "import pickle\n",
    "from time import time\n",
    "\n",
    "#load data\n",
    "D=pickle.load(open('MNISTsmall.p','rb'))\n",
    "X1=D.X1*1.\n",
    "X2=D.X2*1.\n",
    "y1=D.y1\n",
    "y2=D.y2"
   ]
  },
  {
   "cell_type": "markdown",
   "metadata": {},
   "source": [
    "# Question 1: Binary Classification\n",
    "##  Consider the examples of class three (3) as the positive class and the remaning classes as the negative examples.\n",
    "### a) Use the training set to find which dimensions of the data have a variance less than one hundred (100). Print this number and remove these dimensions from the training and test sets.\n",
    "### b) Use the training data to train a $\\texttt{LinearSVC}$ classifier with the following parameters: $\\texttt{random_state=42}$ and $\\texttt{C=0.1}$. Print the total number of errors and the confusion matrix for the test data.\n",
    "### c) Plot the ROC curve of this classifier with the test data. Include in this plot the operating point of the classifier.\n",
    "### d) Pre-process the data of item 1.a) using the function  $\\texttt{StandardScaler}$. Train this function with the training data and apply the transformation to the training and test sets. Use the new training data to train a $\\texttt{LinearSVC}$ classifier with the following parameters: $\\texttt{random_state=42}$ and $\\texttt{C=0.1}$. Print the total number of errors and the confusion matrix for the new test data.\n",
    "### e) In the same figure, plot the ROC curves of the classifiers of item 1.b) and 1.d) with the respective test data. Include in this plot the operational points of both classifiers."
   ]
  },
  {
   "cell_type": "code",
   "execution_count": 2,
   "metadata": {},
   "outputs": [],
   "source": [
    "#binary labels\n",
    "y1b=(y1==3)*1\n",
    "y2b=(y2==3)*1"
   ]
  },
  {
   "cell_type": "markdown",
   "metadata": {},
   "source": [
    "## 1.a)"
   ]
  },
  {
   "cell_type": "code",
   "execution_count": 3,
   "metadata": {
    "scrolled": false
   },
   "outputs": [
    {
     "name": "stdout",
     "output_type": "stream",
     "text": [
      "Number of dimensions with variance less da 100: 258\n",
      "(10000, 526) (5000, 526)\n"
     ]
    }
   ],
   "source": [
    "v=np.var(X1,axis=0)\n",
    "thres=100\n",
    "idx=v<thres\n",
    "print('Number of dimensions with variance less da %d:'%thres,np.sum(idx))\n",
    "X1b=X1[:,~idx]\n",
    "X2b=X2[:,~idx]\n",
    "print(X1b.shape,X2b.shape)\n"
   ]
  },
  {
   "cell_type": "markdown",
   "metadata": {},
   "source": [
    "## 1.b)"
   ]
  },
  {
   "cell_type": "code",
   "execution_count": 4,
   "metadata": {},
   "outputs": [
    {
     "name": "stdout",
     "output_type": "stream",
     "text": [
      "Time (train/test): 1.885 secs\n",
      "Total number of erros: 216\n",
      "Confusion Matrix:\n",
      " [[4382  118]\n",
      " [  98  402]]\n"
     ]
    },
    {
     "name": "stderr",
     "output_type": "stream",
     "text": [
      "/usr/local/lib/python3.6/dist-packages/sklearn/svm/_base.py:986: ConvergenceWarning: Liblinear failed to converge, increase the number of iterations.\n",
      "  \"the number of iterations.\", ConvergenceWarning)\n"
     ]
    }
   ],
   "source": [
    "st=time()\n",
    "svm=LinearSVC(C=0.1,random_state=42)\n",
    "svm.fit(X1b,y1b)\n",
    "y2be=svm.predict(X2b)\n",
    "et=time()\n",
    "print('Time (train/test): %.3f secs'%(et-st))\n",
    "print('Total number of erros:',np.sum(y2b!=y2be))\n",
    "CM1=confusion_matrix(y2b,y2be)\n",
    "print('Confusion Matrix:\\n',CM1)"
   ]
  },
  {
   "cell_type": "markdown",
   "metadata": {},
   "source": [
    "## 1.c)"
   ]
  },
  {
   "cell_type": "code",
   "execution_count": 5,
   "metadata": {
    "scrolled": false
   },
   "outputs": [
    {
     "data": {
      "text/plain": [
       "Text(0, 0.5, 'TP-rate')"
      ]
     },
     "execution_count": 5,
     "metadata": {},
     "output_type": "execute_result"
    },
    {
     "data": {
      "image/png": "[encoded data removed]",
      "text/plain": [
       "<Figure size 432x432 with 1 Axes>"
      ]
     },
     "metadata": {
      "needs_background": "light"
     },
     "output_type": "display_data"
    }
   ],
   "source": [
    "#r2c=rfc.predict_proba(X2b)[:,1]\n",
    "r2c=svm.decision_function(X2b)\n",
    "fpr1,tpr1,t=roc_curve(y2b,r2c)\n",
    "\n",
    "#Classificador 1\n",
    "#fp-rate=FP/(FP+TN)\n",
    "f1=CM1[0,1]/(CM1[0,0]+CM1[0,1])\n",
    "#tp-rate=TP/(TP+FN)\n",
    "r1=CM1[1,1]/(CM1[1,1]+CM1[1,0])\n",
    "\n",
    "plt.figure(figsize=(6,6))\n",
    "plt.plot(fpr1,tpr1)\n",
    "plt.plot(f1,r1,'.',ms=15)\n",
    "plt.axis('scaled')\n",
    "plt.grid(True)\n",
    "plt.title('ROC curve')\n",
    "plt.xlabel('FP-rate')\n",
    "plt.ylabel('TP-rate')"
   ]
  },
  {
   "cell_type": "markdown",
   "metadata": {},
   "source": [
    "## 1.d)"
   ]
  },
  {
   "cell_type": "code",
   "execution_count": 6,
   "metadata": {},
   "outputs": [
    {
     "name": "stdout",
     "output_type": "stream",
     "text": [
      "Time (train/test): 3.572 secs\n",
      "Total number of erros: 208\n",
      "Confusion Matrix:\n",
      " [[4403   97]\n",
      " [ 111  389]]\n"
     ]
    },
    {
     "name": "stderr",
     "output_type": "stream",
     "text": [
      "/usr/local/lib/python3.6/dist-packages/sklearn/svm/_base.py:986: ConvergenceWarning: Liblinear failed to converge, increase the number of iterations.\n",
      "  \"the number of iterations.\", ConvergenceWarning)\n"
     ]
    }
   ],
   "source": [
    "sc=StandardScaler().fit(X1b)\n",
    "X1c=sc.transform(X1b)\n",
    "X2c=sc.transform(X2b)\n",
    "\n",
    "st=time()\n",
    "svm=LinearSVC(C=0.1,random_state=42)\n",
    "svm.fit(X1c,y1b)\n",
    "y2be=svm.predict(X2c)\n",
    "et=time()\n",
    "print('Time (train/test): %.3f secs'%(et-st))\n",
    "print('Total number of erros:',np.sum(y2b!=y2be))\n",
    "CM2=confusion_matrix(y2b,y2be)\n",
    "print('Confusion Matrix:\\n',CM2)\n"
   ]
  },
  {
   "cell_type": "markdown",
   "metadata": {},
   "source": [
    "## 1.e)"
   ]
  },
  {
   "cell_type": "code",
   "execution_count": 7,
   "metadata": {},
   "outputs": [
    {
     "data": {
      "text/plain": [
       "Text(0, 0.5, 'TP-rate')"
      ]
     },
     "execution_count": 7,
     "metadata": {},
     "output_type": "execute_result"
    },
    {
     "data": {
      "image/png": "[encoded data removed]",
      "text/plain": [
       "<Figure size 432x432 with 1 Axes>"
      ]
     },
     "metadata": {
      "needs_background": "light"
     },
     "output_type": "display_data"
    }
   ],
   "source": [
    "r2c=svm.decision_function(X2c)\n",
    "fpr2,tpr2,t=roc_curve(y2b,r2c)\n",
    "\n",
    "#Classificador 2\n",
    "f2=CM2[0,1]/(CM2[0,0]+CM2[0,1])\n",
    "#tp-rate=TP/(TP+FN)\n",
    "r2=CM2[1,1]/(CM2[1,1]+CM2[1,0])\n",
    "\n",
    "plt.figure(figsize=(6,6))\n",
    "plt.plot(fpr1,tpr1,'b')\n",
    "plt.plot(fpr2,tpr2,'r')\n",
    "plt.plot(f1,r1,'.b',ms=15)\n",
    "plt.plot(f2,r2,'.r',ms=15)\n",
    "plt.axis('scaled')\n",
    "plt.grid(True)\n",
    "plt.title('ROC curve')\n",
    "plt.xlabel('FP-rate')\n",
    "plt.ylabel('TP-rate')"
   ]
  },
  {
   "cell_type": "markdown",
   "metadata": {},
   "source": [
    "<hr style=\"border:2px solid black\"> </hr>"
   ]
  },
  {
   "cell_type": "markdown",
   "metadata": {},
   "source": [
    "# Question 2 - Multi-Class Classification:\n",
    "## Consider the original train and test datasets form the $\\texttt{MNISTsmall.p}$ (10 classes).\n",
    "### a) Pre-process the data using the function  $\\texttt{PCA}$. Train this function with the training data and apply the transformation to the training and test sets. Preseve only the first 50 principal componentes of the data. Use the pre-processed data in the following items.\n",
    "### b) Train with the training set a $\\texttt{RandomForestClassifier}$ with the following parameters: $\\texttt{random_state=42}$ and $\\texttt{max_depth=10}$. Print the total number of errors and the confusion matrix for the test data.\n",
    "### c)  Divide the training set in two: a training and a validation set. Use the function $\\texttt{train_test_split}$ with the following parameters: $\\texttt{train_size=7000}$, $\\texttt{random_state=42}$ and $\\texttt{stratify=y1}$\n",
    "### d) Use the training set of the previous item to train the $\\texttt{RandomForestClassifier}$ (with $\\texttt{random_state=42}$ and $\\texttt{max_depth=10}$) and check which value for the parameter $\\texttt{n_estimators}$ gives the best score in the validation set. Test the following values for the parameter $\\texttt{n_estimators}$: 200, 225, 250, 275 and 300.\n",
    "### e) Re-train with the whole training set (10000 examples) the $\\texttt{RandomForestClassifier}$ (with $\\texttt{random_state=42}$ and $\\texttt{max_depth=10}$) with the best value obtained in the previous item for the parameter $\\texttt{n_estimators}$.  Print the total number of errors and the confusion matrix for the test data."
   ]
  },
  {
   "cell_type": "markdown",
   "metadata": {},
   "source": [
    "## 2.a)"
   ]
  },
  {
   "cell_type": "code",
   "execution_count": 7,
   "metadata": {},
   "outputs": [],
   "source": [
    "pca=PCA(n_components=50).fit(X1)\n",
    "X1p=pca.transform(X1)\n",
    "X2p=pca.transform(X2)\n"
   ]
  },
  {
   "cell_type": "markdown",
   "metadata": {},
   "source": [
    "## 2.b)"
   ]
  },
  {
   "cell_type": "code",
   "execution_count": 8,
   "metadata": {
    "scrolled": true
   },
   "outputs": [
    {
     "name": "stdout",
     "output_type": "stream",
     "text": [
      "Time (train/test): 5.194 secs\n",
      "Total number of erros: 607\n",
      "Confusion Matrix:\n",
      " [[476   0   3   1   1   4   7   1   3   4]\n",
      " [  0 486   2   5   0   2   2   0   3   0]\n",
      " [  3   2 422  18   4   1   5  10  32   3]\n",
      " [  2   0   4 439   1  23   3   5  20   3]\n",
      " [  0   2   4   4 428   4  11   1   4  42]\n",
      " [  6   1   3  21  12 430   4   8   6   9]\n",
      " [ 10   2   6   1   8  16 454   1   2   0]\n",
      " [  0  15  19   4   2   5   1 428  11  15]\n",
      " [  5   0  13  32   7  15   4   4 404  16]\n",
      " [  4   6   2  15  26   7   2   7   5 426]]\n"
     ]
    }
   ],
   "source": [
    "st=time()\n",
    "#svm=SVC(kernel='rbf',C=5,random_state=42).fit(X1p,y1)\n",
    "#y2e=svm.predict(X2p)\n",
    "rfc=RandomForestClassifier(random_state=42,max_depth=10).fit(X1p,y1)\n",
    "y2e=rfc.predict(X2p)\n",
    "et=time()\n",
    "print('Time (train/test): %.3f secs'%(et-st))\n",
    "print('Total number of erros:',np.sum(y2!=y2e))\n",
    "CM=confusion_matrix(y2,y2e)\n",
    "print('Confusion Matrix:\\n',CM)\n"
   ]
  },
  {
   "cell_type": "markdown",
   "metadata": {},
   "source": [
    "## 2.c)"
   ]
  },
  {
   "cell_type": "code",
   "execution_count": 9,
   "metadata": {
    "scrolled": false
   },
   "outputs": [],
   "source": [
    "X1pa,X1pb,y1a,y1b=train_test_split(X1p,y1,train_size=7000,stratify=y1,random_state=42)"
   ]
  },
  {
   "cell_type": "markdown",
   "metadata": {},
   "source": [
    "## 2.d)"
   ]
  },
  {
   "cell_type": "code",
   "execution_count": 10,
   "metadata": {},
   "outputs": [
    {
     "name": "stdout",
     "output_type": "stream",
     "text": [
      "0.901 200\n",
      "0.9006666666666666 225\n",
      "0.9023333333333333 250\n",
      "0.9023333333333333 275\n",
      "0.9016666666666666 300\n",
      "Best Number of Estimators: 250\n"
     ]
    }
   ],
   "source": [
    "nEst=np.arange(200,301,25)\n",
    "topScore=0\n",
    "for nE in nEst:\n",
    "    rfc=RandomForestClassifier(random_state=42,max_depth=10,n_estimators=nE).fit(X1pa,y1a)\n",
    "    currentScore=rfc.score(X1pb,y1b)\n",
    "    print(currentScore,nE)\n",
    "    if currentScore>topScore:\n",
    "        topScore=currentScore\n",
    "        bestEst=nE\n",
    "print('Best Number of Estimators:',bestEst)"
   ]
  },
  {
   "cell_type": "markdown",
   "metadata": {},
   "source": [
    "## 2.e)"
   ]
  },
  {
   "cell_type": "code",
   "execution_count": 11,
   "metadata": {},
   "outputs": [
    {
     "name": "stdout",
     "output_type": "stream",
     "text": [
      "Time (train/test): 13.626 secs\n",
      "Total number of erros: 598\n",
      "Confusion Matrix:\n",
      " [[478   0   2   1   0   3   9   1   4   2]\n",
      " [  0 485   2   7   0   1   2   0   3   0]\n",
      " [  2   1 430  16   3   1   5   9  30   3]\n",
      " [  2   0   2 443   1  22   4   6  16   4]\n",
      " [  1   3   6   4 428   5  11   1   3  38]\n",
      " [  6   1   2  19  13 430   4   9   7   9]\n",
      " [  9   2   4   1   9  18 455   0   2   0]\n",
      " [  1  15  17   3   3   2   1 425  17  16]\n",
      " [  6   0  16  25   7  14   4   3 405  20]\n",
      " [  3   7   1  13  32   8   2   5   6 423]]\n"
     ]
    }
   ],
   "source": [
    "st=time()\n",
    "rfc=RandomForestClassifier(random_state=42,max_depth=10,n_estimators=bestEst).fit(X1p,y1)\n",
    "y2e=rfc.predict(X2p)\n",
    "et=time()\n",
    "print('Time (train/test): %.3f secs'%(et-st))\n",
    "print('Total number of erros:',np.sum(y2!=y2e))\n",
    "CM=confusion_matrix(y2,y2e)\n",
    "print('Confusion Matrix:\\n',CM)\n"
   ]
  },
  {
   "cell_type": "code",
   "execution_count": null,
   "metadata": {},
   "outputs": [],
   "source": []
  }
 ],
 "metadata": {
  "kernelspec": {
   "display_name": "Python 3",
   "language": "python",
   "name": "python3"
  },
  "language_info": {
   "codemirror_mode": {
    "name": "ipython",
    "version": 3
   },
   "file_extension": ".py",
   "mimetype": "text/x-python",
   "name": "python",
   "nbconvert_exporter": "python",
   "pygments_lexer": "ipython3",
   "version": "3.7.1"
  }
 },
 "nbformat": 4,
 "nbformat_minor": 4
}
