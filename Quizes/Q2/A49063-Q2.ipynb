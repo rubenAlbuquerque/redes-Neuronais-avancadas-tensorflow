{
 "cells": [
  {
   "cell_type": "markdown",
   "metadata": {},
   "source": [
    "# In-Class Quiz Nº 2"
   ]
  },
  {
   "cell_type": "markdown",
   "metadata": {},
   "source": [
    "<hr style=\"border:1px  solid black\"> </hr>"
   ]
  },
  {
   "cell_type": "markdown",
   "metadata": {},
   "source": [
    "### (Fill in)\n",
    "## Name: ruben santos\n",
    "## Number: A49063"
   ]
  },
  {
   "cell_type": "markdown",
   "metadata": {},
   "source": [
    "<hr style=\"border:1px  solid black\"> </hr>"
   ]
  },
  {
   "cell_type": "markdown",
   "metadata": {},
   "source": [
    "## Develop and run the requested code in the cells immediately below the questions."
   ]
  },
  {
   "cell_type": "markdown",
   "metadata": {},
   "source": [
    "# IMPORTANT:\n",
    "## Once completed, save this Jupyter notebook with the following name:\n",
    "## Axxxxx-Q2.ipynb (Axxxxx: student number)\n",
    "##  and then upload the file to the Moodle link provided for that purpose."
   ]
  },
  {
   "cell_type": "markdown",
   "metadata": {},
   "source": [
    "<hr style=\"border:2px solid black\"> </hr>"
   ]
  },
  {
   "cell_type": "markdown",
   "metadata": {},
   "source": [
    "# Data: MNIST dataset (small version) - pickle file $\\texttt{MNISTsmall.p}$\n",
    "## This file has the following variables (in a dictionary)\n",
    "* ### X1: training data ($1000\\times784$  uint8 array)\n",
    "* ### y1: classes of the training data (numbers 0 to 9)\n",
    "* ### X2: test data ($5000\\times784$ uint8 array)\n",
    "* ### y2: classes of the test data (numbers 0 to 9)"
   ]
  },
  {
   "cell_type": "code",
   "execution_count": 1,
   "metadata": {},
   "outputs": [],
   "source": [
    "import numpy as np\n",
    "import matplotlib.pyplot as plt\n",
    "from sklearn.metrics import confusion_matrix, roc_curve\n",
    "from sklearn.model_selection import  train_test_split\n",
    "from sklearn.svm import LinearSVC\n",
    "from sklearn.preprocessing import StandardScaler\n",
    "from sklearn.ensemble import RandomForestClassifier\n",
    "from sklearn.decomposition import PCA\n",
    "import pickle\n",
    "\n",
    "#load data\n",
    "D=pickle.load(open('MNISTsmall.p','rb'))\n",
    "X1=D.X1*1.  #train\n",
    "X2=D.X2*1.\n",
    "y1=D.y1 #\n",
    "y2=D.y2"
   ]
  },
  {
   "cell_type": "code",
   "execution_count": 2,
   "metadata": {},
   "outputs": [
    {
     "data": {
      "text/plain": [
       "(10000, 784)"
      ]
     },
     "execution_count": 2,
     "metadata": {},
     "output_type": "execute_result"
    }
   ],
   "source": [
    "X1.shape"
   ]
  },
  {
   "cell_type": "code",
   "execution_count": 3,
   "metadata": {},
   "outputs": [
    {
     "data": {
      "text/plain": [
       "(5000, 784)"
      ]
     },
     "execution_count": 3,
     "metadata": {},
     "output_type": "execute_result"
    }
   ],
   "source": [
    "X2.shape"
   ]
  },
  {
   "cell_type": "code",
   "execution_count": 4,
   "metadata": {},
   "outputs": [
    {
     "data": {
      "text/plain": [
       "(10000,)"
      ]
     },
     "execution_count": 4,
     "metadata": {},
     "output_type": "execute_result"
    }
   ],
   "source": [
    "y1.shape"
   ]
  },
  {
   "cell_type": "code",
   "execution_count": 5,
   "metadata": {},
   "outputs": [
    {
     "data": {
      "text/plain": [
       "(5000,)"
      ]
     },
     "execution_count": 5,
     "metadata": {},
     "output_type": "execute_result"
    }
   ],
   "source": [
    "y2.shape"
   ]
  },
  {
   "cell_type": "markdown",
   "metadata": {},
   "source": [
    "# Question 1: Binary Classification\n",
    "##  Consider the examples of class three (3) as the positive class and the remaning classes as the negative examples.\n",
    "### a) Use the training set to find which dimensions of the data have a variance less than one hundred (100). Print this number and remove these dimensions from the training and test sets.\n",
    "### b) Use the training data to train a $\\texttt{LinearSVC}$ classifier with the following parameters: $\\texttt{random_state=42}$ and $\\texttt{C=0.1}$. Print the total number of errors and the confusion matrix for the test data.\n",
    "### c) Plot the ROC curve of this classifier with the test data. Include in this plot the operating point of the classifier.\n",
    "### d) Pre-process the data of item 1.a) using the function  $\\texttt{StandardScaler}$. Train this function with the training data and apply the transformation to the training and test sets. Use the new training data to train a $\\texttt{LinearSVC}$ classifier with the following parameters: $\\texttt{random_state=42}$ and $\\texttt{C=0.1}$. Print the total number of errors and the confusion matrix for the new test data.\n",
    "### e) In the same figure, plot the ROC curves of the classifiers of item 1.b) and 1.d) with the respective test data. Include in this plot the operational points of both classifiers."
   ]
  },
  {
   "cell_type": "code",
   "execution_count": 41,
   "metadata": {},
   "outputs": [],
   "source": [
    "#binary labels\n",
    "y1b=(y1==3)*1 # positive\n",
    "y2b=(y2==3)*1 "
   ]
  },
  {
   "cell_type": "markdown",
   "metadata": {},
   "source": [
    "## 1.a)"
   ]
  },
  {
   "cell_type": "code",
   "execution_count": 42,
   "metadata": {},
   "outputs": [
    {
     "name": "stdout",
     "output_type": "stream",
     "text": [
      "dimension: 0\n"
     ]
    }
   ],
   "source": [
    "#QUantos e remove\n",
    "#X1.var(axis=0) < 100\n",
    "antes = X1.shape[1]\n",
    "X1=X1[:,  X1.var(axis=0) < 100]\n",
    "X2=X2[:,  X1.var(axis=0) < 100]\n",
    "print(\"dimension:\", antes -  X1.shape[1])\n",
    "\n",
    "#X1=X1[:,true]\n",
    "#X2=X2[:,true]\n",
    "\n",
    "#(Xtrain,ytrain),(Xtest,ytest) =   (X1, y1),    (X2, y2)   \n",
    "#np.voar?\n",
    "#748"
   ]
  },
  {
   "cell_type": "markdown",
   "metadata": {},
   "source": [
    "## 1.b)"
   ]
  },
  {
   "cell_type": "code",
   "execution_count": 48,
   "metadata": {},
   "outputs": [
    {
     "name": "stdout",
     "output_type": "stream",
     "text": [
      "Total number of errors 506\n",
      "Confusion Matrix:\n",
      "[[4479   21]\n",
      " [ 485   15]]\n"
     ]
    },
    {
     "name": "stderr",
     "output_type": "stream",
     "text": [
      "C:\\Users\\ruben\\AppData\\Local\\Continuum\\anaconda3\\lib\\site-packages\\sklearn\\svm\\_base.py:1208: ConvergenceWarning: Liblinear failed to converge, increase the number of iterations.\n",
      "  ConvergenceWarning,\n"
     ]
    }
   ],
   "source": [
    "model=LinearSVC(random_state=42, C=0.1).fit(X1, y1b)\n",
    "y2e=model.predict(X2)\n",
    "\n",
    "print('Total number of errors',np.sum(y2b!=y2e))\n",
    "print('Confusion Matrix:')\n",
    "matrix= confusion_matrix(y2b,y2e)\n",
    "print(matrix)"
   ]
  },
  {
   "cell_type": "markdown",
   "metadata": {},
   "source": [
    "## 1.c)"
   ]
  },
  {
   "cell_type": "code",
   "execution_count": 52,
   "metadata": {},
   "outputs": [
    {
     "data": {
      "image/png": "[encoded data removed]",
      "text/plain": [
       "<Figure size 432x288 with 1 Axes>"
      ]
     },
     "metadata": {
      "needs_background": "light"
     },
     "output_type": "display_data"
    }
   ],
   "source": [
    "df = model.decision_function(X2)\n",
    "fpr, tpr, t = roc_curve(y2b, df)\n",
    "\n",
    "fp = matrix[0][1] / (matrix[0][0] + matrix[0][1])\n",
    "tp = matrix[1][1] / (matrix[1][0] + matrix[1][1])\n",
    "\n",
    "plt.figure()\n",
    "plt.plot(fpr, tpr)\n",
    "plt.plot(fp, tp, \"or\")\n",
    "plt.grid(True)\n",
    "\n",
    "\n"
   ]
  },
  {
   "cell_type": "code",
   "execution_count": null,
   "metadata": {},
   "outputs": [],
   "source": [
    "#fp-rate=FP/(FP+TN) - falso positivo\n",
    "p1=0\n",
    "#tp-rate=TP/(TP+FN)\n",
    "p2=60/(3+60) #recall\n",
    "\n",
    "plt.figure(figsize=(6,6))\n",
    "plt.plot(p1,p2,'ok')\n",
    "plt.plot(fpr,tpr)\n",
    "plt.axis('scaled')\n",
    "plt.grid(True)"
   ]
  },
  {
   "cell_type": "markdown",
   "metadata": {},
   "source": [
    "## 1.d)"
   ]
  },
  {
   "cell_type": "code",
   "execution_count": 53,
   "metadata": {},
   "outputs": [
    {
     "name": "stdout",
     "output_type": "stream",
     "text": [
      "Total number of errors 503\n",
      "Confusion Matrix:\n",
      "[[4470   30]\n",
      " [ 473   27]]\n"
     ]
    },
    {
     "name": "stderr",
     "output_type": "stream",
     "text": [
      "C:\\Users\\ruben\\AppData\\Local\\Continuum\\anaconda3\\lib\\site-packages\\sklearn\\svm\\_base.py:1208: ConvergenceWarning: Liblinear failed to converge, increase the number of iterations.\n",
      "  ConvergenceWarning,\n"
     ]
    }
   ],
   "source": [
    "#menos de 100 e sacler\n",
    "#matrix\n",
    "#(Xtrain,ytrain),(Xtest,ytest) =   (X1, y1),    (X2, y2)   \n",
    "sc=StandardScaler().fit(X1)\n",
    "X1S=sc.transform(X1)\n",
    "X2S=sc.transform(X2)\n",
    "\n",
    "\n",
    "model=LinearSVC(random_state=42, C=0.1).fit(X1S, y1b)\n",
    "y2ee=model.predict(X2)\n",
    "\n",
    "print('Total number of errors',np.sum(y2b!=y2ee))\n",
    "print('Confusion Matrix:')\n",
    "matrix2 = confusion_matrix(y2b,y2ee)\n",
    "print(matrix2)"
   ]
  },
  {
   "cell_type": "markdown",
   "metadata": {},
   "source": [
    "## 1.e)"
   ]
  },
  {
   "cell_type": "code",
   "execution_count": 55,
   "metadata": {},
   "outputs": [
    {
     "data": {
      "image/png": "[encoded data removed]",
      "text/plain": [
       "<Figure size 432x288 with 1 Axes>"
      ]
     },
     "metadata": {
      "needs_background": "light"
     },
     "output_type": "display_data"
    }
   ],
   "source": [
    "df2 = model.decision_function(X2S)\n",
    "fpr2, tpr2, t2 = roc_curve(y2b, df2)\n",
    "\n",
    "fp2 = matrix2[0][1] / (matrix2[0][0] + matrix2[0][1])\n",
    "tp2 = matrix2[1][1] / (matrix2[1][0] + matrix2[1][1])\n",
    "\n",
    "plt.figure()\n",
    "plt.plot(fpr, tpr) \n",
    "plt.plot(fpr2, tpr2)\n",
    "plt.plot(fp, tp, \"or\") \n",
    "plt.plot(fp2, tp2, \"ob\")  \n",
    "plt.grid(True)\n"
   ]
  },
  {
   "cell_type": "markdown",
   "metadata": {},
   "source": [
    "<hr style=\"border:2px solid black\"> </hr>"
   ]
  },
  {
   "cell_type": "markdown",
   "metadata": {},
   "source": [
    "# Question 2 - Multi-Class Classification:\n",
    "## Consider the original train and test datasets form the $\\texttt{MNISTsmall.p}$ (10 classes).\n",
    "### a) Pre-process the data using the function  $\\texttt{PCA}$. Train this function with the training data and apply the transformation to the training and test sets. Preseve only the first 50 principal componentes of the data. Use the pre-processed data in the following items.\n",
    "### b) Train with the training set a $\\texttt{RandomForestClassifier}$ with the following parameters: $\\texttt{random_state=42}$ and $\\texttt{max_depth=10}$. Print the total number of errors and the confusion matrix for the test data.\n",
    "### c)  Divide the training set in two: a training and a validation set. Use the function $\\texttt{train_test_split}$ with the following parameters: $\\texttt{train_size=7000}$, $\\texttt{random_state=42}$ and $\\texttt{stratify=y1}$\n",
    "### d) Use the training set of the previous item to train the $\\texttt{RandomForestClassifier}$ (with $\\texttt{random_state=42}$ and $\\texttt{max_depth=10}$) and check which value for the parameter $\\texttt{n_estimators}$ gives the best score in the validation set. Test the following values for the parameter $\\texttt{n_estimators}$: 200, 225, 250, 275 and 300.\n",
    "### e) Re-train with the whole training set (10000 examples) the $\\texttt{RandomForestClassifier}$ (with $\\texttt{random_state=42}$ and $\\texttt{max_depth=10}$) with the best value obtained in the previous item for the parameter $\\texttt{n_estimators}$.  Print the total number of errors and the confusion matrix for the test data."
   ]
  },
  {
   "cell_type": "markdown",
   "metadata": {},
   "source": [
    "## 2.a)"
   ]
  },
  {
   "cell_type": "code",
   "execution_count": 56,
   "metadata": {},
   "outputs": [
    {
     "name": "stdout",
     "output_type": "stream",
     "text": [
      "Nº of Principal Components to kept: 50\n"
     ]
    }
   ],
   "source": [
    "#from sklearn.decomposition import PCA\n",
    "\n",
    "pca=PCA(n_components=50, whiten=True).fit(X1)\n",
    "X1p=pca.transform(X1)\n",
    "X2p=pca.transform(X2)\n"
   ]
  },
  {
   "cell_type": "markdown",
   "metadata": {},
   "source": [
    "## 2.b)"
   ]
  },
  {
   "cell_type": "code",
   "execution_count": 57,
   "metadata": {},
   "outputs": [
    {
     "name": "stdout",
     "output_type": "stream",
     "text": [
      "Total number of errors 4235\n",
      "Confusion Matrix:\n",
      "[[  0 498   0   0   0   0   1   1   0   0]\n",
      " [  0 500   0   0   0   0   0   0   0   0]\n",
      " [  0 428  53   3   2   0   9   1   0   4]\n",
      " [  0 459   3  36   0   0   1   1   0   0]\n",
      " [  2 470   5  10   5   3   0   3   0   2]\n",
      " [  0 443   2   1   0  47   2   1   3   1]\n",
      " [  0 436  12   3   0   6  43   0   0   0]\n",
      " [  0 424   1   4   2   1   0  64   0   4]\n",
      " [  0 490   2   0   0   7   0   1   0   0]\n",
      " [  1 474   2   0   1   0   0   5   0  17]]\n"
     ]
    }
   ],
   "source": [
    "model = RandomForestClassifier(random_state=42, max_depth=10).fit(X1p,y1)\n",
    "y2eR= model.predict(X2p)\n",
    "\n",
    "print('Total number of errors',np.sum(y2!=y2eR))\n",
    "print('Confusion Matrix:')\n",
    "print(confusion_matrix(y2,y2eR))"
   ]
  },
  {
   "cell_type": "markdown",
   "metadata": {},
   "source": [
    "## 2.c)"
   ]
  },
  {
   "cell_type": "code",
   "execution_count": 59,
   "metadata": {},
   "outputs": [],
   "source": [
    "\n",
    "Xtrain0, Xvalid, ytrain0, yvalid= train_test_split(X1p, y1, test_size=7000, random_state=42, stratify=y1)\n"
   ]
  },
  {
   "cell_type": "markdown",
   "metadata": {},
   "source": [
    "## 2.d)"
   ]
  },
  {
   "cell_type": "code",
   "execution_count": 62,
   "metadata": {},
   "outputs": [
    {
     "name": "stdout",
     "output_type": "stream",
     "text": [
      "score: 0.15157142857142858\n",
      "Best estimator: 225\n"
     ]
    }
   ],
   "source": [
    "\n",
    "topScore=0\n",
    "for i in [200, 225, 250, 275, 300]:\n",
    "    sgd=RandomForestClassifier(n_estimators=i, max_depth=10, random_state=42).fit(Xtrain0, ytrain0)\n",
    "    currentScore=sgd.score(Xvalid,yvalid)\n",
    "    if currentScore>topScore:\n",
    "        topScore=currentScore\n",
    "        best_estimator=i\n",
    "        \n",
    "print(\"score:\", topScore)\n",
    "print(\"Best estimator:\", best_estimator)\n"
   ]
  },
  {
   "cell_type": "markdown",
   "metadata": {},
   "source": [
    "## 2.e)"
   ]
  },
  {
   "cell_type": "code",
   "execution_count": 67,
   "metadata": {},
   "outputs": [
    {
     "name": "stdout",
     "output_type": "stream",
     "text": [
      "Total number of errors 4236\n",
      "Confusion Matrix:\n",
      "[[  0 498   0   0   0   0   1   1   0   0]\n",
      " [  0 500   0   0   0   0   0   0   0   0]\n",
      " [  0 428  53   3   2   0   9   1   0   4]\n",
      " [  0 459   3  36   0   0   1   1   0   0]\n",
      " [  2 470   6  10   5   3   0   3   0   1]\n",
      " [  0 443   2   1   0  47   2   1   3   1]\n",
      " [  0 436  11   4   0   6  43   0   0   0]\n",
      " [  0 424   1   5   2   1   0  63   0   4]\n",
      " [  0 490   3   0   0   6   0   1   0   0]\n",
      " [  1 474   3   0   0   0   0   5   0  17]]\n"
     ]
    }
   ],
   "source": [
    "sgd=RandomForestClassifier(n_estimators=200, max_depth=10, random_state=42).fit(X1p, y1)\n",
    "\n",
    "y2e = sgd.predict(X2p)\n",
    "print('Total number of errors',np.sum(y2!=y2e)) # nuermor de erros\n",
    "print('Confusion Matrix:')\n",
    "print(confusion_matrix(y2,y2e))"
   ]
  },
  {
   "cell_type": "code",
   "execution_count": null,
   "metadata": {},
   "outputs": [],
   "source": []
  }
 ],
 "metadata": {
  "kernelspec": {
   "display_name": "Python 3",
   "language": "python",
   "name": "python3"
  },
  "language_info": {
   "codemirror_mode": {
    "name": "ipython",
    "version": 3
   },
   "file_extension": ".py",
   "mimetype": "text/x-python",
   "name": "python",
   "nbconvert_exporter": "python",
   "pygments_lexer": "ipython3",
   "version": "3.7.1"
  }
 },
 "nbformat": 4,
 "nbformat_minor": 4
}
