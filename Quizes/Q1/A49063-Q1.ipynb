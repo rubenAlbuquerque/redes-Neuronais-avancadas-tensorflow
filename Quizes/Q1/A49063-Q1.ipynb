{
 "cells": [
  {
   "cell_type": "markdown",
   "metadata": {},
   "source": [
    "# In-Class Quiz Nº 1"
   ]
  },
  {
   "cell_type": "markdown",
   "metadata": {},
   "source": [
    "<hr style=\"border:1px  solid black\"> </hr>"
   ]
  },
  {
   "cell_type": "markdown",
   "metadata": {},
   "source": [
    "### (Fill in)\n",
    "## Name: Ruben Santos\n",
    "## Number:  49063"
   ]
  },
  {
   "cell_type": "markdown",
   "metadata": {},
   "source": [
    "<hr style=\"border:1px  solid black\"> </hr>"
   ]
  },
  {
   "cell_type": "markdown",
   "metadata": {},
   "source": [
    "## Develop and run the requested code in the cells immediately below the questions."
   ]
  },
  {
   "cell_type": "markdown",
   "metadata": {},
   "source": [
    "# IMPORTANTE:\n",
    "## Once completed, save this Jupyter notebook with the following name:\n",
    "## Axxxxx-Q1.ipynb (Axxxxx: student number)\n",
    "##  and then upload the file to the Moodle link provided for that purpose."
   ]
  },
  {
   "cell_type": "markdown",
   "metadata": {},
   "source": [
    "<hr style=\"border:2px solid black\"> </hr>"
   ]
  },
  {
   "cell_type": "markdown",
   "metadata": {},
   "source": [
    "# Data: $\\texttt{breast_cancer}$ dataset of $\\texttt{sklearn}$\n",
    "### Consider the $\\texttt{breast_cancer}$ dataset of $\\texttt{sklearn}$, divided into two sub-sets, training/testing, according to the commands in the next cell.\n",
    "* ### X1: training data ($400\\times30$ array)\n",
    "* ### y1: classes of the training data\n",
    "* ### X2: test data (array de $169\\times30$)\n",
    "* ### y2: classes of the test data"
   ]
  },
  {
   "cell_type": "code",
   "execution_count": 2,
   "metadata": {},
   "outputs": [],
   "source": [
    "import numpy as np\n",
    "import matplotlib.pyplot as plt\n",
    "from sklearn.metrics import confusion_matrix, roc_curve\n",
    "from sklearn.model_selection import  train_test_split\n",
    "import sklearn.datasets as DT\n",
    "from sklearn.svm import SVC\n",
    "from sklearn.linear_model import LogisticRegression\n",
    "\n",
    "D=DT.load_breast_cancer()\n",
    "X=D.data\n",
    "y=D.target\n",
    "\n",
    "################################################################\n",
    "#Consider malignant cases as positive (class 1)\n",
    "# Need to invert classes: malagne 1, benign 0\n",
    "y=np.abs(y-1)\n",
    "################################################################\n",
    "\n",
    "#division int training and test sub-sets\n",
    "X1,X2,y1,y2=train_test_split(X,y,test_size=169,stratify=y,random_state=42)"
   ]
  },
  {
   "cell_type": "markdown",
   "metadata": {},
   "source": [
    "# Question 1: Logistic Discriminants\n",
    "##  Consider a logistic discriminant with the following parameters $\\texttt{C=2}$, $\\texttt{solver='saga'}$, $\\texttt{penalty='l1'}$ and $\\texttt{max_iter=5000}$. Train the classifier with the training set.\n",
    "### a) Print the total number of errors and the confusion matrix  (non-normalized) of this classifier for the test set.\n",
    "### b) Calibrate this classifier in order to have a maximum number of false negatives in the test less than or equal to 5, while keeping the total number of errors below 15.¶\n",
    "### c) Plot the ROC curve of this classifier with the test data. Include in this plot the operational point of the classifiers in items 1.a) and 1.b)."
   ]
  },
  {
   "cell_type": "markdown",
   "metadata": {},
   "source": [
    "## 1.a)"
   ]
  },
  {
   "cell_type": "code",
   "execution_count": 16,
   "metadata": {},
   "outputs": [
    {
     "name": "stdout",
     "output_type": "stream",
     "text": [
      "score= 0.9053254437869822\n",
      "Matriz:\n",
      " [[104   2]\n",
      " [ 14  49]]\n"
     ]
    },
    {
     "name": "stderr",
     "output_type": "stream",
     "text": [
      "C:\\Users\\ruben\\AppData\\Local\\Continuum\\anaconda3\\lib\\site-packages\\sklearn\\linear_model\\_sag.py:354: ConvergenceWarning: The max_iter was reached which means the coef_ did not converge\n",
      "  ConvergenceWarning,\n"
     ]
    }
   ],
   "source": [
    "logisticRegr = LogisticRegression(C=2, solver=\"saga\", penalty=\"l1\", max_iter=500).fit(X1, y1)\n",
    "predictions = logisticRegr.predict(X2)\n",
    "score = logisticRegr.score(X2, y2)\n",
    "print(\"score=\", score)\n",
    "\n",
    "cm = confusion_matrix(y2, predictions)\n",
    "print(\"Matriz:\\n\",cm)\n"
   ]
  },
  {
   "cell_type": "markdown",
   "metadata": {},
   "source": [
    "## 1.b)"
   ]
  },
  {
   "cell_type": "code",
   "execution_count": 33,
   "metadata": {},
   "outputs": [],
   "source": [
    "\n",
    "from sklearn.linear_model import SGDClassifier\n",
    "from sklearn.metrics import confusion_matrix\n",
    "\n",
    "sgd=SGDClassifier().fit(X1,y1)\n",
    "ytest_score=sgd.decision_function(X2)\n",
    "ytest_p=sgd.predict(X2)"
   ]
  },
  {
   "cell_type": "markdown",
   "metadata": {},
   "source": [
    "## 1.c)"
   ]
  },
  {
   "cell_type": "code",
   "execution_count": 36,
   "metadata": {},
   "outputs": [
    {
     "data": {
      "text/plain": [
       "[<matplotlib.lines.Line2D at 0x27c5e5f5f60>]"
      ]
     },
     "execution_count": 36,
     "metadata": {},
     "output_type": "execute_result"
    },
    {
     "data": {
      "image/png": "[encoded data removed]",
      "text/plain": [
       "<Figure size 432x288 with 1 Axes>"
      ]
     },
     "metadata": {
      "needs_background": "light"
     },
     "output_type": "display_data"
    }
   ],
   "source": [
    "fpr,rec,thresh=roc_curve(ytest_p, ytest_score)\n",
    "plt.plot(fpr, rec, linestyle=\"--\")\n"
   ]
  },
  {
   "cell_type": "markdown",
   "metadata": {},
   "source": [
    "<hr style=\"border:2px solid black\"> </hr>"
   ]
  },
  {
   "cell_type": "markdown",
   "metadata": {},
   "source": [
    "# Question 2 - SVMs:\n",
    "## Consider a $\\texttt{SVC}$ classifier with the following parameters: $\\texttt{kernel='rbf'}$ and $\\texttt{C=2}$.\n",
    "### a) Preprocess the data using the function  $\\texttt{StandardScaler}$. Train this function with the training data and apply the transformation to the training and test sets. Use the pre-processed data in the following items.\n",
    "### b) Train the $\\texttt{SVC}$ classifier with the training data and plot the ROC curve of this classifier with the test data. Include in this plot the operating point of the classifier.\n",
    "### c)  Calibrate the classifier from the previous section to obtain one (1) false negative in the test data. After calibration, what is the minimum number of false positives obtained in the test set?¶"
   ]
  },
  {
   "cell_type": "markdown",
   "metadata": {},
   "source": [
    "## 2.a)"
   ]
  },
  {
   "cell_type": "code",
   "execution_count": 23,
   "metadata": {},
   "outputs": [],
   "source": [
    "from sklearn.svm import LinearSVC\n",
    "import sklearn.preprocessing as pp\n",
    "\n",
    "model=SVC(kernel=\"rbf\", C=2)\n",
    "\n",
    "sc=pp.StandardScaler().fit(X1)\n",
    "X1_S=sc.transform(X1)\n"
   ]
  },
  {
   "cell_type": "markdown",
   "metadata": {},
   "source": [
    "## 2.b)"
   ]
  },
  {
   "cell_type": "code",
   "execution_count": 37,
   "metadata": {},
   "outputs": [],
   "source": [
    "model.fit(X1, y1)\n",
    "\n",
    "sgd=SGDClassifier().fit(X1,y1)\n",
    "ytest_score=sgd.decision_function(X2)\n",
    "ytest_p=sgd.predict(X2)"
   ]
  },
  {
   "cell_type": "code",
   "execution_count": 38,
   "metadata": {},
   "outputs": [
    {
     "data": {
      "text/plain": [
       "[<matplotlib.lines.Line2D at 0x27c5e5092b0>]"
      ]
     },
     "execution_count": 38,
     "metadata": {},
     "output_type": "execute_result"
    },
    {
     "data": {
      "image/png": "[encoded data removed]",
      "text/plain": [
       "<Figure size 432x288 with 1 Axes>"
      ]
     },
     "metadata": {
      "needs_background": "light"
     },
     "output_type": "display_data"
    }
   ],
   "source": [
    "fpr,rec,thresh=roc_curve(ytest_p, ytest_score)\n",
    "plt.plot(fpr, rec, linestyle=\"--\")\n"
   ]
  },
  {
   "cell_type": "markdown",
   "metadata": {},
   "source": [
    "## 2.c)"
   ]
  },
  {
   "cell_type": "code",
   "execution_count": null,
   "metadata": {},
   "outputs": [],
   "source": []
  }
 ],
 "metadata": {
  "kernelspec": {
   "display_name": "Python 3",
   "language": "python",
   "name": "python3"
  },
  "language_info": {
   "codemirror_mode": {
    "name": "ipython",
    "version": 3
   },
   "file_extension": ".py",
   "mimetype": "text/x-python",
   "name": "python",
   "nbconvert_exporter": "python",
   "pygments_lexer": "ipython3",
   "version": "3.7.1"
  }
 },
 "nbformat": 4,
 "nbformat_minor": 4
}
