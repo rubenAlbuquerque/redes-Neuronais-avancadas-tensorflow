{
 "cells": [
  {
   "cell_type": "markdown",
   "metadata": {},
   "source": [
    "# In-Class Quiz Nº 3"
   ]
  },
  {
   "cell_type": "markdown",
   "metadata": {},
   "source": [
    "<hr style=\"border:1px  solid black\"> </hr>"
   ]
  },
  {
   "cell_type": "markdown",
   "metadata": {},
   "source": [
    "### (Fill in)\n",
    "## Name: Tiago Silva\n",
    "## Number: A47199"
   ]
  },
  {
   "cell_type": "markdown",
   "metadata": {},
   "source": [
    "<hr style=\"border:1px  solid black\"> </hr>"
   ]
  },
  {
   "cell_type": "markdown",
   "metadata": {},
   "source": [
    "## Develop and run the requested code in the cells immediately below the questions."
   ]
  },
  {
   "cell_type": "markdown",
   "metadata": {},
   "source": [
    "# IMPORTANTE:\n",
    "## Once completed, save this Jupyter notebook with the following name:\n",
    "## Axxxxx-Q3.ipynb (Axxxxx: student number)\n",
    "##  and then upload the file to the Moodle link provided for that purpose."
   ]
  },
  {
   "cell_type": "markdown",
   "metadata": {},
   "source": [
    "<hr style=\"border:2px solid black\"> </hr>"
   ]
  },
  {
   "cell_type": "markdown",
   "metadata": {},
   "source": [
    "# Data: CIFAR-10 (small version)"
   ]
  },
  {
   "cell_type": "code",
   "execution_count": 1,
   "metadata": {
    "ExecuteTime": {
     "end_time": "2023-05-18T18:28:06.230536095Z",
     "start_time": "2023-05-18T18:28:04.120748677Z"
    }
   },
   "outputs": [
    {
     "name": "stderr",
     "output_type": "stream",
     "text": [
      "2023-05-18 19:28:04.224365: I tensorflow/tsl/cuda/cudart_stub.cc:28] Could not find cuda drivers on your machine, GPU will not be used.\n",
      "2023-05-18 19:28:04.251776: I tensorflow/tsl/cuda/cudart_stub.cc:28] Could not find cuda drivers on your machine, GPU will not be used.\n",
      "2023-05-18 19:28:04.252317: I tensorflow/core/platform/cpu_feature_guard.cc:182] This TensorFlow binary is optimized to use available CPU instructions in performance-critical operations.\n",
      "To enable the following instructions: AVX2 FMA, in other operations, rebuild TensorFlow with the appropriate compiler flags.\n",
      "2023-05-18 19:28:04.944379: W tensorflow/compiler/tf2tensorrt/utils/py_utils.cc:38] TF-TRT Warning: Could not find TensorRT\n"
     ]
    }
   ],
   "source": [
    "import keras.datasets.cifar10 as cifar10\n",
    "import matplotlib.pyplot as plt\n",
    "import numpy as np\n",
    "from keras.preprocessing.image import ImageDataGenerator\n",
    "from sklearn.metrics import confusion_matrix\n",
    "from tensorflow import keras\n",
    "\n",
    "(X1, y1), (X2, y2) = cifar10.load_data()\n",
    "y1 = y1.squeeze()\n",
    "y2 = y2.squeeze()\n"
   ]
  },
  {
   "cell_type": "markdown",
   "metadata": {},
   "source": [
    " .batch(train_batch_size)\\# Question 1:\n",
    "## a) Select for training a subset of 20000 images from the matrix X1. Make sure that there are 2000 examples per class and that this new training data is shuffled. Also make shure that the test set (matrix X2) is ordered per class.\n",
    "## b) Use generators for training and validation as specified in the cell below. Build a test generator. Make sure that this generator does not shuffle the data. Use this generator to go through the test set and retreive the class of the examples in it. Plot the class of the 10000 examples in the test set.\n",
    "## c) Build (from scratch) a CNN with an architecture of your choice and with the following restrictions:\n",
    "### - Use 6 convolutional layers\n",
    "### - Use 3 pooling layers\n",
    "##  Build this network, compile and train the network using the  training and validation generators. Make sure to go through the whole training and validation sets in each epoch. Plot the  the losses and the accuracies curves for the training and validation sets during the training process. Train the network for 25 epochs.  Comment the results. \n",
    "## d) Use the test generator to obtain the confusion matrix and the total number of erros in the test set."
   ]
  },
  {
   "cell_type": "markdown",
   "metadata": {},
   "source": [
    "## 1.a)"
   ]
  },
  {
   "cell_type": "code",
   "execution_count": 2,
   "metadata": {
    "ExecuteTime": {
     "end_time": "2023-05-18T18:28:06.241268003Z",
     "start_time": "2023-05-18T18:28:06.232230109Z"
    }
   },
   "outputs": [
    {
     "data": {
      "text/plain": "(50000, 32, 32, 3)"
     },
     "execution_count": 2,
     "metadata": {},
     "output_type": "execute_result"
    }
   ],
   "source": [
    "X1.shape"
   ]
  },
  {
   "cell_type": "code",
   "execution_count": 3,
   "outputs": [
    {
     "data": {
      "text/plain": "2000.0"
     },
     "execution_count": 3,
     "metadata": {},
     "output_type": "execute_result"
    }
   ],
   "source": [
    "20000 / 10"
   ],
   "metadata": {
    "collapsed": false,
    "ExecuteTime": {
     "end_time": "2023-05-18T18:28:06.242157469Z",
     "start_time": "2023-05-18T18:28:06.236032403Z"
    }
   }
  },
  {
   "cell_type": "code",
   "execution_count": 4,
   "outputs": [
    {
     "data": {
      "text/plain": "(array([0, 1, 2, 3, 4, 5, 6, 7, 8, 9], dtype=uint8),\n array([5000, 5000, 5000, 5000, 5000, 5000, 5000, 5000, 5000, 5000]))"
     },
     "execution_count": 4,
     "metadata": {},
     "output_type": "execute_result"
    }
   ],
   "source": [
    "# numero por classe\n",
    "np.unique(y1, return_counts=True)"
   ],
   "metadata": {
    "collapsed": false,
    "ExecuteTime": {
     "end_time": "2023-05-18T18:28:06.333472788Z",
     "start_time": "2023-05-18T18:28:06.240858626Z"
    }
   }
  },
  {
   "cell_type": "code",
   "execution_count": 5,
   "outputs": [],
   "source": [
    "# ordenar por classes\n",
    "X1 = X1[np.argsort(y1)]\n",
    "y1 = y1[np.argsort(y1)]\n",
    "X2 = X2[np.argsort(y2)]\n",
    "y2 = y2[np.argsort(y2)]"
   ],
   "metadata": {
    "collapsed": false,
    "ExecuteTime": {
     "end_time": "2023-05-18T18:28:06.334912356Z",
     "start_time": "2023-05-18T18:28:06.280620414Z"
    }
   }
  },
  {
   "cell_type": "code",
   "execution_count": 6,
   "outputs": [],
   "source": [
    "# selecionar 2000 exemplos por classe\n",
    "X1_smaller = np.zeros((20000, 32, 32, 3))\n",
    "y1_smaller = np.zeros(20000)\n",
    "for i in range(10):\n",
    "    X1_smaller[i * 2000:(i + 1) * 2000] = X1[y1 == i][:2000]\n",
    "    y1_smaller[i * 2000:(i + 1) * 2000] = y1[y1 == i][:2000]\n"
   ],
   "metadata": {
    "collapsed": false,
    "ExecuteTime": {
     "end_time": "2023-05-18T18:28:06.508047454Z",
     "start_time": "2023-05-18T18:28:06.323385038Z"
    }
   }
  },
  {
   "cell_type": "code",
   "execution_count": 7,
   "outputs": [
    {
     "data": {
      "text/plain": "(20000, 32, 32, 3)"
     },
     "execution_count": 7,
     "metadata": {},
     "output_type": "execute_result"
    }
   ],
   "source": [
    "# verificar tamanho\n",
    "X1_smaller.shape"
   ],
   "metadata": {
    "collapsed": false,
    "ExecuteTime": {
     "end_time": "2023-05-18T18:28:06.560197282Z",
     "start_time": "2023-05-18T18:28:06.509239047Z"
    }
   }
  },
  {
   "cell_type": "code",
   "execution_count": 8,
   "outputs": [
    {
     "data": {
      "text/plain": "(array([0., 1., 2., 3., 4., 5., 6., 7., 8., 9.]),\n array([2000, 2000, 2000, 2000, 2000, 2000, 2000, 2000, 2000, 2000]))"
     },
     "execution_count": 8,
     "metadata": {},
     "output_type": "execute_result"
    }
   ],
   "source": [
    "# Validar quantos exemplos por classe\n",
    "np.unique(y1_smaller, return_counts=True)"
   ],
   "metadata": {
    "collapsed": false,
    "ExecuteTime": {
     "end_time": "2023-05-18T18:28:06.561486257Z",
     "start_time": "2023-05-18T18:28:06.551210595Z"
    }
   }
  },
  {
   "cell_type": "code",
   "execution_count": 9,
   "outputs": [],
   "source": [
    "# shuffle X1_smaller e y1_smaller\n",
    "idx = np.arange(20000)\n",
    "idx = np.random.permutation(idx)\n",
    "X1_smaller = X1_smaller[idx]\n",
    "y1_smaller = y1_smaller[idx]"
   ],
   "metadata": {
    "collapsed": false,
    "ExecuteTime": {
     "end_time": "2023-05-18T18:28:06.659673322Z",
     "start_time": "2023-05-18T18:28:06.552144965Z"
    }
   }
  },
  {
   "cell_type": "code",
   "execution_count": 10,
   "outputs": [
    {
     "data": {
      "text/plain": "<Figure size 300x300 with 1 Axes>",
      "image/png": "[encoded data removed]"
     },
     "metadata": {},
     "output_type": "display_data"
    }
   ],
   "source": [
    "plt.figure(figsize=(3, 3))\n",
    "plt.plot(y1_smaller)\n",
    "plt.show()"
   ],
   "metadata": {
    "collapsed": false,
    "ExecuteTime": {
     "end_time": "2023-05-18T18:28:06.831613962Z",
     "start_time": "2023-05-18T18:28:06.637181180Z"
    }
   }
  },
  {
   "cell_type": "code",
   "execution_count": 11,
   "outputs": [
    {
     "data": {
      "text/plain": "<Figure size 300x300 with 1 Axes>",
      "image/png": "[encoded data removed]"
     },
     "metadata": {},
     "output_type": "display_data"
    }
   ],
   "source": [
    "# Validar que y2 está ordenado por classes\n",
    "plt.figure(figsize=(3, 3))\n",
    "plt.plot(y2)\n",
    "plt.show()"
   ],
   "metadata": {
    "collapsed": false,
    "ExecuteTime": {
     "end_time": "2023-05-18T18:28:06.928507843Z",
     "start_time": "2023-05-18T18:28:06.829984679Z"
    }
   }
  },
  {
   "cell_type": "markdown",
   "metadata": {},
   "source": [
    "## 1.b)"
   ]
  },
  {
   "cell_type": "code",
   "execution_count": 12,
   "outputs": [
    {
     "data": {
      "text/plain": "15.0"
     },
     "execution_count": 12,
     "metadata": {},
     "output_type": "execute_result"
    }
   ],
   "source": [
    "X1_smaller.shape[0] * .75 / 1000"
   ],
   "metadata": {
    "collapsed": false,
    "ExecuteTime": {
     "end_time": "2023-05-18T18:28:06.929415935Z",
     "start_time": "2023-05-18T18:28:06.909777900Z"
    }
   }
  },
  {
   "cell_type": "code",
   "execution_count": 13,
   "outputs": [
    {
     "data": {
      "text/plain": "10.0"
     },
     "execution_count": 13,
     "metadata": {},
     "output_type": "execute_result"
    }
   ],
   "source": [
    "X1_smaller.shape[0] * .25 / 500"
   ],
   "metadata": {
    "collapsed": false,
    "ExecuteTime": {
     "end_time": "2023-05-18T18:28:06.930150601Z",
     "start_time": "2023-05-18T18:28:06.910108430Z"
    }
   }
  },
  {
   "cell_type": "code",
   "execution_count": 14,
   "outputs": [
    {
     "data": {
      "text/plain": "20.0"
     },
     "execution_count": 14,
     "metadata": {},
     "output_type": "execute_result"
    }
   ],
   "source": [
    "X2.shape[0] / 500"
   ],
   "metadata": {
    "collapsed": false,
    "ExecuteTime": {
     "end_time": "2023-05-18T18:28:06.930669553Z",
     "start_time": "2023-05-18T18:28:06.910305248Z"
    }
   }
  },
  {
   "cell_type": "code",
   "execution_count": 15,
   "metadata": {
    "ExecuteTime": {
     "end_time": "2023-05-18T18:28:07.316005115Z",
     "start_time": "2023-05-18T18:28:06.910494834Z"
    }
   },
   "outputs": [
    {
     "data": {
      "text/plain": "<Figure size 300x300 with 1 Axes>",
      "image/png": "[encoded data removed]"
     },
     "metadata": {},
     "output_type": "display_data"
    }
   ],
   "source": [
    "Y1 = keras.utils.to_categorical(y1_smaller)\n",
    "Y2 = keras.utils.to_categorical(y2)\n",
    "\n",
    "#matriz X1 tem que ter dimensão 20000x32x32x3\n",
    "dataGen = ImageDataGenerator(rescale=1. / 255, validation_split=.25)\n",
    "train_batch_size = 1000\n",
    "trainGen = dataGen.flow(X1_smaller, Y1, batch_size=train_batch_size, subset='training')\n",
    "valid_batch_size = 500\n",
    "validGen = dataGen.flow(X1_smaller, Y1, batch_size=valid_batch_size, subset='validation')\n",
    "\n",
    "#gerador do teste ...\n",
    "test_batch_size = 500\n",
    "dataGen_1 = ImageDataGenerator(rescale=1. / 255)\n",
    "testGen = dataGen_1.flow(X2, Y2, batch_size=test_batch_size, shuffle=False)\n",
    "gen_pos = testGen.batch_index\n",
    "# Validar que o generator de teste não faz shuffle\n",
    "test_y = list()\n",
    "for i in range(testGen.n // test_batch_size):\n",
    "    X, y = testGen.next()\n",
    "    test_y.extend(np.argmax(y, axis=1))\n",
    "plt.figure(figsize=(3, 3))\n",
    "plt.plot(np.arange(testGen.n), test_y)\n",
    "plt.show()\n",
    "\n",
    "# validar que demos a volta por todos os exemplos\n",
    "assert gen_pos == testGen.batch_index"
   ]
  },
  {
   "cell_type": "markdown",
   "metadata": {},
   "source": [
    "## 1.c)"
   ]
  },
  {
   "cell_type": "code",
   "execution_count": 16,
   "metadata": {
    "ExecuteTime": {
     "end_time": "2023-05-18T18:28:07.427247341Z",
     "start_time": "2023-05-18T18:28:07.336461954Z"
    }
   },
   "outputs": [],
   "source": [
    "cifar_cnn = keras.Sequential()\n",
    "cifar_cnn.add(keras.layers.Conv2D(32, (3, 3), activation='relu', input_shape=(32, 32, 3)))\n",
    "cifar_cnn.add(keras.layers.Conv2D(32, (3, 3), activation='relu'))\n",
    "cifar_cnn.add(keras.layers.AveragePooling2D((2, 2)))\n",
    "cifar_cnn.add(keras.layers.Conv2D(64, (3, 3), activation='relu'))\n",
    "cifar_cnn.add(keras.layers.Conv2D(64, (3, 3), activation='relu'))\n",
    "cifar_cnn.add(keras.layers.AveragePooling2D((2, 2)))\n",
    "cifar_cnn.add(keras.layers.Conv2D(128, (3, 3), activation='relu'))\n",
    "cifar_cnn.add(keras.layers.Conv2D(128, (1, 1), activation='relu'))\n",
    "cifar_cnn.add(keras.layers.AveragePooling2D((2, 2)))\n",
    "cifar_cnn.add(keras.layers.Flatten())\n",
    "cifar_cnn.add(keras.layers.Dense(128, activation='relu'))\n",
    "cifar_cnn.add(keras.layers.Dense(10, activation='softmax'))"
   ]
  },
  {
   "cell_type": "code",
   "execution_count": 17,
   "outputs": [
    {
     "name": "stdout",
     "output_type": "stream",
     "text": [
      "Model: \"sequential\"\n",
      "_________________________________________________________________\n",
      " Layer (type)                Output Shape              Param #   \n",
      "=================================================================\n",
      " conv2d (Conv2D)             (None, 30, 30, 32)        896       \n",
      "                                                                 \n",
      " conv2d_1 (Conv2D)           (None, 28, 28, 32)        9248      \n",
      "                                                                 \n",
      " average_pooling2d (AverageP  (None, 14, 14, 32)       0         \n",
      " ooling2D)                                                       \n",
      "                                                                 \n",
      " conv2d_2 (Conv2D)           (None, 12, 12, 64)        18496     \n",
      "                                                                 \n",
      " conv2d_3 (Conv2D)           (None, 10, 10, 64)        36928     \n",
      "                                                                 \n",
      " average_pooling2d_1 (Averag  (None, 5, 5, 64)         0         \n",
      " ePooling2D)                                                     \n",
      "                                                                 \n",
      " conv2d_4 (Conv2D)           (None, 3, 3, 128)         73856     \n",
      "                                                                 \n",
      " conv2d_5 (Conv2D)           (None, 3, 3, 128)         16512     \n",
      "                                                                 \n",
      " average_pooling2d_2 (Averag  (None, 1, 1, 128)        0         \n",
      " ePooling2D)                                                     \n",
      "                                                                 \n",
      " flatten (Flatten)           (None, 128)               0         \n",
      "                                                                 \n",
      " dense (Dense)               (None, 128)               16512     \n",
      "                                                                 \n",
      " dense_1 (Dense)             (None, 10)                1290      \n",
      "                                                                 \n",
      "=================================================================\n",
      "Total params: 173,738\n",
      "Trainable params: 173,738\n",
      "Non-trainable params: 0\n",
      "_________________________________________________________________\n"
     ]
    }
   ],
   "source": [
    "cifar_cnn.summary()"
   ],
   "metadata": {
    "collapsed": false,
    "ExecuteTime": {
     "end_time": "2023-05-18T18:28:07.489010311Z",
     "start_time": "2023-05-18T18:28:07.428050386Z"
    }
   }
  },
  {
   "cell_type": "code",
   "execution_count": 18,
   "outputs": [],
   "source": [
    "cifar_cnn.compile(optimizer='nadam', loss='categorical_crossentropy', metrics=['accuracy'])"
   ],
   "metadata": {
    "collapsed": false,
    "ExecuteTime": {
     "end_time": "2023-05-18T18:28:07.490422547Z",
     "start_time": "2023-05-18T18:28:07.471472282Z"
    }
   }
  },
  {
   "cell_type": "code",
   "execution_count": 19,
   "outputs": [
    {
     "name": "stdout",
     "output_type": "stream",
     "text": [
      "Epoch 1/25\n"
     ]
    },
    {
     "name": "stderr",
     "output_type": "stream",
     "text": [
      "2023-05-18 19:28:07.519484: I tensorflow/core/common_runtime/executor.cc:1197] [/device:CPU:0] (DEBUG INFO) Executor start aborting (this does not indicate an error and you can ignore this message): INVALID_ARGUMENT: You must feed a value for placeholder tensor 'Placeholder/_0' with dtype int32\n",
      "\t [[{{node Placeholder/_0}}]]\n"
     ]
    },
    {
     "name": "stdout",
     "output_type": "stream",
     "text": [
      "15/15 [==============================] - ETA: 0s - loss: 2.2862 - accuracy: 0.1319"
     ]
    },
    {
     "name": "stderr",
     "output_type": "stream",
     "text": [
      "2023-05-18 19:28:24.716674: I tensorflow/core/common_runtime/executor.cc:1197] [/device:CPU:0] (DEBUG INFO) Executor start aborting (this does not indicate an error and you can ignore this message): INVALID_ARGUMENT: You must feed a value for placeholder tensor 'Placeholder/_0' with dtype int32\n",
      "\t [[{{node Placeholder/_0}}]]\n"
     ]
    },
    {
     "name": "stdout",
     "output_type": "stream",
     "text": [
      "15/15 [==============================] - 18s 1s/step - loss: 2.2862 - accuracy: 0.1319 - val_loss: 2.2301 - val_accuracy: 0.1608\n",
      "Epoch 2/25\n",
      "15/15 [==============================] - 17s 1s/step - loss: 2.2096 - accuracy: 0.1951 - val_loss: 2.0983 - val_accuracy: 0.2286\n",
      "Epoch 3/25\n",
      "15/15 [==============================] - 17s 1s/step - loss: 2.0475 - accuracy: 0.2521 - val_loss: 1.9514 - val_accuracy: 0.2768\n",
      "Epoch 4/25\n",
      "15/15 [==============================] - 18s 1s/step - loss: 1.9202 - accuracy: 0.2914 - val_loss: 1.9215 - val_accuracy: 0.3038\n",
      "Epoch 5/25\n",
      "15/15 [==============================] - 17s 1s/step - loss: 1.8415 - accuracy: 0.3271 - val_loss: 1.9837 - val_accuracy: 0.2870\n",
      "Epoch 6/25\n",
      "15/15 [==============================] - 18s 1s/step - loss: 1.8050 - accuracy: 0.3417 - val_loss: 1.9529 - val_accuracy: 0.2870\n",
      "Epoch 7/25\n",
      "15/15 [==============================] - 16s 1s/step - loss: 1.7572 - accuracy: 0.3599 - val_loss: 1.7356 - val_accuracy: 0.3686\n",
      "Epoch 8/25\n",
      "15/15 [==============================] - 17s 1s/step - loss: 1.7035 - accuracy: 0.3848 - val_loss: 1.7207 - val_accuracy: 0.3808\n",
      "Epoch 9/25\n",
      "15/15 [==============================] - 18s 1s/step - loss: 1.6916 - accuracy: 0.3898 - val_loss: 1.8533 - val_accuracy: 0.3338\n",
      "Epoch 10/25\n",
      "15/15 [==============================] - 17s 1s/step - loss: 1.6472 - accuracy: 0.4080 - val_loss: 1.6330 - val_accuracy: 0.4038\n",
      "Epoch 11/25\n",
      "15/15 [==============================] - 17s 1s/step - loss: 1.5810 - accuracy: 0.4305 - val_loss: 1.7150 - val_accuracy: 0.3896\n",
      "Epoch 12/25\n",
      "15/15 [==============================] - 18s 1s/step - loss: 1.5788 - accuracy: 0.4298 - val_loss: 1.6165 - val_accuracy: 0.4142\n",
      "Epoch 13/25\n",
      "15/15 [==============================] - 17s 1s/step - loss: 1.5525 - accuracy: 0.4362 - val_loss: 1.5700 - val_accuracy: 0.4248\n",
      "Epoch 14/25\n",
      "15/15 [==============================] - 17s 1s/step - loss: 1.5079 - accuracy: 0.4522 - val_loss: 1.5394 - val_accuracy: 0.4384\n",
      "Epoch 15/25\n",
      "15/15 [==============================] - 17s 1s/step - loss: 1.5190 - accuracy: 0.4547 - val_loss: 1.5344 - val_accuracy: 0.4444\n",
      "Epoch 16/25\n",
      "15/15 [==============================] - 17s 1s/step - loss: 1.4842 - accuracy: 0.4626 - val_loss: 1.5157 - val_accuracy: 0.4480\n",
      "Epoch 17/25\n",
      "15/15 [==============================] - 18s 1s/step - loss: 1.4494 - accuracy: 0.4749 - val_loss: 1.5079 - val_accuracy: 0.4570\n",
      "Epoch 18/25\n",
      "15/15 [==============================] - 16s 1s/step - loss: 1.4469 - accuracy: 0.4755 - val_loss: 1.5017 - val_accuracy: 0.4546\n",
      "Epoch 19/25\n",
      "15/15 [==============================] - 16s 1s/step - loss: 1.4533 - accuracy: 0.4752 - val_loss: 1.5067 - val_accuracy: 0.4636\n",
      "Epoch 20/25\n",
      "15/15 [==============================] - 16s 1s/step - loss: 1.4079 - accuracy: 0.4880 - val_loss: 1.4603 - val_accuracy: 0.4694\n",
      "Epoch 21/25\n",
      "15/15 [==============================] - 16s 1s/step - loss: 1.4006 - accuracy: 0.4927 - val_loss: 1.4425 - val_accuracy: 0.4742\n",
      "Epoch 22/25\n",
      "15/15 [==============================] - 16s 1s/step - loss: 1.3668 - accuracy: 0.5018 - val_loss: 1.4611 - val_accuracy: 0.4762\n",
      "Epoch 23/25\n",
      "15/15 [==============================] - 16s 1s/step - loss: 1.3704 - accuracy: 0.5037 - val_loss: 1.4314 - val_accuracy: 0.4814\n",
      "Epoch 24/25\n",
      "15/15 [==============================] - 16s 1s/step - loss: 1.3646 - accuracy: 0.5049 - val_loss: 1.4165 - val_accuracy: 0.4948\n",
      "Epoch 25/25\n",
      "15/15 [==============================] - 16s 1s/step - loss: 1.3300 - accuracy: 0.5228 - val_loss: 1.4645 - val_accuracy: 0.4758\n"
     ]
    }
   ],
   "source": [
    "early_stop = keras.callbacks.EarlyStopping(monitor='val_loss', patience=5)\n",
    "best_model = keras.callbacks.ModelCheckpoint('best_model_cifar.h5', monitor='val_loss', save_best_only=True)\n",
    "train = cifar_cnn.fit(\n",
    "    trainGen, steps_per_epoch=trainGen.n // train_batch_size, epochs=25,\n",
    "    validation_data=validGen, validation_steps=validGen.n // valid_batch_size,\n",
    "    callbacks=[early_stop, best_model]\n",
    ")\n",
    "cifar_cnn = keras.models.load_model('best_model_cifar.h5')"
   ],
   "metadata": {
    "collapsed": false,
    "ExecuteTime": {
     "end_time": "2023-05-18T18:35:08.635358360Z",
     "start_time": "2023-05-18T18:28:07.471821456Z"
    }
   }
  },
  {
   "cell_type": "markdown",
   "metadata": {},
   "source": [
    "## 1.d)"
   ]
  },
  {
   "cell_type": "code",
   "execution_count": 26,
   "metadata": {
    "ExecuteTime": {
     "end_time": "2023-05-18T18:35:19.149010607Z",
     "start_time": "2023-05-18T18:35:17.104793759Z"
    }
   },
   "outputs": [
    {
     "name": "stdout",
     "output_type": "stream",
     "text": [
      " 2/20 [==>...........................] - ETA: 1s"
     ]
    },
    {
     "name": "stderr",
     "output_type": "stream",
     "text": [
      "2023-05-18 19:35:17.140058: I tensorflow/core/common_runtime/executor.cc:1197] [/device:CPU:0] (DEBUG INFO) Executor start aborting (this does not indicate an error and you can ignore this message): INVALID_ARGUMENT: You must feed a value for placeholder tensor 'Placeholder/_0' with dtype int32\n",
      "\t [[{{node Placeholder/_0}}]]\n"
     ]
    },
    {
     "name": "stdout",
     "output_type": "stream",
     "text": [
      "20/20 [==============================] - 2s 88ms/step\n",
      "[[505  60  36  18  28  15  16  25 200  97]\n",
      " [ 25 620  10  15   4   7  12  20  61 226]\n",
      " [ 87  21 351  87 124  83 105  71  30  41]\n",
      " [ 33  15  64 313  71 229 124  77  20  54]\n",
      " [ 35  17 108  71 341  70 162 133  31  32]\n",
      " [ 16   9  72 196  60 431  52 112  18  34]\n",
      " [  4  15  55 113  80  29 625  28  10  41]\n",
      " [ 29  13  25  72  62  90  19 607  17  66]\n",
      " [144  79   7  21  12  15  15  17 554 136]\n",
      " [ 30 128  15  18   7  13  24  45  85 635]]\n",
      "Total errors: 5018 of 10000\n",
      "Accuracy: 0.4982\n"
     ]
    },
    {
     "data": {
      "text/plain": "<Figure size 1000x500 with 2 Axes>",
      "image/png": "[encoded data removed]"
     },
     "metadata": {},
     "output_type": "display_data"
    }
   ],
   "source": [
    "cifar_cnn_y_pred = cifar_cnn.predict(testGen, steps=testGen.n // test_batch_size)\n",
    "cifar_cnn_y_pred = np.argmax(cifar_cnn_y_pred, axis=1)\n",
    "\n",
    "cifar_cm = confusion_matrix(y2, cifar_cnn_y_pred)\n",
    "print(cifar_cm)\n",
    "print(f'Total errors: {np.sum(cifar_cm) - np.trace(cifar_cm)} of {testGen.n}')\n",
    "print(f'Accuracy: {np.trace(cifar_cm) / testGen.n}')\n",
    "\n",
    "plt.figure(figsize=(10, 5))\n",
    "plt.subplot(1, 2, 2)\n",
    "plt.plot(train.history['accuracy'], color='b', label='Training accuracy')\n",
    "plt.plot(train.history['val_accuracy'], color='r', label='Validation accuracy')\n",
    "plt.title('Model accuracy')\n",
    "plt.ylabel('Accuracy')\n",
    "plt.subplot(1, 2, 1)\n",
    "plt.plot(train.history['loss'], color='b', label='Training loss')\n",
    "plt.plot(train.history['val_loss'], color='r', label='Validation loss')\n",
    "plt.title('Model loss')\n",
    "plt.ylabel('Loss')\n",
    "plt.show()\n"
   ]
  },
  {
   "cell_type": "markdown",
   "metadata": {},
   "source": [
    "Olhando para as curvas de loss e accuracy do modelo, podemos ver que o modelo não está a fazer overfitting, pois a accuracy e a loss do conjunto de validação não divergem muito do conjunto de treino. E é provavel que com mais epocas de treino o modelo conseguisse uma accuracy maior."
   ]
  },
  {
   "cell_type": "markdown",
   "source": [
    "# Question 2\n",
    "## Consider that we want to use transfer learning to build a CNN to tackle the problem. For the pre-trained CNN use MobileNetV2. Use only one Dense layer for the output of the network.\n",
    "### a)  Build and compile this network.\n",
    "### b)  Define new generators (for training, validation and testing) so that they perform the correct pre-process of he data so it can be used by the network.\n",
    "### c)  Train the network for 25 epochs and show the results. Print the confusion matrix and the total number of errors in the test set. Compare the results with the ones obtained in the previous question and state the possible reasons for the differences in performance."
   ],
   "metadata": {
    "collapsed": false
   }
  },
  {
   "cell_type": "markdown",
   "metadata": {},
   "source": [
    "## 2.a)"
   ]
  },
  {
   "cell_type": "code",
   "execution_count": 75,
   "outputs": [
    {
     "name": "stdout",
     "output_type": "stream",
     "text": [
      "WARNING:tensorflow:`input_shape` is undefined or non-square, or `rows` is not in [96, 128, 160, 192, 224]. Weights for input shape (224, 224) will be loaded as the default.\n"
     ]
    }
   ],
   "source": [
    "from keras.applications.mobilenet_v2 import MobileNetV2, preprocess_input\n",
    "mobilenet = MobileNetV2(include_top=False, weights='imagenet', input_shape=(32, 32, 3))\n",
    "mobilenet.trainable = False\n",
    "\n",
    "cnn_transfer = keras.Sequential()\n",
    "cnn_transfer.add(mobilenet)\n",
    "cnn_transfer.add(keras.layers.Flatten())\n",
    "cnn_transfer.add(keras.layers.Dense(10, activation='softmax'))"
   ],
   "metadata": {
    "collapsed": false,
    "ExecuteTime": {
     "end_time": "2023-05-18T19:03:25.010895313Z",
     "start_time": "2023-05-18T19:03:23.740295358Z"
    }
   }
  },
  {
   "cell_type": "code",
   "execution_count": 76,
   "outputs": [
    {
     "name": "stdout",
     "output_type": "stream",
     "text": [
      "Model: \"sequential_11\"\n",
      "_________________________________________________________________\n",
      " Layer (type)                Output Shape              Param #   \n",
      "=================================================================\n",
      " mobilenetv2_1.00_224 (Funct  (None, 1, 1, 1280)       2257984   \n",
      " ional)                                                          \n",
      "                                                                 \n",
      " flatten_10 (Flatten)        (None, 1280)              0         \n",
      "                                                                 \n",
      " dense_16 (Dense)            (None, 128)               163968    \n",
      "                                                                 \n",
      " dense_17 (Dense)            (None, 10)                1290      \n",
      "                                                                 \n",
      "=================================================================\n",
      "Total params: 2,423,242\n",
      "Trainable params: 165,258\n",
      "Non-trainable params: 2,257,984\n",
      "_________________________________________________________________\n"
     ]
    }
   ],
   "source": [
    "cnn_transfer.summary()"
   ],
   "metadata": {
    "collapsed": false,
    "ExecuteTime": {
     "end_time": "2023-05-18T19:03:25.058399367Z",
     "start_time": "2023-05-18T19:03:25.012007309Z"
    }
   }
  },
  {
   "cell_type": "code",
   "execution_count": 77,
   "outputs": [],
   "source": [
    "cnn_transfer.compile(optimizer='nadam', loss='categorical_crossentropy', metrics=['accuracy'])"
   ],
   "metadata": {
    "collapsed": false,
    "ExecuteTime": {
     "end_time": "2023-05-18T19:03:25.059006276Z",
     "start_time": "2023-05-18T19:03:25.056765693Z"
    }
   }
  },
  {
   "cell_type": "markdown",
   "metadata": {},
   "source": [
    "## 2.b)"
   ]
  },
  {
   "cell_type": "code",
   "execution_count": 78,
   "metadata": {
    "ExecuteTime": {
     "end_time": "2023-05-18T19:03:25.130498879Z",
     "start_time": "2023-05-18T19:03:25.057347354Z"
    }
   },
   "outputs": [],
   "source": [
    "transfer_data_gen = ImageDataGenerator(preprocessing_function=preprocess_input, validation_split=.25)\n",
    "transfer_data_gen_1 = ImageDataGenerator(preprocessing_function=preprocess_input)\n",
    "transfer_data_gen_aug = ImageDataGenerator(\n",
    "    preprocessing_function=preprocess_input,\n",
    "    validation_split=.25,\n",
    "    rotation_range=10,\n",
    "    width_shift_range=0.1, height_shift_range=0.1,\n",
    "    horizontal_flip=True, vertical_flip=False, fill_mode='nearest'\n",
    ")\n",
    "transfer_train_gen = transfer_data_gen_aug.flow(X1_smaller, Y1, batch_size=train_batch_size, subset='training')\n",
    "transfer_valid_gen = transfer_data_gen.flow(X1_smaller, Y1, batch_size=valid_batch_size, subset='validation')\n",
    "transfer_test_gen = transfer_data_gen_1.flow(X2, Y2, batch_size=test_batch_size, shuffle=False)"
   ]
  },
  {
   "cell_type": "markdown",
   "source": [],
   "metadata": {
    "collapsed": false
   }
  },
  {
   "cell_type": "markdown",
   "metadata": {},
   "source": [
    "## 2.c)"
   ]
  },
  {
   "cell_type": "code",
   "execution_count": 79,
   "metadata": {
    "ExecuteTime": {
     "end_time": "2023-05-18T19:07:16.581018479Z",
     "start_time": "2023-05-18T19:03:25.134172436Z"
    }
   },
   "outputs": [
    {
     "name": "stdout",
     "output_type": "stream",
     "text": [
      "Epoch 1/25\n"
     ]
    },
    {
     "name": "stderr",
     "output_type": "stream",
     "text": [
      "2023-05-18 20:03:25.408558: I tensorflow/core/common_runtime/executor.cc:1197] [/device:CPU:0] (DEBUG INFO) Executor start aborting (this does not indicate an error and you can ignore this message): INVALID_ARGUMENT: You must feed a value for placeholder tensor 'Placeholder/_0' with dtype int32\n",
      "\t [[{{node Placeholder/_0}}]]\n"
     ]
    },
    {
     "name": "stdout",
     "output_type": "stream",
     "text": [
      "15/15 [==============================] - ETA: 0s - loss: 2.2764 - accuracy: 0.1680"
     ]
    },
    {
     "name": "stderr",
     "output_type": "stream",
     "text": [
      "2023-05-18 20:03:35.135045: I tensorflow/core/common_runtime/executor.cc:1197] [/device:CPU:0] (DEBUG INFO) Executor start aborting (this does not indicate an error and you can ignore this message): INVALID_ARGUMENT: You must feed a value for placeholder tensor 'Placeholder/_0' with dtype int32\n",
      "\t [[{{node Placeholder/_0}}]]\n"
     ]
    },
    {
     "name": "stdout",
     "output_type": "stream",
     "text": [
      "15/15 [==============================] - 12s 683ms/step - loss: 2.2764 - accuracy: 0.1680 - val_loss: 2.2404 - val_accuracy: 0.2118\n",
      "Epoch 2/25\n",
      "15/15 [==============================] - 9s 604ms/step - loss: 2.2084 - accuracy: 0.2332 - val_loss: 2.1722 - val_accuracy: 0.2316\n",
      "Epoch 3/25\n",
      "15/15 [==============================] - 9s 614ms/step - loss: 2.1413 - accuracy: 0.2477 - val_loss: 2.1164 - val_accuracy: 0.2556\n",
      "Epoch 4/25\n",
      "15/15 [==============================] - 9s 610ms/step - loss: 2.0850 - accuracy: 0.2685 - val_loss: 2.0774 - val_accuracy: 0.2608\n",
      "Epoch 5/25\n",
      "15/15 [==============================] - 9s 612ms/step - loss: 2.0415 - accuracy: 0.2795 - val_loss: 2.0507 - val_accuracy: 0.2634\n",
      "Epoch 6/25\n",
      "15/15 [==============================] - 9s 596ms/step - loss: 2.0120 - accuracy: 0.2822 - val_loss: 2.0333 - val_accuracy: 0.2642\n",
      "Epoch 7/25\n",
      "15/15 [==============================] - 9s 595ms/step - loss: 1.9957 - accuracy: 0.2884 - val_loss: 2.0203 - val_accuracy: 0.2642\n",
      "Epoch 8/25\n",
      "15/15 [==============================] - 10s 647ms/step - loss: 1.9749 - accuracy: 0.2843 - val_loss: 2.0105 - val_accuracy: 0.2682\n",
      "Epoch 9/25\n",
      "15/15 [==============================] - 9s 617ms/step - loss: 1.9629 - accuracy: 0.2923 - val_loss: 2.0032 - val_accuracy: 0.2660\n",
      "Epoch 10/25\n",
      "15/15 [==============================] - 9s 604ms/step - loss: 1.9621 - accuracy: 0.2877 - val_loss: 1.9993 - val_accuracy: 0.2680\n",
      "Epoch 11/25\n",
      "15/15 [==============================] - 9s 599ms/step - loss: 1.9505 - accuracy: 0.2871 - val_loss: 1.9945 - val_accuracy: 0.2688\n",
      "Epoch 12/25\n",
      "15/15 [==============================] - 9s 630ms/step - loss: 1.9494 - accuracy: 0.2923 - val_loss: 1.9915 - val_accuracy: 0.2708\n",
      "Epoch 13/25\n",
      "15/15 [==============================] - 10s 640ms/step - loss: 1.9408 - accuracy: 0.2939 - val_loss: 1.9871 - val_accuracy: 0.2700\n",
      "Epoch 14/25\n",
      "15/15 [==============================] - 9s 628ms/step - loss: 1.9312 - accuracy: 0.2973 - val_loss: 1.9849 - val_accuracy: 0.2752\n",
      "Epoch 15/25\n",
      "15/15 [==============================] - 9s 636ms/step - loss: 1.9324 - accuracy: 0.2934 - val_loss: 1.9812 - val_accuracy: 0.2758\n",
      "Epoch 16/25\n",
      "15/15 [==============================] - 9s 598ms/step - loss: 1.9312 - accuracy: 0.2944 - val_loss: 1.9785 - val_accuracy: 0.2744\n",
      "Epoch 17/25\n",
      "15/15 [==============================] - 9s 597ms/step - loss: 1.9271 - accuracy: 0.2979 - val_loss: 1.9777 - val_accuracy: 0.2744\n",
      "Epoch 18/25\n",
      "15/15 [==============================] - 9s 595ms/step - loss: 1.9275 - accuracy: 0.2986 - val_loss: 1.9741 - val_accuracy: 0.2754\n",
      "Epoch 19/25\n",
      "15/15 [==============================] - 9s 606ms/step - loss: 1.9282 - accuracy: 0.2992 - val_loss: 1.9718 - val_accuracy: 0.2802\n",
      "Epoch 20/25\n",
      "15/15 [==============================] - 9s 577ms/step - loss: 1.9140 - accuracy: 0.3057 - val_loss: 1.9702 - val_accuracy: 0.2812\n",
      "Epoch 21/25\n",
      "15/15 [==============================] - 9s 593ms/step - loss: 1.9176 - accuracy: 0.3028 - val_loss: 1.9669 - val_accuracy: 0.2798\n",
      "Epoch 22/25\n",
      "15/15 [==============================] - 9s 601ms/step - loss: 1.9140 - accuracy: 0.3047 - val_loss: 1.9673 - val_accuracy: 0.2774\n",
      "Epoch 23/25\n",
      "15/15 [==============================] - 9s 607ms/step - loss: 1.9134 - accuracy: 0.3016 - val_loss: 1.9645 - val_accuracy: 0.2826\n",
      "Epoch 24/25\n",
      "15/15 [==============================] - 9s 586ms/step - loss: 1.9119 - accuracy: 0.3068 - val_loss: 1.9647 - val_accuracy: 0.2810\n",
      "Epoch 25/25\n",
      "15/15 [==============================] - 10s 639ms/step - loss: 1.9081 - accuracy: 0.3041 - val_loss: 1.9627 - val_accuracy: 0.2806\n"
     ]
    }
   ],
   "source": [
    "early_stop = keras.callbacks.EarlyStopping(monitor='val_loss', patience=5)\n",
    "best_model = keras.callbacks.ModelCheckpoint('best_model_transfer.h5', monitor='val_loss', save_best_only=True)\n",
    "transfer_train = cnn_transfer.fit(\n",
    "    transfer_train_gen, steps_per_epoch=transfer_train_gen.n // train_batch_size, epochs=25,\n",
    "    validation_data=transfer_valid_gen, validation_steps=transfer_valid_gen.n // valid_batch_size,\n",
    "    callbacks=[early_stop, best_model]\n",
    ")\n",
    "cnn_transfer = keras.models.load_model('best_model_transfer.h5')"
   ]
  },
  {
   "cell_type": "code",
   "execution_count": 80,
   "outputs": [
    {
     "name": "stderr",
     "output_type": "stream",
     "text": [
      "2023-05-18 20:07:16.613803: I tensorflow/core/common_runtime/executor.cc:1197] [/device:CPU:0] (DEBUG INFO) Executor start aborting (this does not indicate an error and you can ignore this message): INVALID_ARGUMENT: You must feed a value for placeholder tensor 'Placeholder/_0' with dtype int32\n",
      "\t [[{{node Placeholder/_0}}]]\n"
     ]
    },
    {
     "name": "stdout",
     "output_type": "stream",
     "text": [
      "20/20 [==============================] - 3s 120ms/step\n",
      "[[428  65  47  25  27  22  24  46 122 194]\n",
      " [ 45 196   7   7   5  28   6  16  28 662]\n",
      " [159  45 138  28  90  54 104  39  44 299]\n",
      " [ 49  79  42  64  33  95  79  26  19 514]\n",
      " [ 48  27  45  33 364  38 152 101  43 149]\n",
      " [ 39  49  34  39  38 112  56  24  12 597]\n",
      " [ 44  50  36  27 103  41 424  23  16 236]\n",
      " [ 37  35  31  19  68  47  25 199  50 489]\n",
      " [ 83  85  18   7  12  15   9  50 172 549]\n",
      " [ 28 104   5   7   7  18   6  24  38 763]]\n",
      "Total errors: 7140 of 10000\n",
      "Accuracy: 0.286\n"
     ]
    },
    {
     "data": {
      "text/plain": "<Figure size 1000x500 with 2 Axes>",
      "image/png": "[encoded data removed]"
     },
     "metadata": {},
     "output_type": "display_data"
    }
   ],
   "source": [
    "transfer_y_pred = cnn_transfer.predict(transfer_test_gen, steps=transfer_test_gen.n // test_batch_size)\n",
    "transfer_y_pred = np.argmax(transfer_y_pred, axis=1)\n",
    "\n",
    "transfer_cm = confusion_matrix(y2, transfer_y_pred)\n",
    "print(transfer_cm)\n",
    "print(f'Total errors: {np.sum(transfer_cm) - np.trace(transfer_cm)} of {transfer_test_gen.n}')\n",
    "print(f'Accuracy: {np.trace(transfer_cm) / transfer_test_gen.n}')\n",
    "\n",
    "plt.figure(figsize=(10, 5))\n",
    "plt.subplot(1, 2, 2)\n",
    "plt.plot(transfer_train.history['accuracy'], color='b', label='Training accuracy')\n",
    "plt.plot(transfer_train.history['val_accuracy'], color='r', label='Validation accuracy')\n",
    "plt.title('Model accuracy')\n",
    "plt.ylabel('Accuracy')\n",
    "plt.subplot(1, 2, 1)\n",
    "plt.plot(transfer_train.history['loss'], color='b', label='Training loss')\n",
    "plt.plot(transfer_train.history['val_loss'], color='r', label='Validation loss')\n",
    "plt.title('Model loss')\n",
    "plt.ylabel('Loss')\n",
    "plt.show()"
   ],
   "metadata": {
    "collapsed": false,
    "ExecuteTime": {
     "end_time": "2023-05-18T19:07:19.617087201Z",
     "start_time": "2023-05-18T19:07:16.583602510Z"
    }
   }
  },
  {
   "cell_type": "markdown",
   "source": [
    "Olhando para as curvas de loss e accuracy do modelo, podemos ver que o modelo começa a fazer overfitting, pois a accuracy e a loss do conjunto de validação começam a divergir do conjunto de treino, ao contrário do modelo anterior. É provavel que ainda seja possivel aumentar a accuracy do modelo com mais epocas de treino, mas o modelo anterior parece ser mais eficaz.\n",
    "\n",
    "Apesar de esperar que o modelo com transfer learning fosse mais eficaz, o modelo anterior parece ser mais eficaz. Isto pode ser devido ao modelo com transfer learning ter sido treinado com imagens de 224x224, enquanto o modelo anterior foi treinado com imagens de 32x32. Isto pode ter levado a que o modelo com transfer learning não tenha conseguido aprender tão bem os features das imagens, pois as imagens de 32x32 são muito mais pequenas que as de 224x224."
   ],
   "metadata": {
    "collapsed": false
   }
  }
 ],
 "metadata": {
  "kernelspec": {
   "display_name": "Python 3",
   "language": "python",
   "name": "python3"
  },
  "language_info": {
   "codemirror_mode": {
    "name": "ipython",
    "version": 3
   },
   "file_extension": ".py",
   "mimetype": "text/x-python",
   "name": "python",
   "nbconvert_exporter": "python",
   "pygments_lexer": "ipython3",
   "version": "3.6.9"
  }
 },
 "nbformat": 4,
 "nbformat_minor": 4
}
