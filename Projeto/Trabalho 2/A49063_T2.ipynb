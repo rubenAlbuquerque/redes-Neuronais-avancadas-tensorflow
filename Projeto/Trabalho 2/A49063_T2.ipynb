{
 "cells": [
  {
   "cell_type": "code",
   "execution_count": 18,
   "metadata": {},
   "outputs": [],
   "source": [
    "import pickle\n",
    "import numpy as np\n",
    "import matplotlib.pyplot as plt\n",
    "import tensorflow as tf\n",
    "import tensorflow.keras as keras\n",
    "import numpy.random as rd\n"
   ]
  },
  {
   "cell_type": "markdown",
   "metadata": {},
   "source": [
    "### Load data"
   ]
  },
  {
   "cell_type": "code",
   "execution_count": 19,
   "metadata": {},
   "outputs": [],
   "source": [
    "D=pickle.load(open('xorData.p','rb'))\n",
    "\n",
    "#print(D['data'])\n",
    "#print(D['target'])"
   ]
  },
  {
   "cell_type": "markdown",
   "metadata": {},
   "source": [
    "### (a) Implemente um algoritmo de treino da rede. Neste devera ser possıvel escolher o valor do passo de adaptacao, η, o termo de momento, α, bem como o numero de iteracoes de adaptacao."
   ]
  },
  {
   "cell_type": "code",
   "execution_count": null,
   "metadata": {},
   "outputs": [],
   "source": []
  },
  {
   "cell_type": "markdown",
   "metadata": {},
   "source": [
    "### (b) Treine uma rede com uma unidade escondida. Execute varias vezes o treino de modo a escolher os valores que achar apropriados para η, α e para o numero de iteracoes. Faca um grafico da evolucao do erro ao longo do treino com os parametros escolhidos. \n",
    "### Visualize o conjunto de treino e os erros obtidos neste conjunto. Fac¸a um grafico da funcao de saıda da rede, usando o comando plot wireframe, para uma grelha de 50 × 50 compreendida no intervalo [−1, 2]."
   ]
  },
  {
   "cell_type": "code",
   "execution_count": null,
   "metadata": {},
   "outputs": [],
   "source": []
  },
  {
   "cell_type": "markdown",
   "metadata": {},
   "source": [
    "### (c) Repita a alınea 1.b) para uma rede com 10 unidades escondidas."
   ]
  },
  {
   "cell_type": "code",
   "execution_count": null,
   "metadata": {},
   "outputs": [],
   "source": []
  },
  {
   "cell_type": "markdown",
   "metadata": {},
   "source": [
    "### (d) Repita a alınea 1.b) para uma rede com 50 unidades escondidas."
   ]
  },
  {
   "cell_type": "code",
   "execution_count": null,
   "metadata": {},
   "outputs": [],
   "source": []
  },
  {
   "cell_type": "markdown",
   "metadata": {},
   "source": [
    "## 2. Pretende-se implementar, treinar e testar varias redes MLP com a base de dados CIFAR-10\n",
    "### (a) Treine e avalie uma rede MLP com 10 camadas escondidas e 100 unidade por camada. Use a func¸ao e RELU para as ativac¸ ˜ oes das camadas escondidas, a funcao softmax para a camada de saıda, e a otimizac¸ao Nadam."
   ]
  },
  {
   "cell_type": "code",
   "execution_count": null,
   "metadata": {},
   "outputs": [],
   "source": []
  },
  {
   "cell_type": "markdown",
   "metadata": {},
   "source": [
    "### (b) Treine uma rede MLP a sua escolha tendo como objetivo chegar a uma probabilidade de acerto acima dos 50% no conjunto de teste. Tenha em conta os seguinte pontos:"
   ]
  },
  {
   "cell_type": "code",
   "execution_count": null,
   "metadata": {},
   "outputs": [],
   "source": []
  }
 ],
 "metadata": {
  "kernelspec": {
   "display_name": "Python 3",
   "language": "python",
   "name": "python3"
  },
  "language_info": {
   "codemirror_mode": {
    "name": "ipython",
    "version": 3
   },
   "file_extension": ".py",
   "mimetype": "text/x-python",
   "name": "python",
   "nbconvert_exporter": "python",
   "pygments_lexer": "ipython3",
   "version": "3.7.1"
  }
 },
 "nbformat": 4,
 "nbformat_minor": 2
}
